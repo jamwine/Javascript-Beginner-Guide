{
 "cells": [
  {
   "cell_type": "markdown",
   "id": "de2908a7",
   "metadata": {},
   "source": [
    "# JavaScript Basics"
   ]
  },
  {
   "cell_type": "markdown",
   "id": "3ce77166",
   "metadata": {},
   "source": [
    "* By utilizing the **%%javascript** magic, we can run Javascript on Jupyter Notebooks and use the **console** for viewing output.\n",
    "\n",
    "\n",
    "* Right-click and select **Inspect** to open the console.\n",
    "\n",
    "<img width=\"860%\" src=\"imgs/jupyter_console.png\" alt=\"jupyter_console.png\">"
   ]
  },
  {
   "cell_type": "markdown",
   "id": "713d8b50",
   "metadata": {
    "heading_collapsed": true
   },
   "source": [
    "## Comments in Javascript"
   ]
  },
  {
   "cell_type": "markdown",
   "id": "3371e196",
   "metadata": {
    "hidden": true
   },
   "source": [
    "There are two varieties of comments in JavaScript: \n",
    "\n",
    "* Single-line comments \n",
    "* Multi-line comments"
   ]
  },
  {
   "cell_type": "code",
   "execution_count": null,
   "id": "2d2c74e0",
   "metadata": {
    "hidden": true
   },
   "outputs": [],
   "source": [
    "%%javascript\n",
    "\n",
    "// Single-line comment, all the content of this cell will be interpreted as Javascript code"
   ]
  },
  {
   "cell_type": "code",
   "execution_count": null,
   "id": "8e354fff",
   "metadata": {
    "hidden": true
   },
   "outputs": [],
   "source": [
    "%%javascript\n",
    "\n",
    "/*\n",
    "this is a multi-line comment\n",
    "the code within this cell will be interpreted as Javascript code\n",
    "*/\n",
    "\n",
    "console.log(\"Hello from Jupyter Notebook!\");"
   ]
  },
  {
   "cell_type": "code",
   "execution_count": null,
   "id": "b0ee984b",
   "metadata": {
    "hidden": true
   },
   "outputs": [],
   "source": [
    "%%javascript\n",
    "\n",
    "// Styling the console output by using valid CSS code\n",
    "console.log(\"%cHello from Jupyter Notebook!\", \"color: white; font-size: 15px\");"
   ]
  },
  {
   "cell_type": "markdown",
   "id": "99b8a1c8",
   "metadata": {
    "hidden": true
   },
   "source": [
    "Adding `%c` right after the `\"` character allowed us to style the words in the console output."
   ]
  },
  {
   "cell_type": "markdown",
   "id": "af9947c2",
   "metadata": {
    "heading_collapsed": true
   },
   "source": [
    "## Literals and Indentifiers"
   ]
  },
  {
   "cell_type": "markdown",
   "id": "106c912c",
   "metadata": {
    "hidden": true
   },
   "source": [
    "A **Literal** is a value that is written in the source code, for example, a **number**, a **string**, a **boolean** or also more advanced constructs, like **Object Literals** or **Array Literals**:\n",
    "```\n",
    "5\n",
    "'Test'\n",
    "true\n",
    "['a', 'b']\n",
    "{color: 'red', shape: 'Rectangle'}\n",
    "```\n",
    "\n",
    "An **identifier** is a sequence of characters that can be used to identify a **variable**, a **function**, an **object**. It can start with a *letter*, the *dollar sign $* or an *underscore _* , and it can contain *digits*. Using *Unicode*, a letter can be any allowed char, for example, an *emoji 😄*.\n",
    "\n",
    "\n",
    "```\n",
    "Test\n",
    "test\n",
    "TEST\n",
    "_test\n",
    "$test\n",
    "Test1\n",
    "```\n",
    "\n",
    "The **dollar sign** is commonly used to reference **DOM elements**. \n",
    "\n",
    "Some names are reserved for JavaScript internal use, and we can't use them as identifiers."
   ]
  },
  {
   "cell_type": "markdown",
   "id": "47493a73",
   "metadata": {
    "heading_collapsed": true
   },
   "source": [
    "## Variable Declaration - var, let, const"
   ]
  },
  {
   "cell_type": "markdown",
   "id": "b3292e98",
   "metadata": {
    "hidden": true
   },
   "source": [
    "JavaScript is **case sensitive**. A **variable** named `something` is different from `Something`.\n"
   ]
  },
  {
   "cell_type": "code",
   "execution_count": null,
   "id": "4c1b129f",
   "metadata": {
    "hidden": true
   },
   "outputs": [],
   "source": [
    "%%javascript\n",
    "\n",
    "// Defining variables x, y, z\n",
    "\n",
    "var x = 10; // integer\n",
    "var y = true; // boolean\n",
    "var z = 'Learn'; // string\n",
    "var course = \"JavaScript is interesting\"\n",
    "\n",
    "// Printing variables on console output in a single line\n",
    "console.log(x, y, z, course);"
   ]
  },
  {
   "cell_type": "markdown",
   "id": "6463463a",
   "metadata": {
    "hidden": true
   },
   "source": [
    "Strings can be specified using both single or double quotes."
   ]
  },
  {
   "cell_type": "code",
   "execution_count": null,
   "id": "12eee278",
   "metadata": {
    "hidden": true
   },
   "outputs": [],
   "source": [
    "%%javascript\n",
    "\n",
    "var a; // a value's is undefined (by default)\n",
    "var b = null; // b value's is defined as null\n",
    "var c = \"\"; // c has an empty value (blank)\n",
    "\n",
    "console.log(a, b);"
   ]
  },
  {
   "cell_type": "code",
   "execution_count": null,
   "id": "1b60e524",
   "metadata": {
    "hidden": true
   },
   "outputs": [],
   "source": [
    "%%javascript\n",
    "\n",
    "var message_1 = 'Welcome Jamwine..';\n",
    "var message_2 = \"Hello from Jupyter Notebook!\";\n",
    "\n",
    "console.log(message_1, message_2);"
   ]
  },
  {
   "cell_type": "code",
   "execution_count": null,
   "id": "a8505bb4",
   "metadata": {
    "hidden": true
   },
   "outputs": [],
   "source": [
    "%%javascript\n",
    "\n",
    "var name = \"Jamwine\";\n",
    "\n",
    "// concatenating strings using + operator\n",
    "var message_1 = \"Welcome \" + name + \"..\";\n",
    "var message_2 = \"Hello from Jupyter Notebook!\"\n",
    "\n",
    "/* Use backticks (``) for accessing variables within strings.\n",
    "   To access a variable: wrap it in curly braces ({}) preceded by a dollar sign ($).\n",
    "   For example: `Hey ${name}..`\n",
    "*/\n",
    "var message_3 = `How are you ${name}?`;\n",
    "\n",
    "console.log(message_1, message_2, '\\n', message_3);"
   ]
  },
  {
   "cell_type": "markdown",
   "id": "3059ae81",
   "metadata": {
    "hidden": true
   },
   "source": [
    "These variables are called **placeholders** within the string which are replaced with the values of the variables."
   ]
  },
  {
   "cell_type": "code",
   "execution_count": null,
   "id": "a55b7c9c",
   "metadata": {
    "hidden": true
   },
   "outputs": [],
   "source": [
    "%%javascript\n",
    "\n",
    "var name = \"Jamwine\"\n",
    "var greeting = \"Hey\"\n",
    "var message = `%c${greeting} ${name}!`\n",
    "var css_style = \"color: white; font-size: 20px\"\n",
    "\n",
    "console.log(message, css_style)\n",
    "\n",
    "// Greeting message is changed, `var` keyword is not required now\n",
    "greeting = \"Hi\"\n",
    "message = `%c${greeting} ${name}!`\n",
    "\n",
    "console.log(message, css_style)"
   ]
  },
  {
   "cell_type": "markdown",
   "id": "d05f48e2",
   "metadata": {
    "heading_collapsed": true,
    "hidden": true
   },
   "source": [
    "### Scope of `var`, `let` and `const`"
   ]
  },
  {
   "cell_type": "markdown",
   "id": "20c9385d",
   "metadata": {
    "hidden": true
   },
   "source": [
    "The scopes of all these keywords `var`, `let` and `const` are mentioned below:\n",
    "* **var**: Function in which the variable is declared\n",
    "* **let**: Block in which the variable is declared\n",
    "* **const**: Block in which the variable is declared\n",
    "\n",
    "Block scopes are what we get when we use `if statements`, `for statements` or write `code inside curly brackets`."
   ]
  },
  {
   "cell_type": "code",
   "execution_count": null,
   "id": "dc876aa9",
   "metadata": {
    "hidden": true
   },
   "outputs": [],
   "source": [
    "%%javascript\n",
    "\n",
    "for (var i=0; i<5 ; i++){\n",
    "    console.log(i);\n",
    "}\n",
    "console.log(i);\n"
   ]
  },
  {
   "cell_type": "code",
   "execution_count": null,
   "id": "d81ece27",
   "metadata": {
    "hidden": true
   },
   "outputs": [],
   "source": [
    "%%javascript\n",
    "\n",
    "for (let i=0; i<5 ; i++){\n",
    "    console.log(i);\n",
    "}\n",
    "console.log(i); // this will throw error as i is not defined outside `for` loop using `let`\n"
   ]
  },
  {
   "cell_type": "markdown",
   "id": "b1b42c08",
   "metadata": {
    "heading_collapsed": true,
    "hidden": true
   },
   "source": [
    "### var"
   ]
  },
  {
   "cell_type": "code",
   "execution_count": null,
   "id": "d94aaccb",
   "metadata": {
    "hidden": true
   },
   "outputs": [],
   "source": [
    "%%javascript\n",
    "\n",
    "var name = \"Jam\"\n",
    "console.log(name)\n",
    "\n",
    "name = \"wine\"\n",
    "console.log(name)\n",
    "\n",
    "var name = \"Jamwine\"\n",
    "console.log(name)"
   ]
  },
  {
   "cell_type": "markdown",
   "id": "cf37d785",
   "metadata": {
    "heading_collapsed": true,
    "hidden": true
   },
   "source": [
    "### let"
   ]
  },
  {
   "cell_type": "code",
   "execution_count": null,
   "id": "cbea1ad7",
   "metadata": {
    "hidden": true
   },
   "outputs": [],
   "source": [
    "%%javascript\n",
    "\n",
    "let name = \"Jam\"\n",
    "console.log(name)\n",
    "\n",
    "name = \"wine\"\n",
    "console.log(name)\n",
    "\n",
    "// This will throw a SyntaxError, as the identifier 'name' has already been declared\n",
    "let name = \"Jamwine\"\n",
    "console.log(name)"
   ]
  },
  {
   "cell_type": "markdown",
   "id": "97b5451d",
   "metadata": {
    "heading_collapsed": true,
    "hidden": true
   },
   "source": [
    "### const"
   ]
  },
  {
   "cell_type": "markdown",
   "id": "0948d2b5",
   "metadata": {
    "hidden": true
   },
   "source": [
    "The variables assigned using **const** are `read-only` which means that once they are initialized using **const**, they cannot be reassigned."
   ]
  },
  {
   "cell_type": "code",
   "execution_count": null,
   "id": "a600041f",
   "metadata": {
    "hidden": true
   },
   "outputs": [],
   "source": [
    "%%javascript\n",
    "\n",
    "const name = \"Jam\"\n",
    "console.log(name)\n",
    "\n",
    "// This will throw a TypeError, as the assignment to constant variable is not allowed\n",
    "name = \"wine\"\n",
    "console.log(name)"
   ]
  },
  {
   "cell_type": "markdown",
   "id": "499dfac1",
   "metadata": {
    "hidden": true
   },
   "source": [
    "### Rule of Thumb"
   ]
  },
  {
   "cell_type": "markdown",
   "id": "3f1ef2c9",
   "metadata": {
    "hidden": true
   },
   "source": [
    "* Don’t use `var`, because `let` and `const` is more specific\n",
    "* Default to `const`, because it cannot be re-assigned or re-declared\n",
    "* Use `let` when we want to re-assign the variable in future\n",
    "* Always prefer using `let over var` and `const over let`\n",
    "\n",
    "While **let** is usually used in a `for loop` for incrementing the iterator, **const** is normally used for keeping JavaScript variables `unchanged`. Even though it is possible to change the inner properties of objects and arrays when using const, the variable declaration shows the intent of keeping the variable unchanged."
   ]
  },
  {
   "cell_type": "markdown",
   "id": "491223e5",
   "metadata": {
    "heading_collapsed": true
   },
   "source": [
    "## Types"
   ]
  },
  {
   "cell_type": "markdown",
   "id": "626910ac",
   "metadata": {
    "hidden": true
   },
   "source": [
    "Variables in JavaScript do not have any **type** attached, they are **untyped**. There are two main kinds of types: **primitive types** and **object types**.\n",
    "\n",
    "**Primitive types** are\n",
    "* numbers\n",
    "* strings\n",
    "* booleans\n",
    "* symbols\n",
    "\n",
    "And two **special types**: `null` and `undefined`.\n",
    "\n",
    "\n",
    "Any value that's not of a primitive type (a string, a number, a boolean, null or undefined) is an **object**.\n",
    "Object types have **properties** and also have **methods** that can act on those properties."
   ]
  },
  {
   "cell_type": "markdown",
   "id": "927c57dc",
   "metadata": {
    "heading_collapsed": true
   },
   "source": [
    "## Binary Operators"
   ]
  },
  {
   "cell_type": "markdown",
   "id": "8042e496",
   "metadata": {
    "heading_collapsed": true,
    "hidden": true
   },
   "source": [
    "### Arithmetic Operations"
   ]
  },
  {
   "cell_type": "code",
   "execution_count": null,
   "id": "a89a51e3",
   "metadata": {
    "hidden": true
   },
   "outputs": [],
   "source": [
    "%%javascript\n",
    "\n",
    "console.log(\"****Arithmetic Operators****\\n\")\n",
    "\n",
    "var a = 11 + 5;  // addition\n",
    "console.log(`Addition 11+5 :${a}`);\n",
    "\n",
    "var b = 11 - 5  // subtraction\n",
    "console.log(`Subtraction 11-5 :`, b)\n",
    "\n",
    "var c = 11 * 5  // multiplication\n",
    "console.log(`Multiplication 11*5 :`, c)\n",
    "\n",
    "var d = 11 / 5  // division\n",
    "console.log(`Division 11/5 :`, d)\n",
    "\n",
    "var e = 11 % 5  // (modulus) returns remainder as result\n",
    "console.log(`Division (% returns remainder) 11%5 :`, e)\n",
    "\n",
    "var f = 11**5  // exponents\n",
    "console.log(`Exponent 11**5 :`, f)\n",
    "\n",
    "var g; // g is undefined\n",
    "console.log(`g+5 :`, g+5) // returns NaN"
   ]
  },
  {
   "cell_type": "code",
   "execution_count": null,
   "id": "683a6ef5",
   "metadata": {
    "hidden": true
   },
   "outputs": [],
   "source": [
    "%%javascript\n",
    "\n",
    "console.log('1 % 0:', `${1 % 0}`) // NaN\n",
    "console.log('-1 % 0:', `${-1 % 0}`) // NaN"
   ]
  },
  {
   "cell_type": "code",
   "execution_count": null,
   "id": "ff55ede2",
   "metadata": {
    "hidden": true
   },
   "outputs": [],
   "source": [
    "%%javascript\n",
    "\n",
    "console.log(\"\\n****Assignment Operators****\\n\")\n",
    "var x = 3;\n",
    "console.log(\"x = \" + x)\n",
    "console.log(\"x += 1 gives x = \" + (x+=1)) // adds 1\n",
    "console.log(\"x -= 1 gives x = \" + (x-=1)) // subtracts 1\n",
    "console.log(\"x *= 3 gives x = \" + (x*=3)) // multiplies 3 with x"
   ]
  },
  {
   "cell_type": "markdown",
   "id": "31951d95",
   "metadata": {
    "heading_collapsed": true,
    "hidden": true
   },
   "source": [
    "### Boolean Operations"
   ]
  },
  {
   "cell_type": "markdown",
   "id": "7fc22db4",
   "metadata": {
    "hidden": true
   },
   "source": [
    "* Logical **AND** operator: `&&`\n",
    "\n",
    "* Logical **OR** operator: `||` \n",
    "\n",
    "* Logical **NOT** operator: `!` "
   ]
  },
  {
   "cell_type": "code",
   "execution_count": null,
   "id": "1c08c942",
   "metadata": {
    "hidden": true
   },
   "outputs": [],
   "source": [
    "%%javascript\n",
    "\n",
    "console.log(\"\\n****Comparison Operators****\")\n",
    "\n",
    "console.log(`11 is greater than 5: ${11 > 5}`); // greater than\n",
    "console.log(`11 is less than 5: ${11 < 5}`); // less than\n",
    "\n",
    "console.log(`11 is lesser than or equal to  5: ${11 <= 5}`)  // less than equal to\n",
    "console.log(`11 is greater than or equal to 5: ${11 >= 5}`)  // greater than equal to\n",
    "\n",
    "console.log(`11 is not equal to 5: ${11 != 5}`)  // not equal to"
   ]
  },
  {
   "cell_type": "code",
   "execution_count": null,
   "id": "36fe80d2",
   "metadata": {
    "hidden": true
   },
   "outputs": [],
   "source": [
    "%%javascript\n",
    "\n",
    "console.log(\"\\n****Logical Operators****\\n\")\n",
    "\n",
    "/* AND: Returns true only if both conditions are true\n",
    "   OR: Returns true if either one of both the conditions is true\n",
    "   NOT: reverses the result\n",
    "*/\n",
    "\n",
    "console.log(` 11>5 || 11<5: ${11 > 5 || 11 < 5}`,'\\n',\n",
    "            `11>5 && 11<5: ${11 > 5 && 11 < 5}`)\n",
    "\n",
    "console.log(` false || true: ${false || true}`,'\\n',\n",
    "            `false && true: ${false && true}`)\n",
    "\n",
    "console.log(` !true: ${!true}`,'\\n',\n",
    "            `!false: ${!false}`)"
   ]
  },
  {
   "cell_type": "markdown",
   "id": "aa45b724",
   "metadata": {
    "heading_collapsed": true,
    "hidden": true
   },
   "source": [
    "### Bitwise Operations"
   ]
  },
  {
   "cell_type": "code",
   "execution_count": null,
   "id": "ea2dfdf5",
   "metadata": {
    "hidden": true
   },
   "outputs": [],
   "source": [
    "%%javascript\n",
    "\n",
    "//Bitwise Operator\n",
    "console.log(\"\\n****Bitwise Operators****\")\n",
    "console.log(\"Bitwise AND of 5 and 1: \" + (5 & 1)) //returns 1\n",
    "console.log(\"Bitwise OR of 5 and 1: \" + (5 | 1)) // returns 5 \n",
    "console.log(\"Bitwise XOR of 5 and 1: \" + (5 ^ 1)) //returns 4"
   ]
  },
  {
   "cell_type": "markdown",
   "id": "be31f272",
   "metadata": {
    "heading_collapsed": true,
    "hidden": true
   },
   "source": [
    "### Conditional Operators `? :`"
   ]
  },
  {
   "cell_type": "code",
   "execution_count": null,
   "id": "5e4bf22d",
   "metadata": {
    "hidden": true
   },
   "outputs": [],
   "source": [
    "%%javascript\n",
    "\n",
    "//Ternary Operator\n",
    "console.log(\"\\n ****Conditional Operator****\")\n",
    "var num_of_months = 13\n",
    "var ans = (num_of_months > 12) ? \"Incorrect\" : \"Correct\"\n",
    "console.log(ans) //Returns Invalid"
   ]
  },
  {
   "cell_type": "markdown",
   "id": "f059e1fc",
   "metadata": {
    "heading_collapsed": true,
    "hidden": true
   },
   "source": [
    "### `==` vs `===`"
   ]
  },
  {
   "cell_type": "markdown",
   "id": "56fef8af",
   "metadata": {
    "hidden": true
   },
   "source": [
    "The operator `===` is commonly referred as **Deep Equals** in JavaScript. The most notable difference between **equality operator (==)** and the **strict equality (===)** operator is that the **strict equality operator does not attempt type conversion**. Instead, the strict equality operator always returns `false` if both types are not the same.."
   ]
  },
  {
   "cell_type": "markdown",
   "id": "135de283",
   "metadata": {
    "hidden": true
   },
   "source": [
    "The **equality operator (==)** checks whether its two operands are equal, returning a Boolean result. \n",
    "* If the operands are `both objects`, return **true** only if both operands **reference the same object**.\n",
    "* If one operand is `null` and the other is `undefined`, return **true**.\n",
    "* If the operands are of different types, try to convert them to the same type before comparing:\n",
    "    * When comparing a `number` to a `string`, try to convert the string to a numeric value.\n",
    "    * If one of the operands is a `boolean`, convert the boolean operand to `1 if it is true` and `+0 if it is false`.\n",
    "    * If one of the operands is an `object` and the other is a `number or a string`, try to convert the object to its primitive datatype (using object's *valueOf()* or *toString()*).\n",
    "* If the operands have the `same type`, they are compared as follows:\n",
    "    * **String**: return **true** only if both operands have the same characters in the same order.\n",
    "    * **Number**: return **true** only if both operands have the same value. `+0` and `-0` are treated as the same value. If either operand is `NaN`, return **false**.\n",
    "    * **Boolean**: return **true** only if operands are both `true` or both `false`."
   ]
  },
  {
   "cell_type": "code",
   "execution_count": null,
   "id": "02401896",
   "metadata": {
    "hidden": true
   },
   "outputs": [],
   "source": [
    "%%javascript\n",
    "\n",
    "console.log(`11 == 5: ${11 == 5}`)  // Equality (==)\n",
    "// expected output: false\n",
    "\n",
    "console.log(\"'hello' == 'Hello' is: \", 'hello' == 'Hello');\n",
    "// expected output: false\n",
    "\n",
    "// A Peculiar Case\n",
    "console.log(\"'1' ==  1 is: \", '1' ==  1);\n",
    "// expected output: true\n",
    "\n",
    "console.log(\"'1' ===  1 is: \", '1' ===  1);\n",
    "// expected output: false\n",
    "\n",
    "console.log(\"'1' !== 1 is: \", '1' !== 1);\n",
    "// expected output: true\n",
    "\n",
    "console.log(\"0 == false is: \", 0 == false);\n",
    "// expected output: true\n",
    "\n",
    "console.log(\"0 === false is: \", 0 === false);\n",
    "// expected output: false"
   ]
  },
  {
   "cell_type": "markdown",
   "id": "31875060",
   "metadata": {
    "heading_collapsed": true,
    "hidden": true
   },
   "source": [
    "### Coercion"
   ]
  },
  {
   "cell_type": "markdown",
   "id": "bd34770a",
   "metadata": {
    "hidden": true
   },
   "source": [
    "JavaScript **coerces a number value to a string value** - so that it can run the + operator on disparate data types.\n",
    "\n",
    "The process of coercion can sometimes be a bit unexpected."
   ]
  },
  {
   "cell_type": "code",
   "execution_count": null,
   "id": "2d52fc2c",
   "metadata": {
    "hidden": true
   },
   "outputs": [],
   "source": [
    "%%javascript\n",
    "\n",
    "// int + int = int\n",
    "console.log(`1 + 2: ${1 + 2}`)\n",
    "\n",
    "// int + str = str\n",
    "console.log(`1 + \"2\": ${1 + \"2\"}`) \n",
    "\n",
    "// int + bool = int\n",
    "console.log(`1 + true: ${1 + true}`)\n",
    "\n",
    "// int + bool = int\n",
    "console.log(`1 + true: ${1 + true}`)\n",
    "\n",
    "// bool + bool = int\n",
    "console.log(`true + true: ${true + true}`)\n",
    "\n",
    "// str + bool = str\n",
    "console.log(`\"1\" + true: ${\"1\" + true}`)"
   ]
  },
  {
   "cell_type": "markdown",
   "id": "6e086a1f",
   "metadata": {
    "heading_collapsed": true,
    "hidden": true
   },
   "source": [
    "### Operator precedence and associativity"
   ]
  },
  {
   "cell_type": "markdown",
   "id": "9488485b",
   "metadata": {
    "hidden": true
   },
   "source": [
    "**Operator precedence** is a set of rules that determines which operator should be evaluated first."
   ]
  },
  {
   "cell_type": "markdown",
   "id": "b35454ba",
   "metadata": {
    "hidden": true
   },
   "source": [
    "<div class=\"alert alert-info\">Remember, the arithmetic operations always follow the <b>PEDMAS</b> rule. Consider the examples below:</div>"
   ]
  },
  {
   "cell_type": "code",
   "execution_count": null,
   "id": "80d00fe0",
   "metadata": {
    "hidden": true
   },
   "outputs": [],
   "source": [
    "%%javascript\n",
    "\n",
    "console.log(`Result of 5+2*7-8/2**2+1 is: ${5 + 2 * 7 - 8 / 2**2 + 1}`);\n",
    "console.log(`Result of (5+2)*7-(8/2**2)+1 is: ${(5 + 2) * 7 - (8 / 2**2) + 1}`);"
   ]
  },
  {
   "cell_type": "markdown",
   "id": "0b494356",
   "metadata": {
    "hidden": true
   },
   "source": [
    "**Operator associativity** determines how the precedence works when the code uses operators with the same precedence. There are two kinds: \n",
    "\n",
    "* left-to-right associativity\n",
    "\n",
    "* right-to-left associativity"
   ]
  },
  {
   "cell_type": "code",
   "execution_count": null,
   "id": "18c172f5",
   "metadata": {
    "hidden": true
   },
   "outputs": [],
   "source": [
    "%%javascript\n",
    "\n",
    "var x = 20;\n",
    "// the value on the right is assigned to the variable name on the left\n",
    "console.log(`Value of x is: ${x}`);\n",
    "\n",
    "var y = 15 > 12 > 5;\n",
    "// 15 > 12 is evaluated first (to `true`)\n",
    "// then true > 5 is evaluated to `false`, because the `true` value is coerced to `1`\n",
    "console.log(`Value of y = 15 > 12 > 5 is: ${y}`);"
   ]
  },
  {
   "cell_type": "markdown",
   "id": "3a21d18d",
   "metadata": {
    "heading_collapsed": true
   },
   "source": [
    "## Unary Operators"
   ]
  },
  {
   "cell_type": "markdown",
   "id": "10e24694",
   "metadata": {
    "hidden": true
   },
   "source": [
    "**Unary operators** take only one operand in order to perform a specific operation. Some of the commonly used unary operators in JavaScript are:\n",
    "\n",
    "* `typeof`: Returns the type of the given operand\n",
    "* `delete`: Deletes an object, object’s attribute or an instance in an array\n",
    "* `void`: Specifies that an expression does not return anything\n",
    "* Increment Operators : `++`, `--`"
   ]
  },
  {
   "cell_type": "markdown",
   "id": "535d7626",
   "metadata": {
    "heading_collapsed": true,
    "hidden": true
   },
   "source": [
    "### typeof()"
   ]
  },
  {
   "cell_type": "markdown",
   "id": "ff448d40",
   "metadata": {
    "hidden": true
   },
   "source": [
    "The **typeof** operator returns a `string` indicating the **type** of the unevaluated operand."
   ]
  },
  {
   "cell_type": "code",
   "execution_count": null,
   "id": "b8ccfe70",
   "metadata": {
    "hidden": true
   },
   "outputs": [],
   "source": [
    "%%javascript\n",
    "\n",
    "console.log(\"typeof 24 is:\", typeof 24);\n",
    "// expected output: \"number\"\n",
    "\n",
    "console.log(\"typeof 2.4 is:\", typeof 2.4);\n",
    "// expected output: \"number\"\n",
    "\n",
    "console.log(\"typeof 'sample text' is:\", typeof 'sample text');\n",
    "// expected output: \"string\"\n",
    "\n",
    "console.log(\"typeof true is:\", typeof true);\n",
    "// expected output: \"boolean\"\n",
    "\n",
    "console.log(\"typeof xyz is:\", typeof xyz); // xyz is undeclaredVariable\n",
    "// expected output: \"undefined\"\n",
    "\n",
    "console.log(\"typeof [1,2,3] is:\", typeof [1,2,3]);\n",
    "// expected output: \"object\"\n",
    "\n",
    "console.log(\"typeof function abc() {} is:\", typeof function abc() {});\n",
    "// expected output: \"function\""
   ]
  },
  {
   "cell_type": "markdown",
   "id": "6ee6ff9e",
   "metadata": {
    "heading_collapsed": true
   },
   "source": [
    "## Expressions"
   ]
  },
  {
   "cell_type": "markdown",
   "id": "3c821e2e",
   "metadata": {
    "hidden": true
   },
   "source": [
    "Anything that evaluates to a value is called an **expression**. Some of the basic expressions and keywords used in JavaScript are mentioned below:\n",
    "\n",
    "* `this`: points to the current object\n",
    "* `super`: calls methods on an object’s parent, for example, call parent’s constructor\n",
    "* `function`: used to define a function\n",
    "* `function*`: used to define a generator function\n",
    "* `async function`: used to define an async function"
   ]
  },
  {
   "cell_type": "markdown",
   "id": "f6105379",
   "metadata": {
    "heading_collapsed": true
   },
   "source": [
    "## Conditional statements if-else, switch statements"
   ]
  },
  {
   "cell_type": "markdown",
   "id": "2a1e0244",
   "metadata": {
    "hidden": true
   },
   "source": [
    "Both **if else** and **switch** are used to determine the program execution flow based on whether or not some conditions have been met.\n",
    "\n",
    "This is why they are sometimes referred to as **flow control statements**. In other words, they control the flow of execution of our code, so that some code can be skipped, while other code can be executed.\n",
    "\n"
   ]
  },
  {
   "cell_type": "code",
   "execution_count": null,
   "id": "ef92c829",
   "metadata": {
    "hidden": true
   },
   "outputs": [],
   "source": [
    "%%javascript\n",
    "\n",
    "var light = \"blue\"\n",
    "\n",
    "if(light == \"green\") {\n",
    "    console.log(\"Drive\")\n",
    "} else if (light == \"yellow\") {\n",
    "    console.log(\"Get ready\")\n",
    "} else if (light == \"red\") {\n",
    "    console.log(\"Dont' drive\")\n",
    "} else {\n",
    "    console.log(\"The light is not green, yellow, or red\");\n",
    "}"
   ]
  },
  {
   "cell_type": "markdown",
   "id": "4f9e36fb",
   "metadata": {
    "hidden": true
   },
   "source": [
    "Generally, **if else** is better suited if there is a `binary choice in the condition` or When there are a `smaller number of possible outcomes` of truthy checks.\n",
    "\n",
    "However, if there are a lot of possible outcomes, it is best practice to use a **switch statement** because it is easier less verbose. Being easier to read, it is easier to follow the logic, and thus reduce cognitive load of reading multiple conditions.\n",
    "\n"
   ]
  },
  {
   "cell_type": "code",
   "execution_count": null,
   "id": "9cf9f17b",
   "metadata": {
    "hidden": true
   },
   "outputs": [],
   "source": [
    "%%javascript\n",
    "\n",
    "var light = \"red\"\n",
    "\n",
    "switch(light) {\n",
    "   case 'green':\n",
    "       console.log(\"Drive\");\n",
    "       break;\n",
    "   case 'yellow':\n",
    "       console.log(\"Get ready\");\n",
    "       break;\n",
    "   case 'red':\n",
    "       console.log(\"Don't drive\");\n",
    "       break;\n",
    "   default:\n",
    "       console.log('The light is not green, yellow, or red');\n",
    "       break;\n",
    "}"
   ]
  },
  {
   "cell_type": "markdown",
   "id": "691f4a8d",
   "metadata": {
    "heading_collapsed": true
   },
   "source": [
    "## Loops"
   ]
  },
  {
   "cell_type": "markdown",
   "id": "a3096f2f",
   "metadata": {
    "heading_collapsed": true,
    "hidden": true
   },
   "source": [
    "### For Loop"
   ]
  },
  {
   "cell_type": "code",
   "execution_count": null,
   "id": "fab830c3",
   "metadata": {
    "hidden": true
   },
   "outputs": [],
   "source": [
    "%%javascript\n",
    "\n",
    "// Example 1\n",
    "for (let i = 1; i <= 5; i++) {\n",
    "    console.log(i) }\n",
    "console.log('Counting completed!')\n",
    "\n",
    "console.log('--------------------------------------')\n",
    "\n",
    "// Example 2\n",
    "for (var i = 5; i > 0; i--) {\n",
    "    console.log(i) }\n",
    "console.log('Countdown finished!')\n",
    "\n",
    "console.log('--------------------------------------')\n",
    "\n",
    "// Example 3\n",
    "var veggies = ['tomato', 'zucchini', 'peas', 'carrots', 'broccoli']; // veggies is an array\n",
    "for (var i = 0; i < veggies.length; i++) {\n",
    "    console.log(veggies[i]);\n",
    "}"
   ]
  },
  {
   "cell_type": "markdown",
   "id": "422f4f83",
   "metadata": {
    "heading_collapsed": true,
    "hidden": true
   },
   "source": [
    "### While Loop"
   ]
  },
  {
   "cell_type": "code",
   "execution_count": null,
   "id": "e631da56",
   "metadata": {
    "hidden": true
   },
   "outputs": [],
   "source": [
    "%%javascript\n",
    "\n",
    "// Example 1\n",
    "var i = 1;\n",
    "while (i < 6) {\n",
    "    console.log(i);\n",
    "    i++;\n",
    "}\n",
    "console.log('Counting completed!')\n",
    "\n",
    "console.log('--------------------------------------')\n",
    "\n",
    "// Example 2\n",
    "var i = 5;\n",
    "while (i > 0) {\n",
    "    console.log(i);\n",
    "    i -= 1;\n",
    "}\n",
    "console.log('Counting completed!')"
   ]
  },
  {
   "cell_type": "markdown",
   "id": "1bfd55e8",
   "metadata": {
    "heading_collapsed": true,
    "hidden": true
   },
   "source": [
    "### Nested Loops"
   ]
  },
  {
   "cell_type": "code",
   "execution_count": null,
   "id": "fa2cc278",
   "metadata": {
    "hidden": true
   },
   "outputs": [],
   "source": [
    "%%javascript\n",
    "\n",
    "// Example 1\n",
    "var veggies = ['tomato', 'zucchini', 'peas', 'carrots', 'broccoli'];\n",
    "for (var i = 0; i < veggies.length; i++) {\n",
    "    for (var j = 0; j < veggies.length; j++) {\n",
    "        if (i !== j) {\n",
    "            console.log(\"A \" + veggies[i] + \" and \" + veggies[j] + \" salad\");\n",
    "        }\n",
    "    }\n",
    "}\n",
    "\n",
    "console.log('--------------------------------------')\n",
    "\n",
    "// Example 2\n",
    "var veggies = ['tomato', 'zucchini', 'peas', 'carrots', 'broccoli'];\n",
    "var i, j;\n",
    "i = 0;\n",
    "while (i < veggies.length) {\n",
    "    j = 0;\n",
    "    while (j < veggies.length) {\n",
    "            if(j !== i) {\n",
    "                console.log(`A ${veggies[i]} and ${veggies[j]} salad`);\n",
    "            }\n",
    "        j++;\n",
    "    }\n",
    "    i++;\n",
    "}"
   ]
  },
  {
   "cell_type": "markdown",
   "id": "8b44045a",
   "metadata": {
    "heading_collapsed": true,
    "hidden": true
   },
   "source": [
    "### Do-while Loop"
   ]
  },
  {
   "cell_type": "markdown",
   "id": "24d089ff",
   "metadata": {
    "hidden": true
   },
   "source": [
    "The **do-while** loop will run a piece of code once, before `deciding` if it should loop again."
   ]
  },
  {
   "cell_type": "code",
   "execution_count": null,
   "id": "0b29799f",
   "metadata": {
    "hidden": true
   },
   "outputs": [],
   "source": [
    "%%javascript\n",
    "\n",
    "var count = 1;\n",
    "do {\n",
    "    console.log(count);\n",
    "} while (count > 1);"
   ]
  },
  {
   "cell_type": "markdown",
   "id": "09790c7f",
   "metadata": {
    "hidden": true
   },
   "source": [
    "The code will run only once, because a **do-while** loop begins by running the code inside the **do** block, then the **while** block determines if the code in the **do** block should be run again. Since the condition in the code is testing if `1 > 1`, this evaluates to the boolean value of `false`, and thus the **do** block is not looped over again."
   ]
  },
  {
   "cell_type": "code",
   "execution_count": null,
   "id": "2f1fe3da",
   "metadata": {
    "hidden": true
   },
   "outputs": [],
   "source": [
    "%%javascript\n",
    "\n",
    "var count = 2;\n",
    "do {\n",
    "    console.log(count);\n",
    "    count = count - 1;\n",
    "} while (count > 0);"
   ]
  },
  {
   "cell_type": "markdown",
   "id": "ad5b4b99",
   "metadata": {
    "hidden": true
   },
   "source": [
    "**do-while** loop is not used frequently as there are simpler ways to perform the same logic.\n",
    "\n"
   ]
  },
  {
   "cell_type": "markdown",
   "id": "a52366b3",
   "metadata": {
    "heading_collapsed": true
   },
   "source": [
    "## Functions"
   ]
  },
  {
   "cell_type": "markdown",
   "id": "831489dd",
   "metadata": {
    "hidden": true
   },
   "source": [
    "A JavaScript function comprises several components which affect its behavior. A typical JavaScript function has the following components:\n",
    "\n",
    "* the `function` keyword\n",
    "* the name\n",
    "* the parameter(s)\n",
    "* the returned value\n",
    "* the return type\n",
    "* the context `this`"
   ]
  },
  {
   "cell_type": "code",
   "execution_count": null,
   "id": "1dd5f24b",
   "metadata": {
    "hidden": true
   },
   "outputs": [],
   "source": [
    "%%javascript\n",
    "\n",
    "// Example 1\n",
    "function listArrayItems(arr) {\n",
    "    for (var i = 0; i < arr.length; i++) {\n",
    "        console.log(i+1, arr[i])\n",
    "    }\n",
    "}\n",
    "\n",
    "var colors = ['red', 'orange', 'yellow', 'green', 'blue', 'purple', 'pink'];\n",
    "listArrayItems(colors);"
   ]
  },
  {
   "cell_type": "code",
   "execution_count": null,
   "id": "8fed1b04",
   "metadata": {
    "hidden": true
   },
   "outputs": [],
   "source": [
    "%%javascript\n",
    "\n",
    "// Example 2\n",
    "function letterFinder(word, match) {\n",
    "    var condition1 = word.length >= 2;\n",
    "    var condition2 = typeof(word) == 'string';\n",
    "    var condition3 = match.length == 1;\n",
    "    var condition4 = typeof(match) == 'string';\n",
    "    if(condition1 && condition2 && condition3 && condition4) {\n",
    "        for(var i = 0; i < word.length; i++) {\n",
    "            if(word[i] == match) {\n",
    "                console.log('Found the', match, 'at', i);\n",
    "            } else {\n",
    "                console.log('---No match found at', i);\n",
    "            }\n",
    "        }\n",
    "    } else {\n",
    "        console.log(\"Please pass correct arguments to the function\");\n",
    "    }\n",
    "}\n",
    "\n",
    "letterFinder(\"test\", \"t\")"
   ]
  },
  {
   "cell_type": "code",
   "execution_count": null,
   "id": "d4681383",
   "metadata": {
    "hidden": true
   },
   "outputs": [],
   "source": [
    "%%javascript\n",
    "\n",
    "// Example 3\n",
    "function scopeTest() {\n",
    "    var y = 44;\n",
    "    console.log(x); \n",
    "}\n",
    "\n",
    "var x = 33;\n",
    "scopeTest(); // 33 is expected for value of x"
   ]
  },
  {
   "cell_type": "markdown",
   "id": "0f81aacf",
   "metadata": {
    "heading_collapsed": true
   },
   "source": [
    "## Arrow function"
   ]
  },
  {
   "cell_type": "code",
   "execution_count": null,
   "id": "75700466",
   "metadata": {
    "hidden": true
   },
   "outputs": [],
   "source": [
    "%%javascript\n",
    "\n",
    "// Function Definition\n",
    "function test(a){\n",
    "  return a + 100;\n",
    "}\n",
    "console.log(test(3))\n",
    "\n",
    "// Arrow Function Definition\n",
    "var test_arrow = (a => a + 100);\n",
    "console.log(test_arrow(4));"
   ]
  },
  {
   "cell_type": "markdown",
   "id": "85f32176",
   "metadata": {
    "hidden": true
   },
   "source": [
    "Arrow Function is defined as:\n",
    "1. Remove the word `function` and place **arrow** between the argument and opening body bracket\n",
    "2. Remove the body braces and word `return` -- the return is implied.\n",
    "3. Remove the argument parentheses"
   ]
  },
  {
   "cell_type": "code",
   "execution_count": null,
   "id": "0031dfa8",
   "metadata": {
    "hidden": true
   },
   "outputs": [],
   "source": [
    "%%javascript\n",
    "\n",
    "function test(a, b){\n",
    "  return a + b + 100;\n",
    "}\n",
    "console.log(test(3, 2))\n",
    "\n",
    "\n",
    "// Arrow Function\n",
    "var test_arrow = ((a, b) => a + b + 100);\n",
    "console.log(test_arrow(5,7))"
   ]
  },
  {
   "cell_type": "code",
   "execution_count": null,
   "id": "5c874be1",
   "metadata": {
    "hidden": true
   },
   "outputs": [],
   "source": [
    "%%javascript\n",
    "\n",
    "var a = 4;\n",
    "var b = 2;\n",
    "function test(){\n",
    "  return a + b + 100;\n",
    "}\n",
    "console.log(test())\n",
    "\n",
    "\n",
    "// Arrow Function (no arguments)\n",
    "var a = 1;\n",
    "var b = 7;\n",
    "var test_arrow = (() => a + b + 100);\n",
    "console.log(test_arrow())"
   ]
  },
  {
   "cell_type": "markdown",
   "id": "45437c88",
   "metadata": {
    "heading_collapsed": true
   },
   "source": [
    "## Math object"
   ]
  },
  {
   "cell_type": "code",
   "execution_count": null,
   "id": "33d0c005",
   "metadata": {
    "hidden": true
   },
   "outputs": [],
   "source": [
    "%%javascript\n",
    "\n",
    "// Number constants\n",
    "console.log(\"The PI number: \", Math.PI)\n",
    "console.log(\"The Euler's constant: \", Math.E)\n",
    "console.log(\"The natural logarithm of 2: \", Math.LN2)\n",
    "\n",
    "// Rounding methods\n",
    "console.log(\"Math.ceil(42.35): \",  Math.ceil(42.35))\n",
    "console.log(\"Math.floor(42.35): \", Math.floor(42.35))\n",
    "console.log(\"Math.round(42.35): \", Math.round(42.35))\n",
    "console.log(\"Math.trunc(42.35): \", Math.trunc(42.35))"
   ]
  },
  {
   "cell_type": "code",
   "execution_count": null,
   "id": "338ea35c",
   "metadata": {
    "hidden": true
   },
   "outputs": [],
   "source": [
    "%%javascript\n",
    "\n",
    "console.log(\"Math.pow(2,3): \", Math.pow(2,3))\n",
    "console.log(\"Math.sqrt(16): \", Math.sqrt(16))\n",
    "console.log(\"Math.cbrt(8): \", Math.cbrt(8))\n",
    "\n",
    "console.log(\"Math.abs(-10): \", Math.abs(-10))\n",
    "\n",
    "console.log(\"Math.min(9,8,7): \", Math.min(9,8,7))\n",
    "console.log(\"Math.max(9,8,7): \", Math.max(9,8,7))\n",
    "\n",
    "// Logarithmic methods\n",
    "console.log(\"Math.log(10): \", Math.log(10))\n",
    "console.log(\"Math.log2(10): \", Math.log2(10))\n",
    "console.log(\"Math.log10(10): \", Math.log10(10))\n",
    "\n",
    "// Trigonometric methods\n",
    "console.log(\"Math.sin(Math.PI/2): \", Math.sin(Math.PI/2))\n",
    "console.log(\"Math.cos(0): \", Math.cos(0))\n",
    "console.log(\"Math.tan(Math.PI/4): \", Math.tan(Math.PI/4))"
   ]
  },
  {
   "cell_type": "markdown",
   "id": "d092892f",
   "metadata": {
    "heading_collapsed": true
   },
   "source": [
    "## Data Structures"
   ]
  },
  {
   "cell_type": "markdown",
   "id": "d271d1b8",
   "metadata": {
    "heading_collapsed": true,
    "hidden": true
   },
   "source": [
    "### Strings"
   ]
  },
  {
   "cell_type": "code",
   "execution_count": null,
   "id": "aa73124c",
   "metadata": {
    "hidden": true
   },
   "outputs": [],
   "source": [
    "%%javascript\n",
    "\n",
    "var greet = \"Hello, \";\n",
    "var place = \"World\";\n",
    "\n",
    "console.log(greet.length); // 7\n",
    "console.log(greet.charAt(0)); // 'H'\n",
    "console.log(greet.toUpperCase()); // \"HELLO, \"\n",
    "console.log(greet.toLowerCase()); // \"hello, \"\n",
    "\n",
    "console.log(\"Wo\".concat(\"rl\").concat(\"d\")); // World\n",
    "\n",
    "console.log(\"ho-ho-ho\".indexOf('h')); // 0\n",
    "console.log(\"ho-ho-ho\".indexOf('o')); // 1\n",
    "console.log(\"ho-ho-ho\".indexOf('-')); // 2\n",
    "\n",
    "console.log(\"ho-ho-ho\".split(\"-\")); // ['ho', 'ho', 'ho']\n",
    "\n",
    "\n",
    "console.log(place.match(/r/)) // ['r', index: 2, input: 'World', groups: undefined]\n",
    "console.log(place.match(/f/)) // null"
   ]
  },
  {
   "cell_type": "markdown",
   "id": "2a91f6a3",
   "metadata": {
    "heading_collapsed": true,
    "hidden": true
   },
   "source": [
    "### Arrays"
   ]
  },
  {
   "cell_type": "code",
   "execution_count": null,
   "id": "c56c4c88",
   "metadata": {
    "hidden": true
   },
   "outputs": [],
   "source": [
    "%%javascript\n",
    "\n",
    "var fruits = [];\n",
    "fruits.push(\"apple\");\n",
    "fruits.push('pear'); \n",
    "console.log(fruits);\n",
    "\n",
    "fruits.pop();\n",
    "console.log(fruits); // ['apple']"
   ]
  },
  {
   "cell_type": "code",
   "execution_count": null,
   "id": "4d91582f",
   "metadata": {
    "hidden": true
   },
   "outputs": [],
   "source": [
    "%%javascript\n",
    "\n",
    "console.log(['123']) // ['123']\n",
    "console.log(['123']+['456']) // 123456\n",
    "console.log(['123'].concat(['456'])) // ['123', '456']"
   ]
  },
  {
   "cell_type": "code",
   "execution_count": null,
   "id": "647fc46d",
   "metadata": {
    "hidden": true
   },
   "outputs": [],
   "source": [
    "%%javascript\n",
    "\n",
    "const a = [1, 2, 3]\n",
    "console.log(a) // [1, 2, 3]\n",
    "// add an element at the beginning of an array\n",
    "a.unshift(0) // [0, 1, 2, 3]\n",
    "console.log(a)\n",
    "\n",
    "const b = Array.of(1, 2, 3) // Array built-in function\n",
    "console.log(b) // [1, 2, 3]\n",
    "b.unshift(4) // [4, 1, 2, 3]\n",
    "b.unshift(5,6) // [5, 6, 4, 1, 2, 3]\n",
    "console.log(b)\n",
    "\n",
    "\n",
    "//  initializes an array of 5 elements, and fills each element with 0\n",
    "const c = Array(5).fill(0)\n",
    "console.log(c) // [0, 0, 0, 0, 0]\n",
    "c.unshift(2, 5, 6, 1) // [2, 5, 6, 1, 0, 0, 0, 0, 0]\n",
    "\n",
    "// remove an item from the beginning of an array\n",
    "c.shift() // [5, 6, 1, 0, 0, 0, 0, 0]\n",
    "console.log(c) "
   ]
  },
  {
   "cell_type": "code",
   "execution_count": null,
   "id": "5de80b45",
   "metadata": {
    "hidden": true
   },
   "outputs": [],
   "source": [
    "%%javascript\n",
    "\n",
    "let list = [4, 5, 6];\n",
    "\n",
    "for (let i in list) {\n",
    "   console.log(i); // \"0\", \"1\", \"2\",\n",
    "}\n",
    "\n",
    "for (let i of list) {\n",
    "   console.log(i); // \"4\", \"5\", \"6\"\n",
    "}"
   ]
  },
  {
   "cell_type": "code",
   "execution_count": null,
   "id": "a3c9358c",
   "metadata": {
    "hidden": true
   },
   "outputs": [],
   "source": [
    "%%javascript\n",
    "\n",
    "function arrayBuilder(one, two, three) {\n",
    "    var arr = [];\n",
    "    arr.push(one);\n",
    "    arr.push(two);\n",
    "    arr.push(three);\n",
    "    return arr;\n",
    "}\n",
    "\n",
    "var simpleArr = arrayBuilder('apple', 'pear', 'plum');\n",
    "console.log(simpleArr); // ['apple','pear','plum']"
   ]
  },
  {
   "cell_type": "code",
   "execution_count": null,
   "id": "7faf27cf",
   "metadata": {
    "hidden": true
   },
   "outputs": [],
   "source": [
    "%%javascript\n",
    "\n",
    "var carTypes = ['suv', 'hybrid', 'electric', 'offroad', 'concept'];\n",
    "var carColors = ['red', 'orange', 'yellow', 'green', 'blue'];\n",
    "var maxSpeeds = ['100', '120', '140', '190', '220', '300'];\n",
    "\n",
    "var showRoom = [];\n",
    "\n",
    "function randomItem(arr) {\n",
    "  var randomDecimal = Math.random() * arr.length;\n",
    "  var randomNum = Math.floor(randomDecimal);\n",
    "  var randomArrItem = arr[randomNum];\n",
    "  return randomArrItem;\n",
    "}\n",
    "\n",
    "for (let i = 0; i < 5; i++) {\n",
    "  var newCarObject = {};\n",
    "  var randomCarType = randomItem(carTypes);\n",
    "  var randomCarColor = randomItem(carColors);\n",
    "  var randomMaxSpeed = randomItem(maxSpeeds);\n",
    "  newCarObject.carType = randomCarType;\n",
    "  newCarObject.carColor = randomCarColor;\n",
    "  newCarObject.maxSpeed = randomMaxSpeed;\n",
    "  showRoom.push(newCarObject);\n",
    "}\n",
    "\n",
    "console.log(showRoom);\n",
    "\n",
    "for(var i = 0; i < showRoom.length; i++){\n",
    "    console.log(\"Car:\", showRoom[i].carType, showRoom[i].carColor, showRoom[i].maxSpeed)\n",
    "}"
   ]
  },
  {
   "cell_type": "markdown",
   "id": "fa9cddf4",
   "metadata": {
    "heading_collapsed": true,
    "hidden": true
   },
   "source": [
    "### Object literals"
   ]
  },
  {
   "cell_type": "code",
   "execution_count": null,
   "id": "7dcf8341",
   "metadata": {
    "hidden": true
   },
   "outputs": [],
   "source": [
    "%%javascript\n",
    "\n",
    "// dot notation\n",
    "var house = {\n",
    "    rooms: 3,\n",
    "    color: \"brown\",\n",
    "    priceUSD: 10000,\n",
    "}\n",
    "house.windows = 10;\n",
    "console.log(house);"
   ]
  },
  {
   "cell_type": "code",
   "execution_count": 1,
   "id": "4fc9da0a",
   "metadata": {
    "hidden": true
   },
   "outputs": [
    {
     "data": {
      "application/javascript": [
       "\n",
       "// Bracket Notation\n",
       "var house = {};\n",
       "house[\"rooms\"] = 4;\n",
       "house['color']= \"pink\";\n",
       "house[\"priceUSD\"] = 12345;\n",
       "\n",
       "console.log(house);\n",
       "console.log('house.rooms: ', house.rooms);\n"
      ],
      "text/plain": [
       "<IPython.core.display.Javascript object>"
      ]
     },
     "metadata": {},
     "output_type": "display_data"
    }
   ],
   "source": [
    "%%javascript\n",
    "\n",
    "// Bracket Notation\n",
    "var house = {};\n",
    "house[\"rooms\"] = 4;\n",
    "house['color']= \"pink\";\n",
    "house[\"priceUSD\"] = 12345;\n",
    "\n",
    "console.log(house);\n",
    "console.log('house.rooms: ', house.rooms);"
   ]
  },
  {
   "cell_type": "code",
   "execution_count": 12,
   "id": "f1209968",
   "metadata": {
    "hidden": true
   },
   "outputs": [
    {
     "data": {
      "application/javascript": [
       "\n",
       "var house = {\n",
       "    rooms: 3,\n",
       "    color: \"brown\",\n",
       "    priceUSD: 10000,\n",
       "    \n",
       "    // property has a function assigned\n",
       "    members: function(people) {\n",
       "        people += 1\n",
       "        console.log(`There are ${people} persons living in this ${this.color} house.`)\n",
       "        return people\n",
       " }  // 'this' keyword can access properties defined in the object\n",
       "}\n",
       "\n",
       "// added a new property from outside\n",
       "house.windows = 10;\n",
       "house.members(4);\n",
       "\n",
       "console.log(house);\n"
      ],
      "text/plain": [
       "<IPython.core.display.Javascript object>"
      ]
     },
     "metadata": {},
     "output_type": "display_data"
    }
   ],
   "source": [
    "%%javascript\n",
    "\n",
    "var house = {\n",
    "    rooms: 3,\n",
    "    color: \"brown\",\n",
    "    priceUSD: 10000,\n",
    "    \n",
    "    // property has a function assigned\n",
    "    members: function(people) {\n",
    "        people += 1\n",
    "        console.log(`There are ${people} persons living in this ${this.color} house.`)\n",
    "        return people\n",
    " }  // 'this' keyword can access properties defined in the object\n",
    "}\n",
    "\n",
    "// added a new property from outside\n",
    "house.windows = 10;\n",
    "house.members(4);\n",
    "\n",
    "console.log(house);"
   ]
  },
  {
   "cell_type": "markdown",
   "id": "f330e081",
   "metadata": {
    "hidden": true
   },
   "source": [
    "Note that the **arrow functions are not bound to the object**, thus they don't have access to `this` keyword. Thus, arrow functions cannot be used as object methods."
   ]
  },
  {
   "cell_type": "code",
   "execution_count": null,
   "id": "ca8a5a1f",
   "metadata": {
    "hidden": true
   },
   "outputs": [],
   "source": [
    "%%javascript\n",
    "\n",
    "var drone = {\n",
    "    speed: 100,\n",
    "    altitude: 200,\n",
    "    color: \"red\"\n",
    "}\n",
    "\n",
    "for (let key in drone) {\n",
    "  console.log(key, drone[key]);\n",
    "}\n",
    "\n",
    "console.log('Keys: ' + Object.keys(drone))\n",
    "\n",
    "console.log('Values: ' + Object.values(drone))\n",
    "\n",
    "console.log('Items: ' + Object.entries(drone))\n",
    "\n",
    "// Inheriting from Objects\n",
    "var my_drone = Object.create(drone);\n",
    "console.log(`My Drone has: ${my_drone.speed} speed, ${my_drone.altitude} altitude, \n",
    "            ${my_drone.color} color`);"
   ]
  },
  {
   "cell_type": "code",
   "execution_count": null,
   "id": "b30d827c",
   "metadata": {
    "hidden": true
   },
   "outputs": [],
   "source": [
    "%%javascript\n",
    "\n",
    "function testBracketsDynamicAccess() {\n",
    "  var dynamicKey = Math.random() > 0.5 ? \"speed\" : \"color\"; // Ternary Operator\n",
    "\n",
    "    var drone = {\n",
    "      speed: 15,\n",
    "      color: \"orange\"\n",
    "    }\n",
    "\n",
    "    console.log(`This drone has ${dynamicKey}: ${drone[dynamicKey]}`);\n",
    "}\n",
    "testBracketsDynamicAccess();"
   ]
  },
  {
   "cell_type": "markdown",
   "id": "2a7e2a1f",
   "metadata": {
    "heading_collapsed": true,
    "hidden": true
   },
   "source": [
    "### `for..of` vs `for..in`"
   ]
  },
  {
   "cell_type": "markdown",
   "id": "fa9296ba",
   "metadata": {
    "hidden": true
   },
   "source": [
    "Both `for..of` and `for..in` statements iterate over lists.\n",
    "\n",
    "* `for..in` returns a list of keys on the object being iterated\n",
    "\n",
    "* `for..of` returns a list of values of the numeric properties of the object being iterated."
   ]
  },
  {
   "cell_type": "code",
   "execution_count": null,
   "id": "7b271398",
   "metadata": {
    "hidden": true
   },
   "outputs": [],
   "source": [
    "%%javascript\n",
    "\n",
    "const dishData = [\n",
    "    {\n",
    "        name: \"Italian pasta\",\n",
    "        price: 9.55\n",
    "    },\n",
    "    {\n",
    "        name: \"Rice with veggies\",\n",
    "        price: 8.65\n",
    "    },\n",
    "    {\n",
    "        name: \"Chicken with potatoes\",\n",
    "        price: 15.55\n",
    "    },\n",
    "    {\n",
    "        name: \"Vegetarian Pizza\",\n",
    "        price: 6.45\n",
    "    },\n",
    "]\n",
    "\n",
    "console.log(dishData)\n",
    "\n",
    "\n",
    "for (var i in dishData) {\n",
    "  console.log(i, dishData[i]);\n",
    "}\n",
    "\n",
    "\n",
    "for (var i of dishData) {\n",
    "  console.log(i);\n",
    "}"
   ]
  },
  {
   "cell_type": "markdown",
   "id": "4a522132",
   "metadata": {
    "heading_collapsed": true,
    "hidden": true
   },
   "source": [
    "### Map (Dictionary)"
   ]
  },
  {
   "cell_type": "code",
   "execution_count": null,
   "id": "26601fbc",
   "metadata": {
    "hidden": true
   },
   "outputs": [],
   "source": [
    "%%javascript\n",
    "\n",
    "let bestBoxers = new Map();\n",
    "bestBoxers.set(1, \"The Champion\");\n",
    "bestBoxers.set(2, \"The Runner-up\");\n",
    "bestBoxers.set(3, \"The third place\");\n",
    "\n",
    "console.log(bestBoxers);\n",
    "\n",
    "// To retrieve a specific value, use the `get()`` method\n",
    "console.log(bestBoxers.get(1)); // 'The Champion'"
   ]
  },
  {
   "cell_type": "markdown",
   "id": "d7d580d3",
   "metadata": {
    "heading_collapsed": true,
    "hidden": true
   },
   "source": [
    "### Sets"
   ]
  },
  {
   "cell_type": "code",
   "execution_count": null,
   "id": "f49c5b00",
   "metadata": {
    "hidden": true
   },
   "outputs": [],
   "source": [
    "%%javascript\n",
    "\n",
    "const repetitiveFruits = ['apple','pear','apple','pear','plum', 'apple'];\n",
    "const uniqueFruits = new Set(repetitiveFruits);\n",
    "console.log(uniqueFruits);"
   ]
  },
  {
   "cell_type": "markdown",
   "id": "52fb787d",
   "metadata": {
    "heading_collapsed": true
   },
   "source": [
    "## Errors"
   ]
  },
  {
   "cell_type": "markdown",
   "id": "282480fe",
   "metadata": {
    "hidden": true
   },
   "source": [
    "Some of the most common errors in JavaScript are:\n",
    "* ReferenceError \n",
    "* SyntaxError \n",
    "* TypeError \n",
    "* RangeError\n",
    "\n",
    "There are some other errors in JavaScript. These other errors include: \n",
    "* AggregateError\n",
    "* Error\n",
    "* InternalError \n",
    "* URIError\n",
    "\n",
    "A **ReferenceError** gets thrown when, for example, one tries to use variables that haven't been declared anywhere."
   ]
  },
  {
   "cell_type": "code",
   "execution_count": null,
   "id": "4ec554ae",
   "metadata": {
    "hidden": true
   },
   "outputs": [],
   "source": [
    "%%javascript\n",
    "\n",
    "console.log(username);"
   ]
  },
  {
   "cell_type": "markdown",
   "id": "c4973148",
   "metadata": {
    "hidden": true
   },
   "source": [
    "Any kind of invalid JavaScript code will cause a **SyntaxError**."
   ]
  },
  {
   "cell_type": "code",
   "execution_count": null,
   "id": "677b26bf",
   "metadata": {
    "hidden": true
   },
   "outputs": [],
   "source": [
    "%%javascript\n",
    "\n",
    "var a \"there's no assignment operator here\";"
   ]
  },
  {
   "cell_type": "markdown",
   "id": "ffe78690",
   "metadata": {
    "hidden": true
   },
   "source": [
    "There's an interesting caveat regarding the SyntaxError in JavaScript: it cannot be caught using the **try-catch** block.\n",
    "\n",
    "A **TypeError** is thrown when, for example, trying to run a method on a non-supported data type."
   ]
  },
  {
   "cell_type": "code",
   "execution_count": null,
   "id": "2b60fadd",
   "metadata": {
    "hidden": true
   },
   "outputs": [],
   "source": [
    "%%javascript\n",
    "\n",
    "\"hello\".pop()"
   ]
  },
  {
   "cell_type": "markdown",
   "id": "519ec5e6",
   "metadata": {
    "hidden": true
   },
   "source": [
    "A **RangeError** is thrown when we're giving a value to a function, but that value is out of the allowed range of acceptable input values."
   ]
  },
  {
   "cell_type": "code",
   "execution_count": null,
   "id": "6636909e",
   "metadata": {
    "hidden": true
   },
   "outputs": [],
   "source": [
    "%%javascript\n",
    "\n",
    "// convert the value of 10 of the Base 10 number system, to its counter-part in the Base 2 number system\n",
    "console.log((10).toString(2)); // '1010'"
   ]
  },
  {
   "cell_type": "markdown",
   "id": "d9cc9863",
   "metadata": {
    "hidden": true
   },
   "source": [
    "JavaScript obliges and \"translates\" the \"regular\" number 10 to its binary counter-part.\n",
    "\n",
    "Besides using `Base 2` number system, we can also use the `Base 8`, like this:"
   ]
  },
  {
   "cell_type": "code",
   "execution_count": null,
   "id": "4fcc6ef0",
   "metadata": {
    "hidden": true
   },
   "outputs": [],
   "source": [
    "%%javascript\n",
    "\n",
    "console.log((10).toString(8)); // 12"
   ]
  },
  {
   "cell_type": "markdown",
   "id": "85fd0e4b",
   "metadata": {
    "hidden": true
   },
   "source": [
    "However, if we try to use a non-existing number system, such as an imaginary `Base 100`, since this number system effectively doesn't exist in JavaScript, we will get the **RangeError**, because a non-existing `Base 100` system is out of range of the number systems that are available to the **toString()** method:"
   ]
  },
  {
   "cell_type": "code",
   "execution_count": null,
   "id": "30ecd0ee",
   "metadata": {
    "hidden": true
   },
   "outputs": [],
   "source": [
    "%%javascript\n",
    "\n",
    "console.log((10).toString(100));"
   ]
  },
  {
   "cell_type": "markdown",
   "id": "02588593",
   "metadata": {
    "heading_collapsed": true
   },
   "source": [
    "## try catch"
   ]
  },
  {
   "cell_type": "code",
   "execution_count": null,
   "id": "385001fe",
   "metadata": {
    "hidden": true
   },
   "outputs": [],
   "source": [
    "%%javascript\n",
    "\n",
    "try {\n",
    "for (let i=0; i<5 ; i++){\n",
    "    console.log(i);\n",
    "}\n",
    "console.log(i); // this will throw error as i is not defined outside `for` loop using `let`\n",
    "} catch(err) {\n",
    "    console.log(\"Error! \" + err);\n",
    "}"
   ]
  },
  {
   "cell_type": "code",
   "execution_count": null,
   "id": "c90e4f54",
   "metadata": {
    "hidden": true
   },
   "outputs": [],
   "source": [
    "%%javascript\n",
    "\n",
    "var css_style = \"color: white; font-size: 17px\"\n",
    "\n",
    "function addTwoNums(a,b) {\n",
    "    try {\n",
    "        if(typeof(a) != 'number') {\n",
    "            throw new ReferenceError('the first argument is not a number')\n",
    "        } else if (typeof(b) != 'number') {\n",
    "            throw new ReferenceError('the second argument is not a number')\n",
    "        } else {\n",
    "            console.log('%c' +a + b, css_style);\n",
    "        }\n",
    "    } catch(err) {\n",
    "        console.log(\"%cError! \"+err, css_style);\n",
    "    }\n",
    "}\n",
    "\n",
    "addTwoNums(5, \"5\");\n",
    "\n",
    "addTwoNums(5, 5);"
   ]
  },
  {
   "cell_type": "markdown",
   "id": "f5c67e39",
   "metadata": {
    "hidden": true
   },
   "source": [
    "### Custom Console Styler"
   ]
  },
  {
   "cell_type": "code",
   "execution_count": null,
   "id": "b5cea6ee",
   "metadata": {
    "hidden": true
   },
   "outputs": [],
   "source": [
    "%%javascript\n",
    "\n",
    "function consoleStyler(color, background, fontSize, txt) {\n",
    "    var message = \"%c\" + txt;\n",
    "    var style = `color: ${color};`;\n",
    "    style += `background: ${background};`;\n",
    "    style += `font-size: ${fontSize};`;\n",
    "    console.log(message, style);\n",
    "}\n",
    "\n",
    "consoleStyler('#1d5c63', '#ede6db', '40px', 'Congrats!');"
   ]
  },
  {
   "cell_type": "code",
   "execution_count": null,
   "id": "d248d449",
   "metadata": {
    "hidden": true
   },
   "outputs": [],
   "source": [
    "%%javascript\n",
    "\n",
    "function output(txt) {\n",
    "    var message = \"%c\" + txt;\n",
    "    var style = \"color: white;\";\n",
    "    style += \"font-size: 17px\";\n",
    "    console.log(message, style);\n",
    "}\n",
    "\n",
    "output('Output in style on console');"
   ]
  },
  {
   "cell_type": "markdown",
   "id": "2d4bdb6f",
   "metadata": {
    "heading_collapsed": true
   },
   "source": [
    "## Object Oriented Programming"
   ]
  },
  {
   "cell_type": "code",
   "execution_count": 23,
   "id": "646152d0",
   "metadata": {
    "hidden": true
   },
   "outputs": [
    {
     "data": {
      "application/javascript": [
       "\n",
       "class Bird {\n",
       "    useWings() {\n",
       "        console.log(\"Flying!\")\n",
       "    }\n",
       "}\n",
       "class Eagle extends Bird {\n",
       "    useWings() {\n",
       "        super.useWings()\n",
       "        console.log(\"Barely flapping!\")\n",
       "    }\n",
       "}\n",
       "class Penguin extends Bird {\n",
       "    useWings() {\n",
       "        console.log(\"Diving!\")\n",
       "    }\n",
       "}\n",
       "\n",
       "// 'new' keyword creates object \n",
       "var baldEagle = new Eagle();\n",
       "var kingPenguin = new Penguin();\n",
       "baldEagle.useWings(); // \"Flying! Barely flapping!\"\n",
       "kingPenguin.useWings(); // \"Diving!\"\n"
      ],
      "text/plain": [
       "<IPython.core.display.Javascript object>"
      ]
     },
     "metadata": {},
     "output_type": "display_data"
    }
   ],
   "source": [
    "%%javascript\n",
    "\n",
    "class Bird {\n",
    "    useWings() {\n",
    "        console.log(\"Flying!\")\n",
    "    }\n",
    "}\n",
    "class Eagle extends Bird {\n",
    "    useWings() {\n",
    "        super.useWings()\n",
    "        console.log(\"Barely flapping!\")\n",
    "    }\n",
    "}\n",
    "class Penguin extends Bird {\n",
    "    useWings() {\n",
    "        console.log(\"Diving!\")\n",
    "    }\n",
    "}\n",
    "\n",
    "// 'new' keyword creates object \n",
    "var baldEagle = new Eagle();\n",
    "var kingPenguin = new Penguin();\n",
    "baldEagle.useWings(); // \"Flying! Barely flapping!\"\n",
    "kingPenguin.useWings(); // \"Diving!\""
   ]
  },
  {
   "cell_type": "markdown",
   "id": "de83edfb",
   "metadata": {
    "hidden": true
   },
   "source": [
    "The **constructor** is used to build properties on the future **object instance** of the class."
   ]
  },
  {
   "cell_type": "code",
   "execution_count": 8,
   "id": "16d7b392",
   "metadata": {
    "hidden": true
   },
   "outputs": [
    {
     "data": {
      "application/javascript": [
       "\n",
       "class Train {\n",
       "    constructor(color, lightsOn) {\n",
       "        this.color = color;\n",
       "        this.lightsOn = lightsOn;\n",
       "    }\n",
       "    toggleLights() {\n",
       "        this.lightsOn = !this.lightsOn;\n",
       "    }\n",
       "    lightsStatus() {\n",
       "        console.log('Lights on?', this.lightsOn);\n",
       "    }\n",
       "    getSelf() {\n",
       "        console.log(this);\n",
       "    }\n",
       "    \n",
       "    /* The prototype of the object instance of the class can be defined using \n",
       "    JavaScript's built-in `Object.getPrototypeOf()` method. \n",
       "    The prototype holds all the properties shared by all the object instances of the class.\n",
       "    */\n",
       "\n",
       "    getPrototype() {\n",
       "        var proto = Object.getPrototypeOf(this);\n",
       "        console.log(proto);\n",
       "    }\n",
       "}\n",
       "\n",
       "// Creating `my_train` Object\n",
       "var my_train = new Train('red', false);\n",
       "console.log(my_train);\n",
       "\n",
       "my_train.toggleLights(); // undefined (this will toggle the light)\n",
       "my_train.lightsStatus(); // Lights on? true\n",
       "my_train.getSelf(); // Train {color: 'red', lightsOn: true}\n",
       "my_train.getPrototype(); // {constructor: f, toggleLights: f, ligthsStatus: f, getSelf: f, getPrototype: f}\n",
       "\n",
       "\n",
       "console.log('--------------------------------------')\n",
       "\n",
       "\n",
       "// Inheriting class Train using 'extends' keyword\n",
       "class HighSpeedTrain extends Train {\n",
       "    constructor(passengers, highSpeedOn, color, lightsOn) {        \n",
       "        // `super` keyword is used to specify what property gets inherited from the super-class in the sub-class.\n",
       "        super(color, lightsOn);\n",
       "        this.passengers = passengers;\n",
       "        this.highSpeedOn = highSpeedOn;\n",
       "    }\n",
       "    toggleHighSpeed() {\n",
       "        this.highSpeedOn = !this.highSpeedOn;\n",
       "        console.log('High speed status:', this.highSpeedOn);\n",
       "    }\n",
       "    toggleLights() {\n",
       "        super.toggleLights();\n",
       "        super.lightsStatus();\n",
       "        console.log('Lights are 100% operational.');\n",
       "    }\n",
       "}\n",
       "\n",
       "var my_highspeed_train = new HighSpeedTrain(150, false, 'blue', false);\n",
       "console.log(my_highspeed_train);\n",
       "console.log(`A HighSpeedTrain of ${my_highspeed_train.color} color\n",
       "            has ${my_highspeed_train.passengers} passengers`);\n",
       "\n",
       "my_highspeed_train.toggleLights(); // Lights on? true, Lights are 100% operational.\n"
      ],
      "text/plain": [
       "<IPython.core.display.Javascript object>"
      ]
     },
     "metadata": {},
     "output_type": "display_data"
    }
   ],
   "source": [
    "%%javascript\n",
    "\n",
    "class Train {\n",
    "    constructor(color, lightsOn) {\n",
    "        this.color = color;\n",
    "        this.lightsOn = lightsOn;\n",
    "    }\n",
    "    toggleLights() {\n",
    "        this.lightsOn = !this.lightsOn;\n",
    "    }\n",
    "    lightsStatus() {\n",
    "        console.log('Lights on?', this.lightsOn);\n",
    "    }\n",
    "    getSelf() {\n",
    "        console.log(this);\n",
    "    }\n",
    "    \n",
    "    /* The prototype of the object instance of the class can be defined using \n",
    "    JavaScript's built-in `Object.getPrototypeOf()` method. \n",
    "    The prototype holds all the properties shared by all the object instances of the class.\n",
    "    */\n",
    "\n",
    "    getPrototype() {\n",
    "        var proto = Object.getPrototypeOf(this);\n",
    "        console.log(proto);\n",
    "    }\n",
    "}\n",
    "\n",
    "// Creating `my_train` Object\n",
    "var my_train = new Train('red', false);\n",
    "console.log(my_train);\n",
    "\n",
    "my_train.toggleLights(); // undefined (this will toggle the light)\n",
    "my_train.lightsStatus(); // Lights on? true\n",
    "my_train.getSelf(); // Train {color: 'red', lightsOn: true}\n",
    "my_train.getPrototype(); // {constructor: f, toggleLights: f, ligthsStatus: f, getSelf: f, getPrototype: f}\n",
    "\n",
    "\n",
    "console.log('--------------------------------------')\n",
    "\n",
    "\n",
    "// Inheriting class Train using 'extends' keyword\n",
    "class HighSpeedTrain extends Train {\n",
    "    constructor(passengers, highSpeedOn, color, lightsOn) {        \n",
    "        // `super` keyword is used to specify what property gets inherited from the super-class in the sub-class.\n",
    "        super(color, lightsOn);\n",
    "        this.passengers = passengers;\n",
    "        this.highSpeedOn = highSpeedOn;\n",
    "    }\n",
    "    toggleHighSpeed() {\n",
    "        this.highSpeedOn = !this.highSpeedOn;\n",
    "        console.log('High speed status:', this.highSpeedOn);\n",
    "    }\n",
    "    toggleLights() {\n",
    "        super.toggleLights();\n",
    "        super.lightsStatus();\n",
    "        console.log('Lights are 100% operational.');\n",
    "    }\n",
    "}\n",
    "\n",
    "var my_highspeed_train = new HighSpeedTrain(150, false, 'blue', false);\n",
    "console.log(my_highspeed_train);\n",
    "console.log(`A HighSpeedTrain of ${my_highspeed_train.color} color\n",
    "            has ${my_highspeed_train.passengers} passengers`);\n",
    "\n",
    "my_highspeed_train.toggleLights(); // Lights on? true, Lights are 100% operational."
   ]
  },
  {
   "cell_type": "code",
   "execution_count": 9,
   "id": "0ef01d37",
   "metadata": {
    "hidden": true
   },
   "outputs": [
    {
     "data": {
      "application/javascript": [
       "\n",
       "// Task 1: Code a Person class\n",
       "class Person {\n",
       "    constructor(name = \"Tom\", age = 20, energy = 100) {\n",
       "        this.name = name;\n",
       "        this.age = age;\n",
       "        this.energy = energy;\n",
       "    }\n",
       "    sleep() {\n",
       "        this.energy = this.energy + 10;\n",
       "    }\n",
       "    doSomethingFun() {\n",
       "        this.energy = this.energy - 10;\n",
       "    }\n",
       "}\n",
       "\n",
       "// Task 2: Code a Worker class\n",
       "class Worker extends Person {\n",
       "    constructor(xp = 0, hourlyWage = 10, name, age, energy) {\n",
       "        super(name, age, energy);\n",
       "        this.hourlyWage = hourlyWage;\n",
       "        this.xp = xp;\n",
       "    }\n",
       "    goToWork() {\n",
       "        this.xp = this.xp + 10;\n",
       "    }\n",
       "}\n",
       "\n",
       "// Task 3: Code an intern object\n",
       "var intern = new Worker(0,10,\"Bob\",21,110);\n",
       "console.log(intern);\n",
       "\n",
       "intern.goToWork();\n",
       "intern.goToWork();\n",
       "intern.goToWork();\n",
       "intern.goToWork();\n",
       "intern.doSomethingFun()\n",
       "console.log(intern);\n",
       "\n",
       "\n",
       "// Task 4: Code a manager object\n",
       "var manager = new Worker(100,30,\"Alice\",30,100);\n",
       "console.log(manager);\n",
       "\n",
       "manager.doSomethingFun();\n",
       "manager.doSomethingFun();\n",
       "manager.goToWork();\n",
       "console.log(manager);\n"
      ],
      "text/plain": [
       "<IPython.core.display.Javascript object>"
      ]
     },
     "metadata": {},
     "output_type": "display_data"
    }
   ],
   "source": [
    "%%javascript\n",
    "\n",
    "// Task 1: Code a Person class\n",
    "class Person {\n",
    "    constructor(name = \"Tom\", age = 20, energy = 100) {\n",
    "        this.name = name;\n",
    "        this.age = age;\n",
    "        this.energy = energy;\n",
    "    }\n",
    "    sleep() {\n",
    "        this.energy = this.energy + 10;\n",
    "    }\n",
    "    doSomethingFun() {\n",
    "        this.energy = this.energy - 10;\n",
    "    }\n",
    "}\n",
    "\n",
    "// Task 2: Code a Worker class\n",
    "class Worker extends Person {\n",
    "    constructor(xp = 0, hourlyWage = 10, name, age, energy) {\n",
    "        super(name, age, energy);\n",
    "        this.hourlyWage = hourlyWage;\n",
    "        this.xp = xp;\n",
    "    }\n",
    "    goToWork() {\n",
    "        this.xp = this.xp + 10;\n",
    "    }\n",
    "}\n",
    "\n",
    "// Task 3: Code an intern object\n",
    "var intern = new Worker(0,10,\"Bob\",21,110);\n",
    "console.log(intern);\n",
    "\n",
    "intern.goToWork();\n",
    "intern.goToWork();\n",
    "intern.goToWork();\n",
    "intern.goToWork();\n",
    "intern.doSomethingFun()\n",
    "console.log(intern);\n",
    "\n",
    "\n",
    "// Task 4: Code a manager object\n",
    "var manager = new Worker(100,30,\"Alice\",30,100);\n",
    "console.log(manager);\n",
    "\n",
    "manager.doSomethingFun();\n",
    "manager.doSomethingFun();\n",
    "manager.goToWork();\n",
    "console.log(manager);"
   ]
  },
  {
   "cell_type": "markdown",
   "id": "22b9e436",
   "metadata": {
    "heading_collapsed": true,
    "hidden": true
   },
   "source": [
    "### Explicit Binding - `call()`, `apply()` & `bind()`"
   ]
  },
  {
   "cell_type": "markdown",
   "id": "58c1a1a3",
   "metadata": {
    "hidden": true
   },
   "source": [
    "Unlike **implicit binding**, where the function is part of the object, `standalone functions can be bound explicitly to objects at call time`."
   ]
  },
  {
   "cell_type": "code",
   "execution_count": null,
   "id": "7aa83fb7",
   "metadata": {
    "hidden": true
   },
   "outputs": [],
   "source": [
    "%%javascript\n",
    "\n",
    "class Developer {\n",
    "  constructor(firstname, lastname) {\n",
    "    this.firstname = firstname;\n",
    "    this.lastname = lastname;\n",
    "  }\n",
    "}\n",
    "\n",
    "var printName = function() {\n",
    "  console.log(`My name is ${this.firstname} ${this.lastname}`);\n",
    "};\n",
    "\n",
    "var me = new Developer('Jam', 'Wine');\n",
    "\n",
    "// '.call()' can be used to explicitly bind a function to an object\n",
    "printName.call(me);\n",
    "\n",
    "// printName() is not bound to an object so 'this' is undefined\n",
    "try {\n",
    "printName();\n",
    "} catch(err) {\n",
    "    console.log(\"Error! \" + err);\n",
    "}\n",
    "    \n",
    "// Here we bind the me object to the printName() function and get a new function called newPrintName()\n",
    "const newPrintName = printName.bind(me);\n",
    "\n",
    "// bound newPrintName() prints appropriately\n",
    "newPrintName();\n",
    "\n",
    "console.log('----------------------')\n",
    "\n",
    "var printInfo = function(lang1, lang2, lang3) {\n",
    "  console.log(`My name is ${this.firstname} ${this.lastname} and I know ${lang1}, ${lang2}, and ${lang3}`);\n",
    "}\n",
    "\n",
    "// Create an array of languages\n",
    "var languages = ['Javascript', 'SQL', 'Python'];\n",
    "\n",
    "// Pass each argument individually by indexing the array\n",
    "printInfo.call(me, languages[0], languages[1], languages[2]);\n",
    "\n",
    "// Pass all the arguments in one array to .apply()\n",
    "printInfo.apply(me, languages);"
   ]
  },
  {
   "cell_type": "markdown",
   "id": "6a2a6f81",
   "metadata": {
    "hidden": true
   },
   "source": [
    "The function, `printName()` is **bound explicitly** to the `me` object of the Developer class using the **call()** function. Furthermore, if printName() is called without any object bound to it, it prints the first and last names as `undefined` because this is undefined. To fix this, **bind()** sets a `this` context and returns a new function with a **bound** `this` context. \n",
    "\n",
    "Arguments can be passed to a function using **call()**. However, if we do not want to pass each argument individually and instead pass all our arguments as an array, we can use the **apply()** function."
   ]
  },
  {
   "cell_type": "markdown",
   "id": "e746e574",
   "metadata": {
    "heading_collapsed": true
   },
   "source": [
    "## Javascript in-build methods"
   ]
  },
  {
   "cell_type": "markdown",
   "id": "6a063d11",
   "metadata": {
    "heading_collapsed": true,
    "hidden": true
   },
   "source": [
    "### forEach() method"
   ]
  },
  {
   "cell_type": "markdown",
   "id": "4ac06875",
   "metadata": {
    "hidden": true
   },
   "source": [
    "The `forEach()` method accepts a function that will work on each array item. It's first parameter is the current **array item** itself, and the second (optional) parameter is the **index**."
   ]
  },
  {
   "cell_type": "code",
   "execution_count": null,
   "id": "8f0e6b85",
   "metadata": {
    "hidden": true
   },
   "outputs": [],
   "source": [
    "%%javascript\n",
    "\n",
    "const fruits = ['kiwi','mango','apple','pear'];\n",
    "function appendIndex(fruit, index) {\n",
    "    console.log(`${index}. ${fruit}`)\n",
    "}\n",
    "fruits.forEach(appendIndex);"
   ]
  },
  {
   "cell_type": "markdown",
   "id": "012da340",
   "metadata": {
    "heading_collapsed": true,
    "hidden": true
   },
   "source": [
    "### filter() method"
   ]
  },
  {
   "cell_type": "markdown",
   "id": "0844c896",
   "metadata": {
    "hidden": true
   },
   "source": [
    "The **filter()** method filters our arrays based on a specific test. Those array items that pass the test are returned.\n",
    "\n",
    "The `filter()` method also accepts a function and that function performs some work on each of the items in the array."
   ]
  },
  {
   "cell_type": "code",
   "execution_count": null,
   "id": "37575a62",
   "metadata": {
    "hidden": true
   },
   "outputs": [],
   "source": [
    "%%javascript\n",
    "\n",
    "const nums = [0,10,20,30,40,50];\n",
    "console.log(nums.filter( function(num) {\n",
    "    return num > 20;\n",
    "})) // [30, 40, 50]"
   ]
  },
  {
   "cell_type": "code",
   "execution_count": null,
   "id": "d6c43fb5",
   "metadata": {
    "hidden": true
   },
   "outputs": [],
   "source": [
    "%%javascript\n",
    "\n",
    "const grades = [10, 2, 21, 35, 50, -10, 0, 1];\n",
    "console.log(grades)\n",
    "\n",
    "// get all grades > 20\n",
    "let result = grades.filter(grade => grade > 20); // [21, 35, 50];\n",
    "console.log(result)\n",
    "\n",
    "// get all grades > 30\n",
    "result = grades.filter(grade => grade > 30); // [35, 50]\n",
    "console.log(result)"
   ]
  },
  {
   "cell_type": "markdown",
   "id": "50c2d36e",
   "metadata": {
    "hidden": true
   },
   "source": [
    "### map() method"
   ]
  },
  {
   "cell_type": "markdown",
   "id": "99c0fd2f",
   "metadata": {
    "hidden": true
   },
   "source": [
    "This method is used to map each array item over to another array's item, based on whatever work is performed inside the function that is passed-in to the map as a parameter. "
   ]
  },
  {
   "cell_type": "code",
   "execution_count": null,
   "id": "a5562bf0",
   "metadata": {
    "hidden": true
   },
   "outputs": [],
   "source": [
    "%%javascript\n",
    "\n",
    "var arr = [0,10,20,30,40,50]\n",
    "console.log(arr.map( function(num) {\n",
    "    return num / 10\n",
    "})) // [0, 1, 2, 3, 4, 5]"
   ]
  },
  {
   "cell_type": "code",
   "execution_count": null,
   "id": "757d7c89",
   "metadata": {
    "hidden": true
   },
   "outputs": [],
   "source": [
    "%%javascript\n",
    "\n",
    "var arr = [0,10,20,30,40,50]\n",
    "console.log(arr.map(num => num / 10)) // using Arrow Function `=>`"
   ]
  },
  {
   "cell_type": "markdown",
   "id": "2af60002",
   "metadata": {
    "heading_collapsed": true
   },
   "source": [
    "## Spread Operator `...`"
   ]
  },
  {
   "cell_type": "markdown",
   "id": "8644c1c8",
   "metadata": {
    "hidden": true
   },
   "source": [
    "The **spread syntax** is denoted by three dots **…**\n",
    "\n",
    "It takes in an **iterable** (e.g an array) and expands it into individual elements.\n",
    "\n",
    "The spread syntax is commonly used to make `shallow copies` of JS objects."
   ]
  },
  {
   "cell_type": "code",
   "execution_count": null,
   "id": "d8f2713f",
   "metadata": {
    "hidden": true
   },
   "outputs": [],
   "source": [
    "%%javascript\n",
    "\n",
    "// Example 0\n",
    "function count(food) {\n",
    "        console.log(food.length)\n",
    "    }\n",
    "\n",
    "count(\"Burgers\", \"Fries\", null); // 7 is returned as the length of `Burgers` is 7. \n",
    "// However, 3 is expected as there are 3 items passed in the count()"
   ]
  },
  {
   "cell_type": "code",
   "execution_count": null,
   "id": "2ebb35df",
   "metadata": {
    "hidden": true
   },
   "outputs": [],
   "source": [
    "%%javascript\n",
    "\n",
    "// Example 1 : Expanding iterable into individual items (Array to arguments)\n",
    "\n",
    "function count(...food) {\n",
    "        console.log(food.length)\n",
    "    }\n",
    "\n",
    "count(\"Burgers\", \"Fries\", null); // 3 is expected"
   ]
  },
  {
   "cell_type": "code",
   "execution_count": null,
   "id": "dfc56475",
   "metadata": {
    "hidden": true
   },
   "outputs": [],
   "source": [
    "%%javascript\n",
    "\n",
    "// Example 2\n",
    "\n",
    "function multiply(number1, number2, number3) {\n",
    "  console.log(number1 * number2 * number3);\n",
    "}\n",
    "let numbers = [1,2,3];\n",
    "multiply(...numbers);"
   ]
  },
  {
   "cell_type": "markdown",
   "id": "e46340c4",
   "metadata": {
    "hidden": true
   },
   "source": [
    "Instead of having to pass each element like `numbers[0]`, `numbers[1]` and so on, the spread syntax allows array elements to be passed in as individual arguments."
   ]
  },
  {
   "cell_type": "code",
   "execution_count": null,
   "id": "5afe6862",
   "metadata": {
    "hidden": true
   },
   "outputs": [],
   "source": [
    "%%javascript\n",
    "\n",
    "// Example 3 : Passing elements of the array as arguments to the Math Object\n",
    "\n",
    "let numbers = [1,2,300,-1,0,-100];\n",
    "console.log(Math.min(...numbers));"
   ]
  },
  {
   "cell_type": "markdown",
   "id": "f764868c",
   "metadata": {
    "hidden": true
   },
   "source": [
    "The `Math` object of Javascript does not take in a single array as an argument but with the spread syntax, the array is expanded into a number of arguments with just one line of code."
   ]
  },
  {
   "cell_type": "code",
   "execution_count": null,
   "id": "59d5686c",
   "metadata": {
    "hidden": true
   },
   "outputs": [],
   "source": [
    "%%javascript\n",
    "\n",
    "// Example 4 : shallow copying an array\n",
    "\n",
    "let array1 = ['h', 'e', 'l', 'l', 'o'];\n",
    "let array2 = [...array1];\n",
    "\n",
    "console.log(array2); // output is ['h', 'e', 'l', 'l', 'o'] "
   ]
  },
  {
   "cell_type": "markdown",
   "id": "a1f2c115",
   "metadata": {
    "hidden": true
   },
   "source": [
    "The `array2` has the elements of `array1` copied into it. Any changes made to `array1` will not be reflected in `array2` and vice versa.\n",
    "\n",
    "If the simple assignment operator had been used then `array2` would have been assigned a reference to `array1` and the changes made in one array would reflect in the other array which in most cases is undesirable."
   ]
  },
  {
   "cell_type": "code",
   "execution_count": null,
   "id": "ba128699",
   "metadata": {
    "hidden": true
   },
   "outputs": [],
   "source": [
    "%%javascript\n",
    "\n",
    "const car1 = {\n",
    "    speed: 200,\n",
    "    color: 'yellow'\n",
    "}\n",
    "const car2 = {...car1}\n",
    "\n",
    "car1.speed = 201\n",
    "\n",
    "console.log(car1.speed, car2.speed) // The output is 201, 200"
   ]
  },
  {
   "cell_type": "code",
   "execution_count": null,
   "id": "72c29662",
   "metadata": {
    "hidden": true
   },
   "outputs": [],
   "source": [
    "%%javascript\n",
    "\n",
    "// Example 5 : Convert a string to an array\n",
    "\n",
    "const greeting = \"Hello\";\n",
    "const arrayOfChars = [...greeting];\n",
    "console.log(arrayOfChars); //  ['H', 'e', 'l', 'l', 'o']"
   ]
  },
  {
   "cell_type": "code",
   "execution_count": null,
   "id": "19464d1e",
   "metadata": {
    "hidden": true
   },
   "outputs": [],
   "source": [
    "%%javascript\n",
    "\n",
    "// Example 6 : Inserting the elements of one array into another\n",
    "\n",
    "let desserts = ['cake', 'cookie', 'donut'];\n",
    "console.log(desserts);\n",
    "\n",
    "let desserts1 = ['icecream', 'flan', 'frozen yoghurt', ...desserts];\n",
    "console.log(desserts1);\n",
    "\n",
    "let desserts2 = ['icecream', 'flan', ...desserts, 'frozen yoghurt'];\n",
    "console.log(desserts2);"
   ]
  },
  {
   "cell_type": "markdown",
   "id": "a85670ad",
   "metadata": {
    "hidden": true
   },
   "source": [
    "It can be seen that the spread syntax can be used to append one array after any element of the second array. In other words, there is no limitation that desserts can only be appended at the beginning of the end of the desserts1 array."
   ]
  },
  {
   "cell_type": "code",
   "execution_count": null,
   "id": "2eae8fa4",
   "metadata": {
    "hidden": true
   },
   "outputs": [],
   "source": [
    "%%javascript\n",
    "\n",
    "const flying = { wings: 2 }\n",
    "const car = { wheels: 4 }\n",
    "const flyingCar = {...flying, ...car}\n",
    "console.log(flyingCar) // {wings: 2, wheels: 4}"
   ]
  },
  {
   "cell_type": "markdown",
   "id": "7a695341",
   "metadata": {
    "heading_collapsed": true,
    "hidden": true
   },
   "source": [
    "### Rest parameters"
   ]
  },
  {
   "cell_type": "code",
   "execution_count": null,
   "id": "57f00bfb",
   "metadata": {
    "hidden": true
   },
   "outputs": [],
   "source": [
    "%%javascript\n",
    "\n",
    "function myFun(a,  b, ...manyMoreArgs) {\n",
    "  console.log(\"a\", a)\n",
    "  console.log(\"b\", b)\n",
    "  console.log(\"manyMoreArgs\", manyMoreArgs)\n",
    "}\n",
    "\n",
    "myFun(\"one\", \"two\", \"three\", \"four\", \"five\", \"six\")\n",
    "\n"
   ]
  },
  {
   "cell_type": "code",
   "execution_count": null,
   "id": "cf3166d9",
   "metadata": {
    "hidden": true
   },
   "outputs": [],
   "source": [
    "%%javascript\n",
    "\n",
    "const meal = [\"soup\", \"steak\", \"ice cream\"]\n",
    "var [starter] = meal;\n",
    "console.log(starter); // soup\n",
    "\n",
    "var [starter, ...other_meals] = meal;\n",
    "console.log(starter, other_meals); // soup, ['steak', 'ice cream']"
   ]
  },
  {
   "cell_type": "markdown",
   "id": "dd0dcaf4",
   "metadata": {
    "heading_collapsed": true
   },
   "source": [
    "## Javascript in the Browser"
   ]
  },
  {
   "cell_type": "code",
   "execution_count": null,
   "id": "f7962eb2",
   "metadata": {
    "hidden": true
   },
   "outputs": [],
   "source": [
    "%%javascript\n",
    "\n",
    "// calling the alert box\n",
    "alert(\"hello\");"
   ]
  },
  {
   "cell_type": "code",
   "execution_count": null,
   "id": "2e01c71a",
   "metadata": {
    "hidden": true
   },
   "outputs": [],
   "source": [
    "%%javascript\n",
    "\n",
    "let answer = prompt('What is your name?');\n",
    "console.log(answer);"
   ]
  },
  {
   "cell_type": "markdown",
   "id": "938340d9",
   "metadata": {
    "heading_collapsed": true,
    "hidden": true
   },
   "source": [
    "### DOM"
   ]
  },
  {
   "cell_type": "markdown",
   "id": "25aabaf3",
   "metadata": {
    "hidden": true
   },
   "source": [
    "**Document Object Model (DOM)** is the framework a browser uses to read and store a webpage."
   ]
  },
  {
   "cell_type": "code",
   "execution_count": null,
   "id": "1e012649",
   "metadata": {
    "hidden": true
   },
   "outputs": [],
   "source": [
    "%%javascript\n",
    "\n",
    "// This captures the whole HTML page as a document\n",
    "console.log(document);"
   ]
  },
  {
   "cell_type": "code",
   "execution_count": null,
   "id": "8979ae22",
   "metadata": {
    "hidden": true
   },
   "outputs": [],
   "source": [
    "%%javascript\n",
    "\n",
    "// A list of all HTML elements is returned that has ClassName 'text_cell_render rendered_html'\n",
    "console.log(document.getElementsByClassName('text_cell_render rendered_html')[76]);\n",
    "console.log(document.getElementsByClassName('text_cell_render rendered_html')[76].innerHTML);\n",
    "\n",
    "// This captures the a particular `div` section in a document"
   ]
  },
  {
   "cell_type": "markdown",
   "id": "2cdb08f5",
   "metadata": {
    "hidden": true
   },
   "source": [
    "This is a sample text to demonstrate the use of **addEventListener()** on clicking this paragraph."
   ]
  },
  {
   "cell_type": "code",
   "execution_count": null,
   "id": "a33c8209",
   "metadata": {
    "hidden": true
   },
   "outputs": [],
   "source": [
    "%%javascript\n",
    "\n",
    "const target = document.getElementsByClassName('text_cell_render rendered_html')[77];\n",
    "\n",
    "function handleClick() {\n",
    "    console.log(\"The sample paragraph is clicked\")\n",
    "    console.log(target.querySelector('p').innerText)\n",
    "}\n",
    "\n",
    "target.addEventListener('click', handleClick)\n",
    "\n",
    "console.log('Now click on the above paragraph after executing this cell')"
   ]
  },
  {
   "cell_type": "markdown",
   "id": "c3956e26",
   "metadata": {
    "heading_collapsed": true,
    "hidden": true
   },
   "source": [
    "### Examples of **HTML** within Jupyter cells"
   ]
  },
  {
   "cell_type": "code",
   "execution_count": null,
   "id": "980a1358",
   "metadata": {
    "hidden": true
   },
   "outputs": [],
   "source": [
    "%%html\n",
    "\n",
    "<script>\n",
    "\n",
    "var test = function() {\n",
    "var name = prompt(\"What's your name?\");\n",
    "var message = `Welcome ${name}!`\n",
    "\n",
    "document.getElementById('output_1').innerHTML = message;\n",
    "console.log(message);\n",
    "};\n",
    "\n",
    "test();\n",
    "\n",
    "</script>\n",
    "\n",
    "<h4 id=\"output_1\"><script></script></h4>\n",
    "<p>Web page content is updated dynamically</p>\n"
   ]
  },
  {
   "cell_type": "code",
   "execution_count": null,
   "id": "cf2d618b",
   "metadata": {
    "hidden": true
   },
   "outputs": [],
   "source": [
    "%%html\n",
    "\n",
    "<h4>What's on your mind?</h4>\n",
    "\n",
    "<script>\n",
    "var javascript_to_html = function(custom_input) {\n",
    "  let message = `| ${custom_input} |`\n",
    "  document.getElementById('user_id').innerHTML = message;\n",
    "  console.log(message);\n",
    "};\n",
    "</script>\n",
    "\n",
    "<h4 id='user_id'><script>javascript_to_html(\"Hello\")</script></h4>\n",
    "<p>Text is inserted as an argument inside javascript_to_html()</p>\n"
   ]
  },
  {
   "cell_type": "code",
   "execution_count": null,
   "id": "bc363f01",
   "metadata": {
    "hidden": true
   },
   "outputs": [],
   "source": [
    "%%html\n",
    "\n",
    "<p>Creating HTML for header element within Javascript</p>\n",
    "\n",
    "<script>\n",
    "message = \"Hello\"\n",
    "var h4 = document.createElement('h4');\n",
    "h4.innerText = `${message} Again!`;\n",
    "document.getElementById('output_3').appendChild(h4)\n",
    "console.log(h4)\n",
    "\n",
    "</script>\n",
    "\n",
    "<div id=\"output_3\"><script></script></div>"
   ]
  },
  {
   "cell_type": "code",
   "execution_count": null,
   "id": "e6083036",
   "metadata": {
    "hidden": true,
    "scrolled": true
   },
   "outputs": [],
   "source": [
    "%%html\n",
    "\n",
    "<div id=\"example_1\">\n",
    "    <h3>Example Domain</h3>\n",
    "    <p>This domain is for use in illustrative examples in documents. You may use this\n",
    "    domain in literature without prior coordination or asking for permission.</p>\n",
    "    <p><a href=\"https://www.iana.org/domains/example\">More information...</a></p>\n",
    "</div>\n",
    "<br/>\n",
    "<hr>\n",
    "\n",
    "\n",
    "<script>\n",
    "\n",
    "var create_html_header = function(message, header_type='h4'){\n",
    "var header = document.createElement(header_type);\n",
    "header.innerText = `${message}`;\n",
    "document.getElementById('header_output').appendChild(header)\n",
    "console.log(header)\n",
    "}\n",
    "\n",
    "</script>\n",
    "\n",
    "<div id=\"header_output\"><script>create_html_header('Custom Header', 'h3')</script></div>\n",
    "<div id=\"header_output\"><script>create_html_header('Custom Header without type')</script></div>\n",
    "<p>HTML header functions in Javascript</p>\n"
   ]
  },
  {
   "cell_type": "code",
   "execution_count": null,
   "id": "fed29fa5",
   "metadata": {
    "hidden": true
   },
   "outputs": [],
   "source": [
    "%%html\n",
    "\n",
    "<script>\n",
    "\n",
    "var heading = document.createElement('h4')\n",
    "heading.innerText = \"Type into the input to make this text change\"\n",
    "\n",
    "var input = document.createElement('input')\n",
    "input.setAttribute('type', 'text')\n",
    "\n",
    "output_block = document.getElementById('output_4')\n",
    "output_block.innerText = 'Form Content:  '\n",
    "output_block.appendChild(input);\n",
    "output_block.appendChild(heading);\n",
    "\n",
    "input.addEventListener('change', function() {\n",
    "    heading.innerText = input.value\n",
    "    console.log(input.value)\n",
    "})\n",
    "</script>\n",
    "\n",
    "<div id=\"output_4\"><script></script></div>\n",
    "<p>Adding inside div block</p>"
   ]
  },
  {
   "cell_type": "code",
   "execution_count": null,
   "id": "60bc9a76",
   "metadata": {
    "hidden": true
   },
   "outputs": [],
   "source": [
    "%%html\n",
    "\n",
    "<script>\n",
    "\n",
    "var h4 = document.getElementById('example_1_out')\n",
    "\n",
    "var arr = [\n",
    "    'Click Me',\n",
    "    'First Click',\n",
    "    'Second Click',\n",
    "    'Third Click'\n",
    "]\n",
    "\n",
    "\n",
    "var create_html_header = function(message, header_type='h4'){\n",
    "var header = document.createElement(header_type);\n",
    "header.innerText = `${message}`;\n",
    "document.getElementById('example_1_out').innerText = '';\n",
    "document.getElementById('example_1_out').appendChild(header);\n",
    "console.log(header);\n",
    "    return header;\n",
    "}\n",
    "\n",
    "\n",
    "function handleClicks() {\n",
    "    switch(h4.innerText) {\n",
    "        case arr[0]:\n",
    "            h4 = create_html_header(arr[1])\n",
    "            console.log(h4.innerText)\n",
    "            break\n",
    "        case arr[1]:\n",
    "            h4 = create_html_header(arr[2])\n",
    "            console.log(h4.innerText)\n",
    "            break\n",
    "        case arr[2]:\n",
    "            h4 = create_html_header(arr[3])\n",
    "            console.log(h4.innerText)\n",
    "            break\n",
    "        default:\n",
    "            h4 = create_html_header(arr[0])\n",
    "            console.log(h4.innerText)\n",
    "    }\n",
    "}\n",
    "\n",
    "h4.addEventListener('click', handleClicks);\n",
    "\n",
    "</script>\n",
    "\n",
    "<div id=\"example_1_out\">\n",
    "    <h4>Click Me</h4>\n",
    "</div>"
   ]
  },
  {
   "cell_type": "markdown",
   "id": "06996255",
   "metadata": {
    "heading_collapsed": true
   },
   "source": [
    "## Exports & Imports"
   ]
  },
  {
   "cell_type": "markdown",
   "id": "872fd744",
   "metadata": {
    "hidden": true
   },
   "source": [
    "In JavaScript, the code can be splitted across multiple JavaScript files, also called **modules**, to keep each file/ module focused and manageable.\n",
    "\n",
    "To access functionality in another file, we need **export** (to make it available) and **import**  (to get access) statements.\n"
   ]
  },
  {
   "cell_type": "markdown",
   "id": "b9d4a673",
   "metadata": {
    "hidden": true
   },
   "source": [
    "### Exports\n",
    "There are two different types of exports: **default (unnamed)** and **named** exports\n",
    "\n",
    "**default** => `export default ...;`\n",
    "\n",
    "**named** => `export const someData = ...;` \n",
    "\n",
    "A file can only contain **one default** and an **unlimited amount of named exports**."
   ]
  },
  {
   "cell_type": "markdown",
   "id": "bb25b24e",
   "metadata": {
    "hidden": true
   },
   "source": [
    "### Imports\n",
    "We can import **default exports** like this:\n",
    "\n",
    "`import some_name from './path/to/file.js';` \n",
    "where `some_name` is upto the user.\n",
    "\n",
    "\n",
    "**Named exports** have to be imported by their name:\n",
    "\n",
    "`import { someData } from './path/to/file.js';`"
   ]
  },
  {
   "cell_type": "markdown",
   "id": "f5da8f32",
   "metadata": {
    "hidden": true
   },
   "source": [
    "### Importing & Exporting bundle objects using alias"
   ]
  },
  {
   "cell_type": "markdown",
   "id": "706d4f28",
   "metadata": {
    "hidden": true
   },
   "source": [
    "When importing **named exports**, we can also import all named exports at once with the following syntax:\n",
    "\n",
    "`import * as alias_name from './path/to/file.js';` \n",
    "where `alias_name` is upto the user that *bundles* all exported variables/functions in one **JavaScript object**. \n",
    "\n",
    "For example, if we `export const someData = ...  (/path/to/file.js )`,  we can access the **bundle object** like this: `alias_name.someData`."
   ]
  },
  {
   "cell_type": "markdown",
   "id": "821d4bf4",
   "metadata": {},
   "source": [
    "## Asynchonous Programming, Callbacks and Promises"
   ]
  },
  {
   "cell_type": "markdown",
   "id": "d9ba9654",
   "metadata": {},
   "source": [
    "Most of the time, JavaScript code is ran **synchronously**. This means that a line of code is executed, then the next one is executed, and so on.\n",
    "\n",
    "However there are times when you cannot just wait for a line of code to\n",
    "execute. For example, We can't just wait 2 seconds for a big file to load, and halt the program completely.Similarly, we can't just wait for a network resource to be downloaded, before doing something else.\n",
    "\n",
    "JavaScript solves this problem using **callbacks**. One of the simplest examples of how to use callbacks is **timers**. Timers are not part of JavaScript, but they are provided by the browser and Node.js."
   ]
  },
  {
   "cell_type": "code",
   "execution_count": 25,
   "id": "b4933e5f",
   "metadata": {},
   "outputs": [
    {
     "data": {
      "application/javascript": [
       "\n",
       "print = () => {\n",
       " console.log('inside the function')\n",
       "}\n",
       "\n",
       " // runs after 2 seconds\n",
       "setTimeout(print, 2000)\n"
      ],
      "text/plain": [
       "<IPython.core.display.Javascript object>"
      ]
     },
     "metadata": {},
     "output_type": "display_data"
    }
   ],
   "source": [
    "%%javascript\n",
    "\n",
    "const print = () => {\n",
    " console.log('inside the function');\n",
    "}\n",
    "\n",
    " // runs after 2 seconds\n",
    "setTimeout(print, 2000);"
   ]
  },
  {
   "cell_type": "markdown",
   "id": "ce4909c9",
   "metadata": {},
   "source": [
    "The `setTimeout()` function accepts 2 arguments: a **function**, and a **number**. The number is the **milliseconds** that must pass before the function is ran.\n",
    "\n",
    "The callback function is executed **asynchronously**. For example:"
   ]
  },
  {
   "cell_type": "code",
   "execution_count": 55,
   "id": "f24ed31e",
   "metadata": {},
   "outputs": [
    {
     "data": {
      "application/javascript": [
       "\n",
       "const print = () => {\n",
       " console.log('inside the function');\n",
       "}\n",
       "\n",
       "console.log('before');\n",
       "\n",
       "// runs after 2 seconds\n",
       "setTimeout(print, 2000);\n",
       "\n",
       "setTimeout(print, 2000);\n",
       "\n",
       "\n",
       "console.log('after');\n"
      ],
      "text/plain": [
       "<IPython.core.display.Javascript object>"
      ]
     },
     "metadata": {},
     "output_type": "display_data"
    }
   ],
   "source": [
    "%%javascript\n",
    "\n",
    "const print = () => {\n",
    " console.log('inside the function');\n",
    "}\n",
    "\n",
    "console.log('before');\n",
    "\n",
    "// runs after 2 seconds\n",
    "setTimeout(print, 2000);\n",
    "\n",
    "setTimeout(print, 2000);\n",
    "\n",
    "\n",
    "console.log('after');"
   ]
  },
  {
   "cell_type": "markdown",
   "id": "936a765f",
   "metadata": {},
   "source": [
    "The asynchronous code can be dealt by using **Promises**. A JavaScript Promise object can be **Pending**, **Fulfilled**, **Rejected**. The Promise object supports two properties: **state** and **result**.\n",
    "\n",
    "* While a Promise object is **pending (working)**, the result is `undefined`.\n",
    "\n",
    "* When a Promise object is **fulfilled**, the result is a `value`.\n",
    "\n",
    "* When a Promise object is **rejected**, the result is an `error object`.\n",
    "\n",
    "We call a promise-based function in this way:"
   ]
  },
  {
   "cell_type": "code",
   "execution_count": 77,
   "id": "82c5a3ee",
   "metadata": {},
   "outputs": [
    {
     "data": {
      "application/javascript": [
       "\n",
       "function display(something) {\n",
       "  console.log(something);\n",
       "}\n",
       "\n",
       "const next = (a) => {\n",
       "    a +=1;\n",
       "    display(`Adding: ${a}`);\n",
       "    return a;\n",
       "}\n",
       "\n",
       "const previous = (a) => {\n",
       "    a-=1\n",
       "    display(`Subtracting: ${a}`);\n",
       "    return a;\n",
       "}\n",
       "\n",
       "const operations = (a) => {\n",
       "  a = next(a);\n",
       "  a = next(a);\n",
       "  a = previous(a);\n",
       "  a = next(a);\n",
       "  a = next(a);\n",
       "  a = previous(a);\n",
       "  a = next(a);\n",
       "  a = previous(a);\n",
       "  a = previous(a);\n",
       "  return a;\n",
       "}\n",
       "\n",
       "/* we pass a function in the Promise constructor\n",
       "\n",
       "This function receives 2 parameters. \n",
       "resolve is a function we call to resolve the promise\n",
       "reject a function we call to reject the promise.\n",
       "\n",
       "*/\n",
       "let myPromise = new Promise(function(resolve, reject) {\n",
       "  let x = 5;\n",
       "  x = operations(x);\n",
       "  console.log(`x: ${x}`)\n",
       "    \n",
       "  if (x <= 5) {\n",
       "    resolve(`OK. The value is: ${x}`);\n",
       "  } \n",
       "  else {\n",
       "    reject(\"ERROR (The value is greater than 5)\");\n",
       "  }\n",
       "});\n",
       "\n",
       "myPromise\n",
       "    .then(result => {\n",
       " display(`Status: ${result}`)\n",
       " })\n",
       "    .catch(error => {\n",
       " display(`Status: ${error}`)\n",
       " })\n",
       "\n",
       "\n",
       "// myPromise.then(\n",
       "//   function(value) {display(value);},\n",
       "//   function(error) {display(error);}\n",
       "// );\n"
      ],
      "text/plain": [
       "<IPython.core.display.Javascript object>"
      ]
     },
     "metadata": {},
     "output_type": "display_data"
    }
   ],
   "source": [
    "%%javascript\n",
    "\n",
    "function display(something) {\n",
    "  console.log(something);\n",
    "}\n",
    "\n",
    "const next = (a) => {\n",
    "    a +=1;\n",
    "    display(`Adding: ${a}`);\n",
    "    return a;\n",
    "}\n",
    "\n",
    "const previous = (a) => {\n",
    "    a-=1\n",
    "    display(`Subtracting: ${a}`);\n",
    "    return a;\n",
    "}\n",
    "\n",
    "const operations = (a) => {\n",
    "  a = next(a);\n",
    "  a = next(a);\n",
    "  a = previous(a);\n",
    "  a = next(a);\n",
    "  a = next(a);\n",
    "  a = previous(a);\n",
    "  a = next(a);\n",
    "  a = previous(a);\n",
    "  a = previous(a);\n",
    "  return a;\n",
    "}\n",
    "\n",
    "/* we pass a function in the Promise constructor\n",
    "\n",
    "This function receives 2 parameters. \n",
    "resolve is a function we call to resolve the promise\n",
    "reject a function we call to reject the promise.\n",
    "\n",
    "*/\n",
    "let myPromise = new Promise(function(resolve, reject) {\n",
    "  let x = 5;\n",
    "  x = operations(x);\n",
    "  console.log(`x: ${x}`)\n",
    "    \n",
    "  if (x <= 5) {\n",
    "    resolve(`OK. The value is: ${x}`);\n",
    "  } \n",
    "  else {\n",
    "    reject(\"ERROR (The value is greater than 5)\");\n",
    "  }\n",
    "});\n",
    "\n",
    "myPromise\n",
    "    .then(result => {\n",
    " display(`Status: ${result}`)\n",
    " })\n",
    "    .catch(error => {\n",
    " display(`Status: ${error}`)\n",
    " })"
   ]
  },
  {
   "cell_type": "markdown",
   "id": "4e0ce457",
   "metadata": {},
   "source": [
    "We first call the function `myPromise`, then we have a `then()` method that is called when the function ends. The errors are detected using a `catch()` method.\n",
    "\n",
    "* **Resolving a promise** means complete it **successfully** (which results in calling the `then()` method in who uses it).\n",
    "\n",
    "\n",
    "* **Rejecting a promise** means ending it with an **error** (which results in calling the `catch()` method in who uses it)."
   ]
  },
  {
   "cell_type": "code",
   "execution_count": null,
   "id": "c820281b",
   "metadata": {},
   "outputs": [],
   "source": []
  },
  {
   "cell_type": "markdown",
   "id": "1ac67fdd",
   "metadata": {},
   "source": [
    "## Testing (Additional Content)"
   ]
  },
  {
   "cell_type": "code",
   "execution_count": null,
   "id": "d3fe748c",
   "metadata": {},
   "outputs": [],
   "source": []
  },
  {
   "cell_type": "code",
   "execution_count": null,
   "id": "c2ecec1c",
   "metadata": {},
   "outputs": [],
   "source": []
  },
  {
   "cell_type": "markdown",
   "id": "e79a4ada",
   "metadata": {
    "heading_collapsed": true
   },
   "source": [
    "## Readings\n"
   ]
  },
  {
   "cell_type": "markdown",
   "id": "42a20d35",
   "metadata": {
    "hidden": true
   },
   "source": [
    "### Documentation\n",
    "* https://developer.mozilla.org/en-US/docs/Web/JavaScript\n",
    "* https://data-flair.training/blogs/javascript-tutorial/\n",
    "\n",
    "### Testing\n",
    "* https://jestjs.io/docs/getting-started\n",
    "\n",
    "### Python-Javascript Integration\n",
    "* https://towardsdatascience.com/introducing-notebookjs-seamless-integration-between-python-and-javascript-in-computational-e654ec3fbd18\n",
    "\n",
    "### Visualization\n",
    "* https://livingwithmachines.ac.uk/d3-javascript-visualisation-in-a-python-jupyter-notebook/\n",
    "* https://www.stefaanlippens.net/jupyter-custom-d3-visualization.html\n",
    "* https://towardsdatascience.com/javascript-charts-on-jupyter-notebooks-dd25f794cf6a\n",
    "\n",
    "### Text\n",
    "* https://tobiasahlin.com/moving-letters/\n",
    "* https://speckyboy.com/css-javascript-text-animation-snippets/\n",
    "* https://bashooka.com/coding/37-cool-text-effect-animations-made-with-css-javascript/\n",
    "* https://freefrontend.com/javascript-text-effects/"
   ]
  },
  {
   "cell_type": "markdown",
   "id": "3396e72a",
   "metadata": {
    "hidden": true
   },
   "source": [
    "### Other references\n",
    "https://www.tutorialstonight.com/javascript-string-format.php"
   ]
  },
  {
   "cell_type": "code",
   "execution_count": null,
   "id": "d7665e21",
   "metadata": {
    "hidden": true
   },
   "outputs": [],
   "source": [
    "# from IPython.display import display, Javascript, HTML"
   ]
  },
  {
   "cell_type": "code",
   "execution_count": null,
   "id": "ec64b5b0",
   "metadata": {
    "hidden": true
   },
   "outputs": [],
   "source": []
  }
 ],
 "metadata": {
  "kernelspec": {
   "display_name": "Python 3",
   "language": "python",
   "name": "python3"
  },
  "language_info": {
   "codemirror_mode": {
    "name": "ipython",
    "version": 3
   },
   "file_extension": ".py",
   "mimetype": "text/x-python",
   "name": "python",
   "nbconvert_exporter": "python",
   "pygments_lexer": "ipython3",
   "version": "3.9.7"
  },
  "toc": {
   "base_numbering": 1,
   "nav_menu": {},
   "number_sections": false,
   "sideBar": true,
   "skip_h1_title": false,
   "title_cell": "Table of Contents",
   "title_sidebar": "Contents",
   "toc_cell": false,
   "toc_position": {},
   "toc_section_display": true,
   "toc_window_display": false
  },
  "varInspector": {
   "cols": {
    "lenName": 16,
    "lenType": 16,
    "lenVar": 40
   },
   "kernels_config": {
    "python": {
     "delete_cmd_postfix": "",
     "delete_cmd_prefix": "del ",
     "library": "var_list.py",
     "varRefreshCmd": "print(var_dic_list())"
    },
    "r": {
     "delete_cmd_postfix": ") ",
     "delete_cmd_prefix": "rm(",
     "library": "var_list.r",
     "varRefreshCmd": "cat(var_dic_list()) "
    }
   },
   "types_to_exclude": [
    "module",
    "function",
    "builtin_function_or_method",
    "instance",
    "_Feature"
   ],
   "window_display": false
  }
 },
 "nbformat": 4,
 "nbformat_minor": 5
}
