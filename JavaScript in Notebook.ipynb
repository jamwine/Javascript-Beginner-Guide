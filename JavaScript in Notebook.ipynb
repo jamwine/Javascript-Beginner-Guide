{
 "cells": [
  {
   "cell_type": "markdown",
   "id": "de2908a7",
   "metadata": {},
   "source": [
    "# JavaScript Basics"
   ]
  },
  {
   "cell_type": "markdown",
   "id": "3ce77166",
   "metadata": {},
   "source": [
    "* By utilizing the **%%javascript** magic, we can run Javascript on Jupyter Notebooks and use the **console** for viewing output.\n",
    "\n",
    "\n",
    "* Right-click and select **Inspect** to open the console.\n",
    "\n",
    "<img width=\"860%\" src=\"imgs/jupyter_console.png\" alt=\"jupyter_console.png\">"
   ]
  },
  {
   "cell_type": "markdown",
   "id": "713d8b50",
   "metadata": {
    "heading_collapsed": true
   },
   "source": [
    "## Comments in Javascript"
   ]
  },
  {
   "cell_type": "markdown",
   "id": "3371e196",
   "metadata": {
    "hidden": true
   },
   "source": [
    "There are two varieties of comments in JavaScript: \n",
    "\n",
    "* Single-line comments \n",
    "* Multi-line comments"
   ]
  },
  {
   "cell_type": "code",
   "execution_count": null,
   "id": "2d2c74e0",
   "metadata": {
    "hidden": true
   },
   "outputs": [],
   "source": [
    "%%javascript\n",
    "\n",
    "// Single-line comment, all the content of this cell will be interpreted as Javascript code"
   ]
  },
  {
   "cell_type": "code",
   "execution_count": null,
   "id": "8e354fff",
   "metadata": {
    "hidden": true
   },
   "outputs": [],
   "source": [
    "%%javascript\n",
    "\n",
    "/*\n",
    "this is a multi-line comment\n",
    "the code within this cell will be interpreted as Javascript code\n",
    "*/\n",
    "\n",
    "console.log(\"Hello from Jupyter Notebook!\");"
   ]
  },
  {
   "cell_type": "code",
   "execution_count": null,
   "id": "b0ee984b",
   "metadata": {
    "hidden": true
   },
   "outputs": [],
   "source": [
    "%%javascript\n",
    "\n",
    "// Styling the console output by using valid CSS code\n",
    "console.log(\"%cHello from Jupyter Notebook!\", \"color: white; font-size: 15px\");"
   ]
  },
  {
   "cell_type": "markdown",
   "id": "99b8a1c8",
   "metadata": {
    "hidden": true
   },
   "source": [
    "Adding `%c` right after the `\"` character allowed us to style the words in the console output."
   ]
  },
  {
   "cell_type": "code",
   "execution_count": null,
   "id": "5188ab25",
   "metadata": {
    "hidden": true
   },
   "outputs": [],
   "source": [
    "%%javascript\n",
    "\n",
    "// calling the alert box\n",
    "alert(\"hello\");"
   ]
  },
  {
   "cell_type": "markdown",
   "id": "47493a73",
   "metadata": {
    "heading_collapsed": true
   },
   "source": [
    "## Variables"
   ]
  },
  {
   "cell_type": "code",
   "execution_count": 160,
   "id": "702453db",
   "metadata": {
    "hidden": true
   },
   "outputs": [
    {
     "data": {
      "application/javascript": [
       "\n",
       "// Defining variables x, y, z\n",
       "\n",
       "var x = 10; // integer\n",
       "var y = true; // boolean\n",
       "var z = 'Learn'; // string\n",
       "var course = \"JavaScript is interesting\"\n",
       "\n",
       "// Printing variables on console output in a single line\n",
       "console.log(x, y, z, course);\n"
      ],
      "text/plain": [
       "<IPython.core.display.Javascript object>"
      ]
     },
     "metadata": {},
     "output_type": "display_data"
    }
   ],
   "source": [
    "%%javascript\n",
    "\n",
    "// Defining variables x, y, z\n",
    "\n",
    "var x = 10; // integer\n",
    "var y = true; // boolean\n",
    "var z = 'Learn'; // string\n",
    "var course = \"JavaScript is interesting\"\n",
    "\n",
    "// Printing variables on console output in a single line\n",
    "console.log(x, y, z, course);"
   ]
  },
  {
   "cell_type": "markdown",
   "id": "62c57951",
   "metadata": {
    "hidden": true
   },
   "source": [
    "Strings can be specified using both single or double quotes."
   ]
  },
  {
   "cell_type": "code",
   "execution_count": 153,
   "id": "6ee3dc2a",
   "metadata": {
    "hidden": true
   },
   "outputs": [
    {
     "data": {
      "application/javascript": [
       "\n",
       "var a; // a value's is undefined (by default)\n",
       "var b = null; // b value's is defined as null\n",
       "\n",
       "console.log(a, b);\n"
      ],
      "text/plain": [
       "<IPython.core.display.Javascript object>"
      ]
     },
     "metadata": {},
     "output_type": "display_data"
    }
   ],
   "source": [
    "%%javascript\n",
    "\n",
    "var a; // a value's is undefined (by default)\n",
    "var b = null; // b value's is defined as null\n",
    "\n",
    "console.log(a, b);"
   ]
  },
  {
   "cell_type": "code",
   "execution_count": 154,
   "id": "1b60e524",
   "metadata": {
    "hidden": true
   },
   "outputs": [
    {
     "data": {
      "application/javascript": [
       "\n",
       "var message_1 = 'Welcome Jamwine..';\n",
       "var message_2 = \"Hello from Jupyter Notebook!\";\n",
       "\n",
       "console.log(message_1, message_2);\n"
      ],
      "text/plain": [
       "<IPython.core.display.Javascript object>"
      ]
     },
     "metadata": {},
     "output_type": "display_data"
    }
   ],
   "source": [
    "%%javascript\n",
    "\n",
    "var message_1 = 'Welcome Jamwine..';\n",
    "var message_2 = \"Hello from Jupyter Notebook!\";\n",
    "\n",
    "console.log(message_1, message_2);"
   ]
  },
  {
   "cell_type": "code",
   "execution_count": 155,
   "id": "a8505bb4",
   "metadata": {
    "hidden": true
   },
   "outputs": [
    {
     "data": {
      "application/javascript": [
       "\n",
       "var name = \"Jamwine\";\n",
       "\n",
       "// concatenating strings using + operator\n",
       "var message_1 = \"Welcome \" + name + \"..\";\n",
       "var message_2 = \"Hello from Jupyter Notebook!\"\n",
       "\n",
       "/* Use backticks (``) for accessing variables within strings.\n",
       "   To access a variable: wrap it in curly braces ({}) preceded by a dollar sign ($).\n",
       "   For example: `Hey ${name}..`\n",
       "*/\n",
       "var message_3 = `How are you ${name}?`;\n",
       "\n",
       "console.log(message_1, message_2, '\\n', message_3);\n"
      ],
      "text/plain": [
       "<IPython.core.display.Javascript object>"
      ]
     },
     "metadata": {},
     "output_type": "display_data"
    }
   ],
   "source": [
    "%%javascript\n",
    "\n",
    "var name = \"Jamwine\";\n",
    "\n",
    "// concatenating strings using + operator\n",
    "var message_1 = \"Welcome \" + name + \"..\";\n",
    "var message_2 = \"Hello from Jupyter Notebook!\"\n",
    "\n",
    "/* Use backticks (``) for accessing variables within strings.\n",
    "   To access a variable: wrap it in curly braces ({}) preceded by a dollar sign ($).\n",
    "   For example: `Hey ${name}..`\n",
    "*/\n",
    "var message_3 = `How are you ${name}?`;\n",
    "\n",
    "console.log(message_1, message_2, '\\n', message_3);"
   ]
  },
  {
   "cell_type": "markdown",
   "id": "3059ae81",
   "metadata": {
    "hidden": true
   },
   "source": [
    "These variables are called **placeholders** within the string which are replaced with the values of the variables."
   ]
  },
  {
   "cell_type": "code",
   "execution_count": 156,
   "id": "a55b7c9c",
   "metadata": {
    "hidden": true
   },
   "outputs": [
    {
     "data": {
      "application/javascript": [
       "\n",
       "var name = \"Jamwine\"\n",
       "var greeting = \"Hey\"\n",
       "var message = `%c${greeting} ${name}!`\n",
       "var css_style = \"color: white; font-size: 20px\"\n",
       "\n",
       "console.log(message, css_style)\n",
       "\n",
       "// Greeting message is changed, `var` keyword is not required now\n",
       "greeting = \"Hi\"\n",
       "message = `%c${greeting} ${name}!`\n",
       "\n",
       "console.log(message, css_style)\n"
      ],
      "text/plain": [
       "<IPython.core.display.Javascript object>"
      ]
     },
     "metadata": {},
     "output_type": "display_data"
    }
   ],
   "source": [
    "%%javascript\n",
    "\n",
    "var name = \"Jamwine\"\n",
    "var greeting = \"Hey\"\n",
    "var message = `%c${greeting} ${name}!`\n",
    "var css_style = \"color: white; font-size: 20px\"\n",
    "\n",
    "console.log(message, css_style)\n",
    "\n",
    "// Greeting message is changed, `var` keyword is not required now\n",
    "greeting = \"Hi\"\n",
    "message = `%c${greeting} ${name}!`\n",
    "\n",
    "console.log(message, css_style)"
   ]
  },
  {
   "cell_type": "markdown",
   "id": "337bfe81",
   "metadata": {
    "heading_collapsed": true
   },
   "source": [
    "## Operations"
   ]
  },
  {
   "cell_type": "markdown",
   "id": "6e132948",
   "metadata": {
    "heading_collapsed": true,
    "hidden": true
   },
   "source": [
    "### Arithmetic Operations"
   ]
  },
  {
   "cell_type": "code",
   "execution_count": 148,
   "id": "a89a51e3",
   "metadata": {
    "hidden": true
   },
   "outputs": [
    {
     "data": {
      "application/javascript": [
       "\n",
       "var a = 11 + 5;  // addition\n",
       "console.log(`Addition 11+5 :${a}`);\n",
       "\n",
       "var b = 11 - 5  // subtraction\n",
       "console.log(`Subtraction 11-5 :`, b)\n",
       "\n",
       "var c = 11 * 5  // multiplication\n",
       "console.log(`Multiplication 11*5 :`, c)\n",
       "\n",
       "var d = 11 / 5  // division\n",
       "console.log(`Division 11/5 :`, d)\n",
       "\n",
       "var e = 11 % 5  // (modulus) returns remainder as result\n",
       "console.log(`Division (% returns remainder) 11%5 :`, e)\n",
       "\n",
       "var f = 11**5  // exponents\n",
       "console.log(`Exponent 11**5 :`, f)\n",
       "\n",
       "var g; // g is undefined\n",
       "console.log(`g+5 :`, g+5) // returns NaN\n"
      ],
      "text/plain": [
       "<IPython.core.display.Javascript object>"
      ]
     },
     "metadata": {},
     "output_type": "display_data"
    }
   ],
   "source": [
    "%%javascript\n",
    "\n",
    "var a = 11 + 5;  // addition\n",
    "console.log(`Addition 11+5 :${a}`);\n",
    "\n",
    "var b = 11 - 5  // subtraction\n",
    "console.log(`Subtraction 11-5 :`, b)\n",
    "\n",
    "var c = 11 * 5  // multiplication\n",
    "console.log(`Multiplication 11*5 :`, c)\n",
    "\n",
    "var d = 11 / 5  // division\n",
    "console.log(`Division 11/5 :`, d)\n",
    "\n",
    "var e = 11 % 5  // (modulus) returns remainder as result\n",
    "console.log(`Division (% returns remainder) 11%5 :`, e)\n",
    "\n",
    "var f = 11**5  // exponents\n",
    "console.log(`Exponent 11**5 :`, f)\n",
    "\n",
    "var g; // g is undefined\n",
    "console.log(`g+5 :`, g+5) // returns NaN"
   ]
  },
  {
   "cell_type": "markdown",
   "id": "67bff266",
   "metadata": {
    "hidden": true
   },
   "source": [
    "### Boolean Operations"
   ]
  },
  {
   "cell_type": "markdown",
   "id": "1753a2fb",
   "metadata": {
    "hidden": true
   },
   "source": [
    "* Logical **AND** operator: `&&`\n",
    "\n",
    "* Logical **OR** operator: `||` \n",
    "\n",
    "* Logical **NOT** operator: `!` "
   ]
  },
  {
   "cell_type": "code",
   "execution_count": 134,
   "id": "acaeedbc",
   "metadata": {
    "hidden": true
   },
   "outputs": [
    {
     "data": {
      "application/javascript": [
       "\n",
       "console.log(`11 is greater than 5: ${11 > 5}`); // greater than\n",
       "console.log(`11 is less than 5: ${11 < 5}`); // less than\n",
       "\n",
       "console.log(`11 is lesser than or equal to  5: ${11 <= 5}`)  // less than equal to\n",
       "console.log(`11 is greater than or equal to 5: ${11 >= 5}`)  // greater than equal to\n",
       "\n",
       "console.log(`11 is equal to 5: ${11 == 5}`)  // equal to\n",
       "console.log(`11 is not equal to 5: ${11 != 5}`)  // not equal to\n"
      ],
      "text/plain": [
       "<IPython.core.display.Javascript object>"
      ]
     },
     "metadata": {},
     "output_type": "display_data"
    }
   ],
   "source": [
    "%%javascript\n",
    "\n",
    "console.log(`11 is greater than 5: ${11 > 5}`); // greater than\n",
    "console.log(`11 is less than 5: ${11 < 5}`); // less than\n",
    "\n",
    "console.log(`11 is lesser than or equal to  5: ${11 <= 5}`)  // less than equal to\n",
    "console.log(`11 is greater than or equal to 5: ${11 >= 5}`)  // greater than equal to\n",
    "\n",
    "console.log(`11 is not equal to 5: ${11 != 5}`)  // not equal to"
   ]
  },
  {
   "cell_type": "code",
   "execution_count": 99,
   "id": "36fe80d2",
   "metadata": {
    "hidden": true
   },
   "outputs": [
    {
     "data": {
      "application/javascript": [
       "\n",
       "/* AND: Returns true only if both conditions are true\n",
       "   OR: Returns true if either one of both the conditions is true\n",
       "   NOT: reverses the result\n",
       "*/\n",
       "\n",
       "console.log(` 11>5 || 11<5: ${11 > 5 || 11 < 5}`,'\\n',\n",
       "            `11>5 && 11<5: ${11 > 5 && 11 < 5}`)\n",
       "\n",
       "console.log(` false || true: ${false || true}`,'\\n',\n",
       "            `false && true: ${false && true}`)\n",
       "\n",
       "console.log(` !true: ${!true}`,'\\n',\n",
       "            `!false: ${!false}`)\n"
      ],
      "text/plain": [
       "<IPython.core.display.Javascript object>"
      ]
     },
     "metadata": {},
     "output_type": "display_data"
    }
   ],
   "source": [
    "%%javascript\n",
    "\n",
    "/* AND: Returns true only if both conditions are true\n",
    "   OR: Returns true if either one of both the conditions is true\n",
    "   NOT: reverses the result\n",
    "*/\n",
    "\n",
    "console.log(` 11>5 || 11<5: ${11 > 5 || 11 < 5}`,'\\n',\n",
    "            `11>5 && 11<5: ${11 > 5 && 11 < 5}`)\n",
    "\n",
    "console.log(` false || true: ${false || true}`,'\\n',\n",
    "            `false && true: ${false && true}`)\n",
    "\n",
    "console.log(` !true: ${!true}`,'\\n',\n",
    "            `!false: ${!false}`)"
   ]
  },
  {
   "cell_type": "markdown",
   "id": "22d71fc5",
   "metadata": {
    "hidden": true
   },
   "source": [
    "The **equality operator (==)** checks whether its two operands are equal, returning a Boolean result. \n",
    "* If the operands are `both objects`, return **true** only if both operands **reference the same object**.\n",
    "* If one operand is `null` and the other is `undefined`, return **true**.\n",
    "* If the operands are of different types, try to convert them to the same type before comparing:\n",
    "    * When comparing a `number` to a `string`, try to convert the string to a numeric value.\n",
    "    * If one of the operands is a `boolean`, convert the boolean operand to `1 if it is true` and `+0 if it is false`.\n",
    "    * If one of the operands is an `object` and the other is a `number or a string`, try to convert the object to its primitive datatype (using object's *valueOf()* or *toString()*).\n",
    "* If the operands have the `same type`, they are compared as follows:\n",
    "    * **String**: return **true** only if both operands have the same characters in the same order.\n",
    "    * **Number**: return **true** only if both operands have the same value. `+0` and `-0` are treated as the same value. If either operand is `NaN`, return **false**.\n",
    "    * **Boolean**: return **true** only if operands are both `true` or both `false`.\n",
    "    \n",
    "The most notable difference between **equality operator (==)** and the **strict equality (===)** operator is that the **strict equality operator does not attempt type conversion**. Instead, the strict equality operator always considers operands of different types to be different.\n"
   ]
  },
  {
   "cell_type": "code",
   "execution_count": 163,
   "id": "0e60e85c",
   "metadata": {
    "hidden": true
   },
   "outputs": [
    {
     "data": {
      "application/javascript": [
       "\n",
       "console.log(`11 == 5: ${11 == 5}`)  // Equality (==)\n",
       "// expected output: false\n",
       "\n",
       "console.log(\"'hello' == 'Hello' is: \", 'hello' == 'Hello');\n",
       "// expected output: false\n",
       "\n",
       "// A Peculiar Case\n",
       "console.log(\"'1' ==  1 is: \", '1' ==  1);\n",
       "// expected output: true\n",
       "\n",
       "console.log(\"'1' ===  1 is: \", '1' ===  1);\n",
       "// expected output: false\n",
       "\n",
       "console.log(\"'1' !== 1 is: \", '1' !== 1);\n",
       "// expected output: true\n",
       "\n",
       "console.log(\"0 == false is: \", 0 == false);\n",
       "// expected output: true\n",
       "\n",
       "console.log(\"0 === false is: \", 0 === false);\n",
       "// expected output: false\n",
       "\n"
      ],
      "text/plain": [
       "<IPython.core.display.Javascript object>"
      ]
     },
     "metadata": {},
     "output_type": "display_data"
    }
   ],
   "source": [
    "%%javascript\n",
    "\n",
    "console.log(`11 == 5: ${11 == 5}`)  // Equality (==)\n",
    "// expected output: false\n",
    "\n",
    "console.log(\"'hello' == 'Hello' is: \", 'hello' == 'Hello');\n",
    "// expected output: false\n",
    "\n",
    "// A Peculiar Case\n",
    "console.log(\"'1' ==  1 is: \", '1' ==  1);\n",
    "// expected output: true\n",
    "\n",
    "console.log(\"'1' ===  1 is: \", '1' ===  1);\n",
    "// expected output: false\n",
    "\n",
    "console.log(\"'1' !== 1 is: \", '1' !== 1);\n",
    "// expected output: true\n",
    "\n",
    "console.log(\"0 == false is: \", 0 == false);\n",
    "// expected output: true\n",
    "\n",
    "console.log(\"0 === false is: \", 0 === false);\n",
    "// expected output: false"
   ]
  },
  {
   "cell_type": "markdown",
   "id": "132353ff",
   "metadata": {
    "heading_collapsed": true,
    "hidden": true
   },
   "source": [
    "### Coercion"
   ]
  },
  {
   "cell_type": "markdown",
   "id": "92b4f036",
   "metadata": {
    "hidden": true
   },
   "source": [
    "JavaScript **coerces a number value to a string value** - so that it can run the + operator on disparate data types.\n",
    "\n",
    "The process of coercion can sometimes be a bit unexpected."
   ]
  },
  {
   "cell_type": "code",
   "execution_count": 116,
   "id": "33c933fa",
   "metadata": {
    "hidden": true
   },
   "outputs": [
    {
     "data": {
      "application/javascript": [
       "\n",
       "// int + int = int\n",
       "console.log(`1 + 2: ${1 + 2}`)\n",
       "\n",
       "// int + str = str\n",
       "console.log(`1 + \"2\": ${1 + \"2\"}`) \n",
       "\n",
       "// int + bool = int\n",
       "console.log(`1 + true: ${1 + true}`)\n",
       "\n",
       "// int + bool = int\n",
       "console.log(`1 + true: ${1 + true}`)\n",
       "\n",
       "// bool + bool = int\n",
       "console.log(`true + true: ${true + true}`)\n",
       "\n",
       "// str + bool = str\n",
       "console.log(`\"1\" + true: ${\"1\" + true}`)\n"
      ],
      "text/plain": [
       "<IPython.core.display.Javascript object>"
      ]
     },
     "metadata": {},
     "output_type": "display_data"
    }
   ],
   "source": [
    "%%javascript\n",
    "\n",
    "// int + int = int\n",
    "console.log(`1 + 2: ${1 + 2}`)\n",
    "\n",
    "// int + str = str\n",
    "console.log(`1 + \"2\": ${1 + \"2\"}`) \n",
    "\n",
    "// int + bool = int\n",
    "console.log(`1 + true: ${1 + true}`)\n",
    "\n",
    "// int + bool = int\n",
    "console.log(`1 + true: ${1 + true}`)\n",
    "\n",
    "// bool + bool = int\n",
    "console.log(`true + true: ${true + true}`)\n",
    "\n",
    "// str + bool = str\n",
    "console.log(`\"1\" + true: ${\"1\" + true}`)"
   ]
  },
  {
   "cell_type": "markdown",
   "id": "75450511",
   "metadata": {
    "heading_collapsed": true,
    "hidden": true
   },
   "source": [
    "### Operator precedence and associativity"
   ]
  },
  {
   "cell_type": "markdown",
   "id": "65c0af46",
   "metadata": {
    "hidden": true
   },
   "source": [
    "**Operator precedence** is a set of rules that determines which operator should be evaluated first."
   ]
  },
  {
   "cell_type": "markdown",
   "id": "2ef7bcaf",
   "metadata": {
    "hidden": true
   },
   "source": [
    "<div class=\"alert alert-info\">Remember, the arithmetic operations always follow the <b>PEDMAS</b> rule. Consider the examples below:</div>"
   ]
  },
  {
   "cell_type": "code",
   "execution_count": 119,
   "id": "cff9d0c8",
   "metadata": {
    "hidden": true
   },
   "outputs": [
    {
     "data": {
      "application/javascript": [
       "\n",
       "console.log(`Result of 5+2*7-8/2**2+1 is: ${5 + 2 * 7 - 8 / 2**2 + 1}`);\n",
       "console.log(`Result of (5+2)*7-(8/2**2)+1 is: ${(5 + 2) * 7 - (8 / 2**2) + 1}`);\n"
      ],
      "text/plain": [
       "<IPython.core.display.Javascript object>"
      ]
     },
     "metadata": {},
     "output_type": "display_data"
    }
   ],
   "source": [
    "%%javascript\n",
    "\n",
    "console.log(`Result of 5+2*7-8/2**2+1 is: ${5 + 2 * 7 - 8 / 2**2 + 1}`);\n",
    "console.log(`Result of (5+2)*7-(8/2**2)+1 is: ${(5 + 2) * 7 - (8 / 2**2) + 1}`);"
   ]
  },
  {
   "cell_type": "markdown",
   "id": "c82241ff",
   "metadata": {
    "hidden": true
   },
   "source": [
    "**Operator associativity** determines how the precedence works when the code uses operators with the same precedence. There are two kinds: \n",
    "\n",
    "* left-to-right associativity\n",
    "\n",
    "* right-to-left associativity"
   ]
  },
  {
   "cell_type": "code",
   "execution_count": 124,
   "id": "6ecb652a",
   "metadata": {
    "hidden": true
   },
   "outputs": [
    {
     "data": {
      "application/javascript": [
       "\n",
       "var x = 20;\n",
       "// the value on the right is assigned to the variable name on the left\n",
       "console.log(`Value of x is: ${x}`);\n",
       "\n",
       "var y = 15 > 12 > 5;\n",
       "// 15 > 12 is evaluated first (to `true`)\n",
       "// then true > 5 is evaluated to `false`, because the `true` value is coerced to `1`\n",
       "console.log(`Value of y = 15 > 12 > 5 is: ${y}`);\n"
      ],
      "text/plain": [
       "<IPython.core.display.Javascript object>"
      ]
     },
     "metadata": {},
     "output_type": "display_data"
    }
   ],
   "source": [
    "%%javascript\n",
    "\n",
    "var x = 20;\n",
    "// the value on the right is assigned to the variable name on the left\n",
    "console.log(`Value of x is: ${x}`);\n",
    "\n",
    "var y = 15 > 12 > 5;\n",
    "// 15 > 12 is evaluated first (to `true`)\n",
    "// then true > 5 is evaluated to `false`, because the `true` value is coerced to `1`\n",
    "console.log(`Value of y = 15 > 12 > 5 is: ${y}`);"
   ]
  },
  {
   "cell_type": "markdown",
   "id": "61fefed0",
   "metadata": {
    "heading_collapsed": true
   },
   "source": [
    "## typeof()"
   ]
  },
  {
   "cell_type": "markdown",
   "id": "184f1088",
   "metadata": {
    "hidden": true
   },
   "source": [
    "The **typeof** operator returns a **string** indicating the type of the unevaluated operand."
   ]
  },
  {
   "cell_type": "code",
   "execution_count": 157,
   "id": "48bcda5b",
   "metadata": {
    "hidden": true
   },
   "outputs": [
    {
     "data": {
      "application/javascript": [
       "\n",
       "console.log(\"typeof 24 is:\", typeof 24);\n",
       "// expected output: \"number\"\n",
       "\n",
       "console.log(\"typeof 'sample text' is:\", typeof 'sample text');\n",
       "// expected output: \"string\"\n",
       "\n",
       "console.log(\"typeof true is:\", typeof true);\n",
       "// expected output: \"boolean\"\n",
       "\n",
       "console.log(\"typeof xyz is:\", typeof xyz); // xyz is undeclaredVariable\n",
       "// expected output: \"undefined\"\n"
      ],
      "text/plain": [
       "<IPython.core.display.Javascript object>"
      ]
     },
     "metadata": {},
     "output_type": "display_data"
    }
   ],
   "source": [
    "%%javascript\n",
    "\n",
    "console.log(\"typeof 24 is:\", typeof 24);\n",
    "// expected output: \"number\"\n",
    "\n",
    "console.log(\"typeof 'sample text' is:\", typeof 'sample text');\n",
    "// expected output: \"string\"\n",
    "\n",
    "console.log(\"typeof true is:\", typeof true);\n",
    "// expected output: \"boolean\"\n",
    "\n",
    "console.log(\"typeof xyz is:\", typeof xyz); // xyz is undeclaredVariable\n",
    "// expected output: \"undefined\""
   ]
  },
  {
   "cell_type": "markdown",
   "id": "aaddd7fa",
   "metadata": {},
   "source": [
    "## Conditional statements if-else, switch statements"
   ]
  },
  {
   "cell_type": "markdown",
   "id": "e063fd16",
   "metadata": {},
   "source": [
    "Both **if else** and **switch** are used to determine the program execution flow based on whether or not some conditions have been met.\n",
    "\n",
    "This is why they are sometimes referred to as **flow control statements**. In other words, they control the flow of execution of our code, so that some code can be skipped, while other code can be executed.\n",
    "\n"
   ]
  },
  {
   "cell_type": "code",
   "execution_count": 170,
   "id": "9cd4f5f0",
   "metadata": {},
   "outputs": [
    {
     "data": {
      "application/javascript": [
       "\n",
       "var light = \"blue\"\n",
       "\n",
       "if(light == \"green\") {\n",
       "    console.log(\"Drive\")\n",
       "} else if (light == \"yellow\") {\n",
       "    console.log(\"Get ready\")\n",
       "} else if (light == \"red\") {\n",
       "    console.log(\"Dont' drive\")\n",
       "} else {\n",
       "    console.log(\"The light is not green, yellow, or red\");\n",
       "}\n"
      ],
      "text/plain": [
       "<IPython.core.display.Javascript object>"
      ]
     },
     "metadata": {},
     "output_type": "display_data"
    }
   ],
   "source": [
    "%%javascript\n",
    "\n",
    "var light = \"blue\"\n",
    "\n",
    "if(light == \"green\") {\n",
    "    console.log(\"Drive\")\n",
    "} else if (light == \"yellow\") {\n",
    "    console.log(\"Get ready\")\n",
    "} else if (light == \"red\") {\n",
    "    console.log(\"Dont' drive\")\n",
    "} else {\n",
    "    console.log(\"The light is not green, yellow, or red\");\n",
    "}"
   ]
  },
  {
   "cell_type": "markdown",
   "id": "8620af29",
   "metadata": {},
   "source": [
    "Generally, **if else** is better suited if there is a `binary choice in the condition` or When there are a `smaller number of possible outcomes` of truthy checks.\n",
    "\n",
    "However, if there are a lot of possible outcomes, it is best practice to use a **switch statement** because it is easier less verbose. Being easier to read, it is easier to follow the logic, and thus reduce cognitive load of reading multiple conditions.\n",
    "\n"
   ]
  },
  {
   "cell_type": "code",
   "execution_count": 172,
   "id": "aca4ffc3",
   "metadata": {},
   "outputs": [
    {
     "data": {
      "application/javascript": [
       "\n",
       "var light = \"red\"\n",
       "\n",
       "switch(light) {\n",
       "   case 'green':\n",
       "       console.log(\"Drive\");\n",
       "       break;\n",
       "   case 'yellow':\n",
       "       console.log(\"Get ready\");\n",
       "       break;\n",
       "   case 'red':\n",
       "       console.log(\"Don't drive\");\n",
       "       break;\n",
       "   default:\n",
       "       console.log('The light is not green, yellow, or red');\n",
       "       break;\n",
       "}\n"
      ],
      "text/plain": [
       "<IPython.core.display.Javascript object>"
      ]
     },
     "metadata": {},
     "output_type": "display_data"
    }
   ],
   "source": [
    "%%javascript\n",
    "\n",
    "var light = \"red\"\n",
    "\n",
    "switch(light) {\n",
    "   case 'green':\n",
    "       console.log(\"Drive\");\n",
    "       break;\n",
    "   case 'yellow':\n",
    "       console.log(\"Get ready\");\n",
    "       break;\n",
    "   case 'red':\n",
    "       console.log(\"Don't drive\");\n",
    "       break;\n",
    "   default:\n",
    "       console.log('The light is not green, yellow, or red');\n",
    "       break;\n",
    "}"
   ]
  },
  {
   "cell_type": "markdown",
   "id": "28b74ab8",
   "metadata": {},
   "source": [
    "## For Loop"
   ]
  },
  {
   "cell_type": "code",
   "execution_count": 182,
   "id": "27306bb9",
   "metadata": {},
   "outputs": [
    {
     "data": {
      "application/javascript": [
       "\n",
       "// Example 1\n",
       "for (var i = 1; i <= 5; i++) {\n",
       "    console.log(i) }\n",
       "console.log('Counting completed!')\n",
       "\n",
       "console.log('--------------------------------------')\n",
       "\n",
       "// Example 2\n",
       "for (var i = 5; i > 0; i--) {\n",
       "    console.log(i) }\n",
       "console.log('Countdown finished!')\n",
       "\n",
       "console.log('--------------------------------------')\n",
       "\n",
       "// Example 3\n",
       "var veggies = ['tomato', 'zucchini', 'peas', 'carrots', 'broccoli']; // veggies is an array\n",
       "for (var i = 0; i < veggies.length; i++) {\n",
       "    console.log(veggies[i]);\n",
       "}\n"
      ],
      "text/plain": [
       "<IPython.core.display.Javascript object>"
      ]
     },
     "metadata": {},
     "output_type": "display_data"
    }
   ],
   "source": [
    "%%javascript\n",
    "\n",
    "// Example 1\n",
    "for (var i = 1; i <= 5; i++) {\n",
    "    console.log(i) }\n",
    "console.log('Counting completed!')\n",
    "\n",
    "console.log('--------------------------------------')\n",
    "\n",
    "// Example 2\n",
    "for (var i = 5; i > 0; i--) {\n",
    "    console.log(i) }\n",
    "console.log('Countdown finished!')\n",
    "\n",
    "console.log('--------------------------------------')\n",
    "\n",
    "// Example 3\n",
    "var veggies = ['tomato', 'zucchini', 'peas', 'carrots', 'broccoli']; // veggies is an array\n",
    "for (var i = 0; i < veggies.length; i++) {\n",
    "    console.log(veggies[i]);\n",
    "}"
   ]
  },
  {
   "cell_type": "markdown",
   "id": "35b6c3bf",
   "metadata": {},
   "source": [
    "## While Loop"
   ]
  },
  {
   "cell_type": "code",
   "execution_count": 183,
   "id": "fdcc1c51",
   "metadata": {},
   "outputs": [
    {
     "data": {
      "application/javascript": [
       "\n",
       "// Example 1\n",
       "var i = 1;\n",
       "while (i < 6) {\n",
       "    console.log(i);\n",
       "    i++;\n",
       "}\n",
       "console.log('Counting completed!')\n",
       "\n",
       "console.log('--------------------------------------')\n",
       "\n",
       "// Example 2\n",
       "var i = 5;\n",
       "while (i > 0) {\n",
       "    console.log(i);\n",
       "    i -= 1;\n",
       "}\n",
       "console.log('Counting completed!')\n"
      ],
      "text/plain": [
       "<IPython.core.display.Javascript object>"
      ]
     },
     "metadata": {},
     "output_type": "display_data"
    }
   ],
   "source": [
    "%%javascript\n",
    "\n",
    "// Example 1\n",
    "var i = 1;\n",
    "while (i < 6) {\n",
    "    console.log(i);\n",
    "    i++;\n",
    "}\n",
    "console.log('Counting completed!')\n",
    "\n",
    "console.log('--------------------------------------')\n",
    "\n",
    "// Example 2\n",
    "var i = 5;\n",
    "while (i > 0) {\n",
    "    console.log(i);\n",
    "    i -= 1;\n",
    "}\n",
    "console.log('Counting completed!')"
   ]
  },
  {
   "cell_type": "markdown",
   "id": "17b1d43e",
   "metadata": {},
   "source": [
    "## Nested Loops"
   ]
  },
  {
   "cell_type": "code",
   "execution_count": 184,
   "id": "2bfdd2b5",
   "metadata": {},
   "outputs": [
    {
     "data": {
      "application/javascript": [
       "\n",
       "// Example 1\n",
       "var veggies = ['tomato', 'zucchini', 'peas', 'carrots', 'broccoli'];\n",
       "for (var i = 0; i < veggies.length; i++) {\n",
       "    for (var j = 0; j < veggies.length; j++) {\n",
       "        if (i !== j) {\n",
       "            console.log(\"A \" + veggies[i] + \" and \" + veggies[j] + \" salad\");\n",
       "        }\n",
       "    }\n",
       "}\n",
       "\n",
       "console.log('--------------------------------------')\n",
       "\n",
       "// Example 2\n",
       "var veggies = ['tomato', 'zucchini', 'peas', 'carrots', 'broccoli'];\n",
       "var i, j;\n",
       "i = 0;\n",
       "while (i < veggies.length) {\n",
       "    j = 0;\n",
       "    while (j < veggies.length) {\n",
       "            if(j !== i) {\n",
       "                console.log(`A ${veggies[i]} and ${veggies[j]} salad`);\n",
       "            }\n",
       "        j++;\n",
       "    }\n",
       "    i++;\n",
       "}\n"
      ],
      "text/plain": [
       "<IPython.core.display.Javascript object>"
      ]
     },
     "metadata": {},
     "output_type": "display_data"
    }
   ],
   "source": [
    "%%javascript\n",
    "\n",
    "// Example 1\n",
    "var veggies = ['tomato', 'zucchini', 'peas', 'carrots', 'broccoli'];\n",
    "for (var i = 0; i < veggies.length; i++) {\n",
    "    for (var j = 0; j < veggies.length; j++) {\n",
    "        if (i !== j) {\n",
    "            console.log(\"A \" + veggies[i] + \" and \" + veggies[j] + \" salad\");\n",
    "        }\n",
    "    }\n",
    "}\n",
    "\n",
    "console.log('--------------------------------------')\n",
    "\n",
    "// Example 2\n",
    "var veggies = ['tomato', 'zucchini', 'peas', 'carrots', 'broccoli'];\n",
    "var i, j;\n",
    "i = 0;\n",
    "while (i < veggies.length) {\n",
    "    j = 0;\n",
    "    while (j < veggies.length) {\n",
    "            if(j !== i) {\n",
    "                console.log(`A ${veggies[i]} and ${veggies[j]} salad`);\n",
    "            }\n",
    "        j++;\n",
    "    }\n",
    "    i++;\n",
    "}"
   ]
  },
  {
   "cell_type": "markdown",
   "id": "a22732d3",
   "metadata": {},
   "source": [
    "## Do-while Loop"
   ]
  },
  {
   "cell_type": "markdown",
   "id": "4b6ceba3",
   "metadata": {},
   "source": [
    "The **do-while** loop will run a piece of code once, before `deciding` if it should loop again."
   ]
  },
  {
   "cell_type": "code",
   "execution_count": 187,
   "id": "15b1b9b4",
   "metadata": {},
   "outputs": [
    {
     "data": {
      "application/javascript": [
       "\n",
       "var count = 1;\n",
       "do {\n",
       "    console.log(count);\n",
       "} while (count > 1);\n"
      ],
      "text/plain": [
       "<IPython.core.display.Javascript object>"
      ]
     },
     "metadata": {},
     "output_type": "display_data"
    }
   ],
   "source": [
    "%%javascript\n",
    "\n",
    "var count = 1;\n",
    "do {\n",
    "    console.log(count);\n",
    "} while (count > 1);"
   ]
  },
  {
   "cell_type": "markdown",
   "id": "22e14f22",
   "metadata": {},
   "source": [
    "The code will run only once, because a **do-while** loop begins by running the code inside the **do** block, then the **while** block determines if the code in the **do** block should be run again. Since the condition in the code is testing if `1 > 1`, this evaluates to the boolean value of `false`, and thus the **do** block is not looped over again."
   ]
  },
  {
   "cell_type": "code",
   "execution_count": 188,
   "id": "0299e7cf",
   "metadata": {},
   "outputs": [
    {
     "data": {
      "application/javascript": [
       "\n",
       "var count = 2;\n",
       "do {\n",
       "    console.log(count);\n",
       "    count = count - 1;\n",
       "} while (count > 0);\n"
      ],
      "text/plain": [
       "<IPython.core.display.Javascript object>"
      ]
     },
     "metadata": {},
     "output_type": "display_data"
    }
   ],
   "source": [
    "%%javascript\n",
    "\n",
    "var count = 2;\n",
    "do {\n",
    "    console.log(count);\n",
    "    count = count - 1;\n",
    "} while (count > 0);"
   ]
  },
  {
   "cell_type": "markdown",
   "id": "d96d89de",
   "metadata": {},
   "source": [
    "**do-while** loop is not used frequently as there are simpler ways to perform the same logic.\n",
    "\n"
   ]
  },
  {
   "cell_type": "markdown",
   "id": "60aba3fe",
   "metadata": {},
   "source": [
    "## Functions"
   ]
  },
  {
   "cell_type": "code",
   "execution_count": 192,
   "id": "f97bfe18",
   "metadata": {},
   "outputs": [
    {
     "data": {
      "application/javascript": [
       "\n",
       "// Example 1\n",
       "function listArrayItems(arr) {\n",
       "    for (var i = 0; i < arr.length; i++) {\n",
       "        console.log(i+1, arr[i])\n",
       "    }\n",
       "}\n",
       "\n",
       "var colors = ['red', 'orange', 'yellow', 'green', 'blue', 'purple', 'pink'];\n",
       "listArrayItems(colors);\n"
      ],
      "text/plain": [
       "<IPython.core.display.Javascript object>"
      ]
     },
     "metadata": {},
     "output_type": "display_data"
    }
   ],
   "source": [
    "%%javascript\n",
    "\n",
    "// Example 1\n",
    "function listArrayItems(arr) {\n",
    "    for (var i = 0; i < arr.length; i++) {\n",
    "        console.log(i+1, arr[i])\n",
    "    }\n",
    "}\n",
    "\n",
    "var colors = ['red', 'orange', 'yellow', 'green', 'blue', 'purple', 'pink'];\n",
    "listArrayItems(colors);"
   ]
  },
  {
   "cell_type": "code",
   "execution_count": 193,
   "id": "673a9ec3",
   "metadata": {},
   "outputs": [
    {
     "data": {
      "application/javascript": [
       "\n",
       "// Example 2\n",
       "function letterFinder(word, match) {\n",
       "    for(var i = 0; i < word.length; i++) {\n",
       "        if(word[i] == match) {\n",
       "            console.log('Found the', match, 'at', i)\n",
       "        } else {\n",
       "            console.log('---No match found at', i)\n",
       "        }\n",
       "    }\n",
       "}\n",
       "\n",
       "letterFinder(\"test\", \"t\")\n"
      ],
      "text/plain": [
       "<IPython.core.display.Javascript object>"
      ]
     },
     "metadata": {},
     "output_type": "display_data"
    }
   ],
   "source": [
    "%%javascript\n",
    "\n",
    "// Example 2\n",
    "function letterFinder(word, match) {\n",
    "    for(var i = 0; i < word.length; i++) {\n",
    "        if(word[i] == match) {\n",
    "            console.log('Found the', match, 'at', i)\n",
    "        } else {\n",
    "            console.log('---No match found at', i)\n",
    "        }\n",
    "    }\n",
    "}\n",
    "\n",
    "letterFinder(\"test\", \"t\")"
   ]
  },
  {
   "cell_type": "code",
   "execution_count": 196,
   "id": "3fc0f585",
   "metadata": {},
   "outputs": [
    {
     "data": {
      "application/javascript": [
       "\n",
       "function scopeTest() {\n",
       "    var y = 44;\n",
       "    console.log(x); \n",
       "}\n",
       "\n",
       "var x = 33;\n",
       "scopeTest(); // 33 is expected for value of x\n"
      ],
      "text/plain": [
       "<IPython.core.display.Javascript object>"
      ]
     },
     "metadata": {},
     "output_type": "display_data"
    }
   ],
   "source": [
    "%%javascript\n",
    "\n",
    "// Example 3\n",
    "function scopeTest() {\n",
    "    var y = 44;\n",
    "    console.log(x); \n",
    "}\n",
    "\n",
    "var x = 33;\n",
    "scopeTest(); // 33 is expected for value of x"
   ]
  },
  {
   "cell_type": "markdown",
   "id": "efaa31e8",
   "metadata": {},
   "source": [
    "### spread syntax `...`"
   ]
  },
  {
   "cell_type": "markdown",
   "id": "06a45a8b",
   "metadata": {},
   "source": [
    "The **spread syntax** is denoted by three dots **…**\n",
    "\n",
    "It takes in an **iterable** (e.g an array) and expands it into individual elements.\n",
    "\n",
    "The spread syntax is commonly used to make `shallow copies` of JS objects."
   ]
  },
  {
   "cell_type": "code",
   "execution_count": 207,
   "id": "a5be8e11",
   "metadata": {},
   "outputs": [
    {
     "data": {
      "application/javascript": [
       "\n",
       "// Example 4\n",
       "function count(food) {\n",
       "        console.log(food.length)\n",
       "    }\n",
       "\n",
       "count(\"Burgers\", \"Fries\", null); // 3 is expected\n"
      ],
      "text/plain": [
       "<IPython.core.display.Javascript object>"
      ]
     },
     "metadata": {},
     "output_type": "display_data"
    }
   ],
   "source": [
    "%%javascript\n",
    "\n",
    "// Example 0\n",
    "function count(food) {\n",
    "        console.log(food.length)\n",
    "    }\n",
    "\n",
    "count(\"Burgers\", \"Fries\", null); // 7 is returned as the length of `Burgers` is 7. \n",
    "// However, 3 is expected as there are 3 items passed in the count()"
   ]
  },
  {
   "cell_type": "code",
   "execution_count": 209,
   "id": "9577e1e7",
   "metadata": {},
   "outputs": [
    {
     "data": {
      "application/javascript": [
       "\n",
       "// Example 1 : Expanding iterable into individual items\n",
       "\n",
       "function count(...food) {\n",
       "        console.log(food.length)\n",
       "    }\n",
       "\n",
       "count(\"Burgers\", \"Fries\", null); // 3 is expected\n"
      ],
      "text/plain": [
       "<IPython.core.display.Javascript object>"
      ]
     },
     "metadata": {},
     "output_type": "display_data"
    }
   ],
   "source": [
    "%%javascript\n",
    "\n",
    "// Example 1 : Expanding iterable into individual items (Array to arguments)\n",
    "\n",
    "function count(...food) {\n",
    "        console.log(food.length)\n",
    "    }\n",
    "\n",
    "count(\"Burgers\", \"Fries\", null); // 3 is expected"
   ]
  },
  {
   "cell_type": "code",
   "execution_count": 210,
   "id": "89c65c67",
   "metadata": {},
   "outputs": [
    {
     "data": {
      "application/javascript": [
       "\n",
       "function multiply(number1, number2, number3) {\n",
       "  console.log(number1 * number2 * number3);\n",
       "}\n",
       "let numbers = [1,2,3];\n",
       "multiply(...numbers);\n"
      ],
      "text/plain": [
       "<IPython.core.display.Javascript object>"
      ]
     },
     "metadata": {},
     "output_type": "display_data"
    }
   ],
   "source": [
    "%%javascript\n",
    "\n",
    "// Example 2\n",
    "\n",
    "function multiply(number1, number2, number3) {\n",
    "  console.log(number1 * number2 * number3);\n",
    "}\n",
    "let numbers = [1,2,3];\n",
    "multiply(...numbers);"
   ]
  },
  {
   "cell_type": "markdown",
   "id": "321ccde7",
   "metadata": {},
   "source": [
    "Instead of having to pass each element like `numbers[0]`, `numbers[1]` and so on, the spread syntax allows array elements to be passed in as individual arguments."
   ]
  },
  {
   "cell_type": "code",
   "execution_count": 211,
   "id": "7d38540b",
   "metadata": {},
   "outputs": [
    {
     "data": {
      "application/javascript": [
       "\n",
       "// Example 3 : Passing elements of the array as arguments to the Math Object\n",
       "\n",
       "let numbers = [1,2,300,-1,0,-100];\n",
       "console.log(Math.min(...numbers));\n"
      ],
      "text/plain": [
       "<IPython.core.display.Javascript object>"
      ]
     },
     "metadata": {},
     "output_type": "display_data"
    }
   ],
   "source": [
    "%%javascript\n",
    "\n",
    "// Example 3 : Passing elements of the array as arguments to the Math Object\n",
    "\n",
    "let numbers = [1,2,300,-1,0,-100];\n",
    "console.log(Math.min(...numbers));"
   ]
  },
  {
   "cell_type": "markdown",
   "id": "d87ba73b",
   "metadata": {},
   "source": [
    "The `Math` object of Javascript does not take in a single array as an argument but with the spread syntax, the array is expanded into a number of arguments with just one line of code."
   ]
  },
  {
   "cell_type": "code",
   "execution_count": 206,
   "id": "473bdd1c",
   "metadata": {},
   "outputs": [
    {
     "data": {
      "application/javascript": [
       "\n",
       "// Example 2 : shallow copy\n",
       "let array1 = ['h', 'e', 'l', 'l', 'o'];\n",
       "let array2 = [...array1];\n",
       "\n",
       "console.log(array2); // output is ['h', 'e', 'l', 'l', 'o'] \n"
      ],
      "text/plain": [
       "<IPython.core.display.Javascript object>"
      ]
     },
     "metadata": {},
     "output_type": "display_data"
    }
   ],
   "source": [
    "%%javascript\n",
    "\n",
    "// Example 4 : shallow copying an array\n",
    "\n",
    "let array1 = ['h', 'e', 'l', 'l', 'o'];\n",
    "let array2 = [...array1];\n",
    "\n",
    "console.log(array2); // output is ['h', 'e', 'l', 'l', 'o'] "
   ]
  },
  {
   "cell_type": "markdown",
   "id": "9a2ab8e6",
   "metadata": {},
   "source": [
    "The `array2` has the elements of `array1` copied into it. Any changes made to `array1` will not be reflected in `array2` and vice versa.\n",
    "\n",
    "If the simple assignment operator had been used then `array2` would have been assigned a reference to `array1` and the changes made in one array would reflect in the other array which in most cases is undesirable."
   ]
  },
  {
   "cell_type": "code",
   "execution_count": 208,
   "id": "76eccf17",
   "metadata": {},
   "outputs": [
    {
     "data": {
      "application/javascript": [
       "\n",
       "let desserts = ['cake', 'cookie', 'donut'];\n",
       "console.log(desserts);\n",
       "\n",
       "let desserts1 = ['icecream', 'flan', 'frozen yoghurt', ...desserts];\n",
       "console.log(desserts1);\n",
       "\n",
       "let desserts2 = ['icecream', 'flan', ...desserts, 'frozen yoghurt'];\n",
       "console.log(desserts2);\n"
      ],
      "text/plain": [
       "<IPython.core.display.Javascript object>"
      ]
     },
     "metadata": {},
     "output_type": "display_data"
    }
   ],
   "source": [
    "%%javascript\n",
    "\n",
    "// Example 5 : Inserting the elements of one array into another\n",
    "\n",
    "let desserts = ['cake', 'cookie', 'donut'];\n",
    "console.log(desserts);\n",
    "\n",
    "let desserts1 = ['icecream', 'flan', 'frozen yoghurt', ...desserts];\n",
    "console.log(desserts1);\n",
    "\n",
    "let desserts2 = ['icecream', 'flan', ...desserts, 'frozen yoghurt'];\n",
    "console.log(desserts2);"
   ]
  },
  {
   "cell_type": "markdown",
   "id": "8fbf8c9f",
   "metadata": {},
   "source": [
    "It can be seen that the spread syntax can be used to append one array after any element of the second array. In other words, there is no limitation that desserts can only be appended at the beginning of the end of the desserts1 array."
   ]
  },
  {
   "cell_type": "code",
   "execution_count": null,
   "id": "71f8c81f",
   "metadata": {},
   "outputs": [],
   "source": []
  },
  {
   "cell_type": "code",
   "execution_count": null,
   "id": "e104cc8e",
   "metadata": {},
   "outputs": [],
   "source": []
  },
  {
   "cell_type": "code",
   "execution_count": null,
   "id": "ee1cb2a6",
   "metadata": {},
   "outputs": [],
   "source": []
  },
  {
   "cell_type": "code",
   "execution_count": null,
   "id": "a0a25689",
   "metadata": {},
   "outputs": [],
   "source": []
  },
  {
   "cell_type": "code",
   "execution_count": null,
   "id": "83faec3c",
   "metadata": {},
   "outputs": [],
   "source": []
  },
  {
   "cell_type": "code",
   "execution_count": null,
   "id": "9b266208",
   "metadata": {},
   "outputs": [],
   "source": []
  },
  {
   "cell_type": "markdown",
   "id": "d606a8c2",
   "metadata": {},
   "source": [
    "### Example Code"
   ]
  },
  {
   "cell_type": "code",
   "execution_count": 185,
   "id": "969eceed",
   "metadata": {},
   "outputs": [
    {
     "data": {
      "application/javascript": [
       "\n",
       "const dishData = [\n",
       "    {\n",
       "        name: \"Italian pasta\",\n",
       "        price: 9.55\n",
       "    },\n",
       "    {\n",
       "        name: \"Rice with veggies\",\n",
       "        price: 8.65\n",
       "    },\n",
       "    {\n",
       "        name: \"Chicken with potatoes\",\n",
       "        price: 15.55\n",
       "    },\n",
       "    {\n",
       "        name: \"Vegetarian Pizza\",\n",
       "        price: 6.45\n",
       "    },\n",
       "]\n",
       "\n",
       "const tax = 1.20;\n",
       "\n",
       "function getPrices(taxBoolean) {\n",
       "    for(let i = 0; i < dishData.length; i++) {\n",
       "        let finalPrice;\n",
       "        if (taxBoolean == true) {\n",
       "            finalPrice = dishData[i].price*tax\n",
       "        } else if (taxBoolean == false) {\n",
       "            finalPrice = dishData[i].price\n",
       "        } else {\n",
       "            console.log(\"You need to pass a boolean to the getPrices call!\")\n",
       "            return\n",
       "        }\n",
       "        console.log('Dish:', dishData[i].name, \"Price: $\", finalPrice)\n",
       "    }\n",
       "}\n",
       "\n",
       "function getDiscount(taxBoolean, guests) {\n",
       "\n",
       "    getPrices(taxBoolean);\n",
       "\n",
       "    if(typeof(guests) == 'number' && guests > 0 && guests < 30) {\n",
       "\n",
       "        let discount = 0;\n",
       "        if(guests < 5) {\n",
       "            discount = 5;\n",
       "        } else if (guests > 5) {\n",
       "            discount = 10;\n",
       "        }\n",
       "        console.log('Discount is: $' + discount)\n",
       "\n",
       "    } else {\n",
       "        console.log('The second argument must be a number between 0 and 30')\n",
       "        return\n",
       "    }\n",
       "}\n",
       "\n",
       "\n",
       "getDiscount(true, 2);\n",
       "getDiscount(false, 10);\n",
       "getDiscount();\n",
       "getDiscount(true, 50);\n"
      ],
      "text/plain": [
       "<IPython.core.display.Javascript object>"
      ]
     },
     "metadata": {},
     "output_type": "display_data"
    }
   ],
   "source": [
    "%%javascript\n",
    "\n",
    "const dishData = [\n",
    "    {\n",
    "        name: \"Italian pasta\",\n",
    "        price: 9.55\n",
    "    },\n",
    "    {\n",
    "        name: \"Rice with veggies\",\n",
    "        price: 8.65\n",
    "    },\n",
    "    {\n",
    "        name: \"Chicken with potatoes\",\n",
    "        price: 15.55\n",
    "    },\n",
    "    {\n",
    "        name: \"Vegetarian Pizza\",\n",
    "        price: 6.45\n",
    "    },\n",
    "]\n",
    "\n",
    "const tax = 1.20;\n",
    "\n",
    "function getPrices(taxBoolean) {\n",
    "    for(let i = 0; i < dishData.length; i++) {\n",
    "        let finalPrice;\n",
    "        if (taxBoolean == true) {\n",
    "            finalPrice = dishData[i].price*tax\n",
    "        } else if (taxBoolean == false) {\n",
    "            finalPrice = dishData[i].price\n",
    "        } else {\n",
    "            console.log(\"You need to pass a boolean to the getPrices call!\")\n",
    "            return\n",
    "        }\n",
    "        console.log('Dish:', dishData[i].name, \"Price: $\", finalPrice)\n",
    "    }\n",
    "}\n",
    "\n",
    "function getDiscount(taxBoolean, guests) {\n",
    "\n",
    "    getPrices(taxBoolean);\n",
    "\n",
    "    if(typeof(guests) == 'number' && guests > 0 && guests < 30) {\n",
    "\n",
    "        let discount = 0;\n",
    "        if(guests < 5) {\n",
    "            discount = 5;\n",
    "        } else if (guests > 5) {\n",
    "            discount = 10;\n",
    "        }\n",
    "        console.log('Discount is: $' + discount)\n",
    "\n",
    "    } else {\n",
    "        console.log('The second argument must be a number between 0 and 30')\n",
    "        return\n",
    "    }\n",
    "}\n",
    "\n",
    "\n",
    "getDiscount(true, 2);\n",
    "getDiscount(false, 10);\n",
    "getDiscount();\n",
    "getDiscount(true, 50);"
   ]
  },
  {
   "cell_type": "markdown",
   "id": "e79a4ada",
   "metadata": {
    "heading_collapsed": true
   },
   "source": [
    "## Readings\n"
   ]
  },
  {
   "cell_type": "markdown",
   "id": "f9b9b770",
   "metadata": {
    "hidden": true
   },
   "source": [
    "### Documentation\n",
    "* https://developer.mozilla.org/en-US/docs/Web/JavaScript\n",
    "\n",
    "### Python-Javascript Integration\n",
    "* https://towardsdatascience.com/introducing-notebookjs-seamless-integration-between-python-and-javascript-in-computational-e654ec3fbd18\n",
    "\n",
    "### Visualization\n",
    "* https://livingwithmachines.ac.uk/d3-javascript-visualisation-in-a-python-jupyter-notebook/\n",
    "* https://www.stefaanlippens.net/jupyter-custom-d3-visualization.html\n",
    "* https://towardsdatascience.com/javascript-charts-on-jupyter-notebooks-dd25f794cf6a"
   ]
  },
  {
   "cell_type": "markdown",
   "id": "3396e72a",
   "metadata": {
    "hidden": true
   },
   "source": [
    "### Other references\n",
    "https://www.tutorialstonight.com/javascript-string-format.php"
   ]
  },
  {
   "cell_type": "code",
   "execution_count": null,
   "id": "d7665e21",
   "metadata": {
    "hidden": true
   },
   "outputs": [],
   "source": [
    "# from IPython.display import display, Javascript, HTML"
   ]
  },
  {
   "cell_type": "code",
   "execution_count": null,
   "id": "ec64b5b0",
   "metadata": {
    "hidden": true
   },
   "outputs": [],
   "source": []
  }
 ],
 "metadata": {
  "kernelspec": {
   "display_name": "Python 3",
   "language": "python",
   "name": "python3"
  },
  "language_info": {
   "codemirror_mode": {
    "name": "ipython",
    "version": 3
   },
   "file_extension": ".py",
   "mimetype": "text/x-python",
   "name": "python",
   "nbconvert_exporter": "python",
   "pygments_lexer": "ipython3",
   "version": "3.9.7"
  },
  "toc": {
   "base_numbering": 1,
   "nav_menu": {},
   "number_sections": false,
   "sideBar": true,
   "skip_h1_title": false,
   "title_cell": "Table of Contents",
   "title_sidebar": "Contents",
   "toc_cell": false,
   "toc_position": {},
   "toc_section_display": true,
   "toc_window_display": false
  },
  "varInspector": {
   "cols": {
    "lenName": 16,
    "lenType": 16,
    "lenVar": 40
   },
   "kernels_config": {
    "python": {
     "delete_cmd_postfix": "",
     "delete_cmd_prefix": "del ",
     "library": "var_list.py",
     "varRefreshCmd": "print(var_dic_list())"
    },
    "r": {
     "delete_cmd_postfix": ") ",
     "delete_cmd_prefix": "rm(",
     "library": "var_list.r",
     "varRefreshCmd": "cat(var_dic_list()) "
    }
   },
   "types_to_exclude": [
    "module",
    "function",
    "builtin_function_or_method",
    "instance",
    "_Feature"
   ],
   "window_display": false
  }
 },
 "nbformat": 4,
 "nbformat_minor": 5
}
