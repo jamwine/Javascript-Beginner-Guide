{
 "cells": [
  {
   "cell_type": "markdown",
   "id": "de2908a7",
   "metadata": {},
   "source": [
    "# JavaScript Basics"
   ]
  },
  {
   "cell_type": "markdown",
   "id": "3ce77166",
   "metadata": {},
   "source": [
    "* By utilizing the **%%javascript** magic, we can run Javascript on Jupyter Notebooks and use the **console** for viewing output.\n",
    "\n",
    "\n",
    "* Right-click and select **Inspect** to open the console.\n",
    "\n",
    "<img width=\"860%\" src=\"imgs/jupyter_console.png\" alt=\"jupyter_console.png\">"
   ]
  },
  {
   "cell_type": "markdown",
   "id": "713d8b50",
   "metadata": {
    "heading_collapsed": true
   },
   "source": [
    "## Comments in Javascript"
   ]
  },
  {
   "cell_type": "markdown",
   "id": "3371e196",
   "metadata": {
    "hidden": true
   },
   "source": [
    "There are two varieties of comments in JavaScript: \n",
    "\n",
    "* Single-line comments \n",
    "* Multi-line comments"
   ]
  },
  {
   "cell_type": "code",
   "execution_count": null,
   "id": "2d2c74e0",
   "metadata": {
    "hidden": true
   },
   "outputs": [],
   "source": [
    "%%javascript\n",
    "\n",
    "// Single-line comment, all the content of this cell will be interpreted as Javascript code"
   ]
  },
  {
   "cell_type": "code",
   "execution_count": 278,
   "id": "8e354fff",
   "metadata": {
    "hidden": true
   },
   "outputs": [
    {
     "data": {
      "application/javascript": [
       "\n",
       "/*\n",
       "this is a multi-line comment\n",
       "the code within this cell will be interpreted as Javascript code\n",
       "*/\n",
       "\n",
       "console.log(\"Hello from Jupyter Notebook!\");\n"
      ],
      "text/plain": [
       "<IPython.core.display.Javascript object>"
      ]
     },
     "metadata": {},
     "output_type": "display_data"
    }
   ],
   "source": [
    "%%javascript\n",
    "\n",
    "/*\n",
    "this is a multi-line comment\n",
    "the code within this cell will be interpreted as Javascript code\n",
    "*/\n",
    "\n",
    "console.log(\"Hello from Jupyter Notebook!\");"
   ]
  },
  {
   "cell_type": "code",
   "execution_count": null,
   "id": "b0ee984b",
   "metadata": {
    "hidden": true
   },
   "outputs": [],
   "source": [
    "%%javascript\n",
    "\n",
    "// Styling the console output by using valid CSS code\n",
    "console.log(\"%cHello from Jupyter Notebook!\", \"color: white; font-size: 15px\");"
   ]
  },
  {
   "cell_type": "markdown",
   "id": "99b8a1c8",
   "metadata": {
    "hidden": true
   },
   "source": [
    "Adding `%c` right after the `\"` character allowed us to style the words in the console output."
   ]
  },
  {
   "cell_type": "code",
   "execution_count": null,
   "id": "5188ab25",
   "metadata": {
    "hidden": true
   },
   "outputs": [],
   "source": [
    "%%javascript\n",
    "\n",
    "// calling the alert box\n",
    "alert(\"hello\");"
   ]
  },
  {
   "cell_type": "markdown",
   "id": "47493a73",
   "metadata": {
    "heading_collapsed": true
   },
   "source": [
    "## Variables"
   ]
  },
  {
   "cell_type": "code",
   "execution_count": 160,
   "id": "c4ea3f40",
   "metadata": {
    "hidden": true
   },
   "outputs": [
    {
     "data": {
      "application/javascript": [
       "\n",
       "// Defining variables x, y, z\n",
       "\n",
       "var x = 10; // integer\n",
       "var y = true; // boolean\n",
       "var z = 'Learn'; // string\n",
       "var course = \"JavaScript is interesting\"\n",
       "\n",
       "// Printing variables on console output in a single line\n",
       "console.log(x, y, z, course);\n"
      ],
      "text/plain": [
       "<IPython.core.display.Javascript object>"
      ]
     },
     "metadata": {},
     "output_type": "display_data"
    }
   ],
   "source": [
    "%%javascript\n",
    "\n",
    "// Defining variables x, y, z\n",
    "\n",
    "var x = 10; // integer\n",
    "var y = true; // boolean\n",
    "var z = 'Learn'; // string\n",
    "var course = \"JavaScript is interesting\"\n",
    "\n",
    "// Printing variables on console output in a single line\n",
    "console.log(x, y, z, course);"
   ]
  },
  {
   "cell_type": "markdown",
   "id": "76659459",
   "metadata": {
    "hidden": true
   },
   "source": [
    "Strings can be specified using both single or double quotes."
   ]
  },
  {
   "cell_type": "code",
   "execution_count": 279,
   "id": "9d7d3a71",
   "metadata": {
    "hidden": true
   },
   "outputs": [
    {
     "data": {
      "application/javascript": [
       "\n",
       "var a; // a value's is undefined (by default)\n",
       "var b = null; // b value's is defined as null\n",
       "var c = \"\";\n",
       "\n",
       "console.log(a, b);\n"
      ],
      "text/plain": [
       "<IPython.core.display.Javascript object>"
      ]
     },
     "metadata": {},
     "output_type": "display_data"
    }
   ],
   "source": [
    "%%javascript\n",
    "\n",
    "var a; // a value's is undefined (by default)\n",
    "var b = null; // b value's is defined as null\n",
    "var c = \"\"; // c has an empty value (blank)\n",
    "\n",
    "console.log(a, b);"
   ]
  },
  {
   "cell_type": "code",
   "execution_count": 154,
   "id": "1b60e524",
   "metadata": {
    "hidden": true
   },
   "outputs": [
    {
     "data": {
      "application/javascript": [
       "\n",
       "var message_1 = 'Welcome Jamwine..';\n",
       "var message_2 = \"Hello from Jupyter Notebook!\";\n",
       "\n",
       "console.log(message_1, message_2);\n"
      ],
      "text/plain": [
       "<IPython.core.display.Javascript object>"
      ]
     },
     "metadata": {},
     "output_type": "display_data"
    }
   ],
   "source": [
    "%%javascript\n",
    "\n",
    "var message_1 = 'Welcome Jamwine..';\n",
    "var message_2 = \"Hello from Jupyter Notebook!\";\n",
    "\n",
    "console.log(message_1, message_2);"
   ]
  },
  {
   "cell_type": "code",
   "execution_count": 155,
   "id": "a8505bb4",
   "metadata": {
    "hidden": true
   },
   "outputs": [
    {
     "data": {
      "application/javascript": [
       "\n",
       "var name = \"Jamwine\";\n",
       "\n",
       "// concatenating strings using + operator\n",
       "var message_1 = \"Welcome \" + name + \"..\";\n",
       "var message_2 = \"Hello from Jupyter Notebook!\"\n",
       "\n",
       "/* Use backticks (``) for accessing variables within strings.\n",
       "   To access a variable: wrap it in curly braces ({}) preceded by a dollar sign ($).\n",
       "   For example: `Hey ${name}..`\n",
       "*/\n",
       "var message_3 = `How are you ${name}?`;\n",
       "\n",
       "console.log(message_1, message_2, '\\n', message_3);\n"
      ],
      "text/plain": [
       "<IPython.core.display.Javascript object>"
      ]
     },
     "metadata": {},
     "output_type": "display_data"
    }
   ],
   "source": [
    "%%javascript\n",
    "\n",
    "var name = \"Jamwine\";\n",
    "\n",
    "// concatenating strings using + operator\n",
    "var message_1 = \"Welcome \" + name + \"..\";\n",
    "var message_2 = \"Hello from Jupyter Notebook!\"\n",
    "\n",
    "/* Use backticks (``) for accessing variables within strings.\n",
    "   To access a variable: wrap it in curly braces ({}) preceded by a dollar sign ($).\n",
    "   For example: `Hey ${name}..`\n",
    "*/\n",
    "var message_3 = `How are you ${name}?`;\n",
    "\n",
    "console.log(message_1, message_2, '\\n', message_3);"
   ]
  },
  {
   "cell_type": "markdown",
   "id": "3059ae81",
   "metadata": {
    "hidden": true
   },
   "source": [
    "These variables are called **placeholders** within the string which are replaced with the values of the variables."
   ]
  },
  {
   "cell_type": "code",
   "execution_count": 156,
   "id": "a55b7c9c",
   "metadata": {
    "hidden": true
   },
   "outputs": [
    {
     "data": {
      "application/javascript": [
       "\n",
       "var name = \"Jamwine\"\n",
       "var greeting = \"Hey\"\n",
       "var message = `%c${greeting} ${name}!`\n",
       "var css_style = \"color: white; font-size: 20px\"\n",
       "\n",
       "console.log(message, css_style)\n",
       "\n",
       "// Greeting message is changed, `var` keyword is not required now\n",
       "greeting = \"Hi\"\n",
       "message = `%c${greeting} ${name}!`\n",
       "\n",
       "console.log(message, css_style)\n"
      ],
      "text/plain": [
       "<IPython.core.display.Javascript object>"
      ]
     },
     "metadata": {},
     "output_type": "display_data"
    }
   ],
   "source": [
    "%%javascript\n",
    "\n",
    "var name = \"Jamwine\"\n",
    "var greeting = \"Hey\"\n",
    "var message = `%c${greeting} ${name}!`\n",
    "var css_style = \"color: white; font-size: 20px\"\n",
    "\n",
    "console.log(message, css_style)\n",
    "\n",
    "// Greeting message is changed, `var` keyword is not required now\n",
    "greeting = \"Hi\"\n",
    "message = `%c${greeting} ${name}!`\n",
    "\n",
    "console.log(message, css_style)"
   ]
  },
  {
   "cell_type": "markdown",
   "id": "f10afd09",
   "metadata": {
    "heading_collapsed": true,
    "hidden": true
   },
   "source": [
    "### var"
   ]
  },
  {
   "cell_type": "code",
   "execution_count": 318,
   "id": "5bccc1ac",
   "metadata": {
    "hidden": true
   },
   "outputs": [
    {
     "data": {
      "application/javascript": [
       "\n",
       "var name = \"Jam\"\n",
       "console.log(name)\n",
       "\n",
       "name = \"wine\"\n",
       "console.log(name)\n",
       "\n",
       "var name = \"Jamwine\"\n",
       "console.log(name)\n"
      ],
      "text/plain": [
       "<IPython.core.display.Javascript object>"
      ]
     },
     "metadata": {},
     "output_type": "display_data"
    }
   ],
   "source": [
    "%%javascript\n",
    "\n",
    "var name = \"Jam\"\n",
    "console.log(name)\n",
    "\n",
    "name = \"wine\"\n",
    "console.log(name)\n",
    "\n",
    "var name = \"Jamwine\"\n",
    "console.log(name)"
   ]
  },
  {
   "cell_type": "markdown",
   "id": "356283aa",
   "metadata": {
    "heading_collapsed": true,
    "hidden": true
   },
   "source": [
    "### let"
   ]
  },
  {
   "cell_type": "code",
   "execution_count": 320,
   "id": "50314591",
   "metadata": {
    "hidden": true
   },
   "outputs": [
    {
     "data": {
      "application/javascript": [
       "\n",
       "let name = \"Jam\"\n",
       "console.log(name)\n",
       "\n",
       "name = \"wine\"\n",
       "console.log(name)\n",
       "\n",
       "// This will throw a SyntaxError, as the identifier 'name' has already been declared\n",
       "let name = \"Jamwine\"\n",
       "console.log(name)\n"
      ],
      "text/plain": [
       "<IPython.core.display.Javascript object>"
      ]
     },
     "metadata": {},
     "output_type": "display_data"
    }
   ],
   "source": [
    "%%javascript\n",
    "\n",
    "let name = \"Jam\"\n",
    "console.log(name)\n",
    "\n",
    "name = \"wine\"\n",
    "console.log(name)\n",
    "\n",
    "// This will throw a SyntaxError, as the identifier 'name' has already been declared\n",
    "let name = \"Jamwine\"\n",
    "console.log(name)"
   ]
  },
  {
   "cell_type": "markdown",
   "id": "ce7dbc52",
   "metadata": {
    "heading_collapsed": true,
    "hidden": true
   },
   "source": [
    "### const"
   ]
  },
  {
   "cell_type": "code",
   "execution_count": 326,
   "id": "a618df15",
   "metadata": {
    "hidden": true
   },
   "outputs": [
    {
     "data": {
      "application/javascript": [
       "\n",
       "const name = \"Jam\"\n",
       "console.log(name)\n",
       "\n",
       "// This will throw a TypeError, as the assignment to constant variable is not allowed\n",
       "name = \"wine\"\n",
       "console.log(name)\n"
      ],
      "text/plain": [
       "<IPython.core.display.Javascript object>"
      ]
     },
     "metadata": {},
     "output_type": "display_data"
    }
   ],
   "source": [
    "%%javascript\n",
    "\n",
    "const name = \"Jam\"\n",
    "console.log(name)\n",
    "\n",
    "// This will throw a TypeError, as the assignment to constant variable is not allowed\n",
    "name = \"wine\"\n",
    "console.log(name)"
   ]
  },
  {
   "cell_type": "markdown",
   "id": "2dac68b7",
   "metadata": {
    "heading_collapsed": true
   },
   "source": [
    "## Operations"
   ]
  },
  {
   "cell_type": "markdown",
   "id": "4bf904cf",
   "metadata": {
    "heading_collapsed": true,
    "hidden": true
   },
   "source": [
    "### Arithmetic Operations"
   ]
  },
  {
   "cell_type": "code",
   "execution_count": 148,
   "id": "a89a51e3",
   "metadata": {
    "hidden": true
   },
   "outputs": [
    {
     "data": {
      "application/javascript": [
       "\n",
       "var a = 11 + 5;  // addition\n",
       "console.log(`Addition 11+5 :${a}`);\n",
       "\n",
       "var b = 11 - 5  // subtraction\n",
       "console.log(`Subtraction 11-5 :`, b)\n",
       "\n",
       "var c = 11 * 5  // multiplication\n",
       "console.log(`Multiplication 11*5 :`, c)\n",
       "\n",
       "var d = 11 / 5  // division\n",
       "console.log(`Division 11/5 :`, d)\n",
       "\n",
       "var e = 11 % 5  // (modulus) returns remainder as result\n",
       "console.log(`Division (% returns remainder) 11%5 :`, e)\n",
       "\n",
       "var f = 11**5  // exponents\n",
       "console.log(`Exponent 11**5 :`, f)\n",
       "\n",
       "var g; // g is undefined\n",
       "console.log(`g+5 :`, g+5) // returns NaN\n"
      ],
      "text/plain": [
       "<IPython.core.display.Javascript object>"
      ]
     },
     "metadata": {},
     "output_type": "display_data"
    }
   ],
   "source": [
    "%%javascript\n",
    "\n",
    "var a = 11 + 5;  // addition\n",
    "console.log(`Addition 11+5 :${a}`);\n",
    "\n",
    "var b = 11 - 5  // subtraction\n",
    "console.log(`Subtraction 11-5 :`, b)\n",
    "\n",
    "var c = 11 * 5  // multiplication\n",
    "console.log(`Multiplication 11*5 :`, c)\n",
    "\n",
    "var d = 11 / 5  // division\n",
    "console.log(`Division 11/5 :`, d)\n",
    "\n",
    "var e = 11 % 5  // (modulus) returns remainder as result\n",
    "console.log(`Division (% returns remainder) 11%5 :`, e)\n",
    "\n",
    "var f = 11**5  // exponents\n",
    "console.log(`Exponent 11**5 :`, f)\n",
    "\n",
    "var g; // g is undefined\n",
    "console.log(`g+5 :`, g+5) // returns NaN"
   ]
  },
  {
   "cell_type": "markdown",
   "id": "e5f32f5e",
   "metadata": {
    "heading_collapsed": true,
    "hidden": true
   },
   "source": [
    "### Boolean Operations"
   ]
  },
  {
   "cell_type": "markdown",
   "id": "970eab6f",
   "metadata": {
    "hidden": true
   },
   "source": [
    "* Logical **AND** operator: `&&`\n",
    "\n",
    "* Logical **OR** operator: `||` \n",
    "\n",
    "* Logical **NOT** operator: `!` "
   ]
  },
  {
   "cell_type": "code",
   "execution_count": 134,
   "id": "2d09f5d2",
   "metadata": {
    "hidden": true
   },
   "outputs": [
    {
     "data": {
      "application/javascript": [
       "\n",
       "console.log(`11 is greater than 5: ${11 > 5}`); // greater than\n",
       "console.log(`11 is less than 5: ${11 < 5}`); // less than\n",
       "\n",
       "console.log(`11 is lesser than or equal to  5: ${11 <= 5}`)  // less than equal to\n",
       "console.log(`11 is greater than or equal to 5: ${11 >= 5}`)  // greater than equal to\n",
       "\n",
       "console.log(`11 is equal to 5: ${11 == 5}`)  // equal to\n",
       "console.log(`11 is not equal to 5: ${11 != 5}`)  // not equal to\n"
      ],
      "text/plain": [
       "<IPython.core.display.Javascript object>"
      ]
     },
     "metadata": {},
     "output_type": "display_data"
    }
   ],
   "source": [
    "%%javascript\n",
    "\n",
    "console.log(`11 is greater than 5: ${11 > 5}`); // greater than\n",
    "console.log(`11 is less than 5: ${11 < 5}`); // less than\n",
    "\n",
    "console.log(`11 is lesser than or equal to  5: ${11 <= 5}`)  // less than equal to\n",
    "console.log(`11 is greater than or equal to 5: ${11 >= 5}`)  // greater than equal to\n",
    "\n",
    "console.log(`11 is not equal to 5: ${11 != 5}`)  // not equal to"
   ]
  },
  {
   "cell_type": "code",
   "execution_count": 99,
   "id": "36fe80d2",
   "metadata": {
    "hidden": true
   },
   "outputs": [
    {
     "data": {
      "application/javascript": [
       "\n",
       "/* AND: Returns true only if both conditions are true\n",
       "   OR: Returns true if either one of both the conditions is true\n",
       "   NOT: reverses the result\n",
       "*/\n",
       "\n",
       "console.log(` 11>5 || 11<5: ${11 > 5 || 11 < 5}`,'\\n',\n",
       "            `11>5 && 11<5: ${11 > 5 && 11 < 5}`)\n",
       "\n",
       "console.log(` false || true: ${false || true}`,'\\n',\n",
       "            `false && true: ${false && true}`)\n",
       "\n",
       "console.log(` !true: ${!true}`,'\\n',\n",
       "            `!false: ${!false}`)\n"
      ],
      "text/plain": [
       "<IPython.core.display.Javascript object>"
      ]
     },
     "metadata": {},
     "output_type": "display_data"
    }
   ],
   "source": [
    "%%javascript\n",
    "\n",
    "/* AND: Returns true only if both conditions are true\n",
    "   OR: Returns true if either one of both the conditions is true\n",
    "   NOT: reverses the result\n",
    "*/\n",
    "\n",
    "console.log(` 11>5 || 11<5: ${11 > 5 || 11 < 5}`,'\\n',\n",
    "            `11>5 && 11<5: ${11 > 5 && 11 < 5}`)\n",
    "\n",
    "console.log(` false || true: ${false || true}`,'\\n',\n",
    "            `false && true: ${false && true}`)\n",
    "\n",
    "console.log(` !true: ${!true}`,'\\n',\n",
    "            `!false: ${!false}`)"
   ]
  },
  {
   "cell_type": "markdown",
   "id": "5ab5861d",
   "metadata": {
    "hidden": true
   },
   "source": [
    "The **equality operator (==)** checks whether its two operands are equal, returning a Boolean result. \n",
    "* If the operands are `both objects`, return **true** only if both operands **reference the same object**.\n",
    "* If one operand is `null` and the other is `undefined`, return **true**.\n",
    "* If the operands are of different types, try to convert them to the same type before comparing:\n",
    "    * When comparing a `number` to a `string`, try to convert the string to a numeric value.\n",
    "    * If one of the operands is a `boolean`, convert the boolean operand to `1 if it is true` and `+0 if it is false`.\n",
    "    * If one of the operands is an `object` and the other is a `number or a string`, try to convert the object to its primitive datatype (using object's *valueOf()* or *toString()*).\n",
    "* If the operands have the `same type`, they are compared as follows:\n",
    "    * **String**: return **true** only if both operands have the same characters in the same order.\n",
    "    * **Number**: return **true** only if both operands have the same value. `+0` and `-0` are treated as the same value. If either operand is `NaN`, return **false**.\n",
    "    * **Boolean**: return **true** only if operands are both `true` or both `false`.\n",
    "    \n",
    "The most notable difference between **equality operator (==)** and the **strict equality (===)** operator is that the **strict equality operator does not attempt type conversion**. Instead, the strict equality operator always considers operands of different types to be different.\n"
   ]
  },
  {
   "cell_type": "code",
   "execution_count": 163,
   "id": "efef0aa0",
   "metadata": {
    "hidden": true
   },
   "outputs": [
    {
     "data": {
      "application/javascript": [
       "\n",
       "console.log(`11 == 5: ${11 == 5}`)  // Equality (==)\n",
       "// expected output: false\n",
       "\n",
       "console.log(\"'hello' == 'Hello' is: \", 'hello' == 'Hello');\n",
       "// expected output: false\n",
       "\n",
       "// A Peculiar Case\n",
       "console.log(\"'1' ==  1 is: \", '1' ==  1);\n",
       "// expected output: true\n",
       "\n",
       "console.log(\"'1' ===  1 is: \", '1' ===  1);\n",
       "// expected output: false\n",
       "\n",
       "console.log(\"'1' !== 1 is: \", '1' !== 1);\n",
       "// expected output: true\n",
       "\n",
       "console.log(\"0 == false is: \", 0 == false);\n",
       "// expected output: true\n",
       "\n",
       "console.log(\"0 === false is: \", 0 === false);\n",
       "// expected output: false\n",
       "\n"
      ],
      "text/plain": [
       "<IPython.core.display.Javascript object>"
      ]
     },
     "metadata": {},
     "output_type": "display_data"
    }
   ],
   "source": [
    "%%javascript\n",
    "\n",
    "console.log(`11 == 5: ${11 == 5}`)  // Equality (==)\n",
    "// expected output: false\n",
    "\n",
    "console.log(\"'hello' == 'Hello' is: \", 'hello' == 'Hello');\n",
    "// expected output: false\n",
    "\n",
    "// A Peculiar Case\n",
    "console.log(\"'1' ==  1 is: \", '1' ==  1);\n",
    "// expected output: true\n",
    "\n",
    "console.log(\"'1' ===  1 is: \", '1' ===  1);\n",
    "// expected output: false\n",
    "\n",
    "console.log(\"'1' !== 1 is: \", '1' !== 1);\n",
    "// expected output: true\n",
    "\n",
    "console.log(\"0 == false is: \", 0 == false);\n",
    "// expected output: true\n",
    "\n",
    "console.log(\"0 === false is: \", 0 === false);\n",
    "// expected output: false"
   ]
  },
  {
   "cell_type": "markdown",
   "id": "2c9bbeb2",
   "metadata": {
    "heading_collapsed": true,
    "hidden": true
   },
   "source": [
    "### Coercion"
   ]
  },
  {
   "cell_type": "markdown",
   "id": "465ca21b",
   "metadata": {
    "hidden": true
   },
   "source": [
    "JavaScript **coerces a number value to a string value** - so that it can run the + operator on disparate data types.\n",
    "\n",
    "The process of coercion can sometimes be a bit unexpected."
   ]
  },
  {
   "cell_type": "code",
   "execution_count": 116,
   "id": "97c4fed2",
   "metadata": {
    "hidden": true
   },
   "outputs": [
    {
     "data": {
      "application/javascript": [
       "\n",
       "// int + int = int\n",
       "console.log(`1 + 2: ${1 + 2}`)\n",
       "\n",
       "// int + str = str\n",
       "console.log(`1 + \"2\": ${1 + \"2\"}`) \n",
       "\n",
       "// int + bool = int\n",
       "console.log(`1 + true: ${1 + true}`)\n",
       "\n",
       "// int + bool = int\n",
       "console.log(`1 + true: ${1 + true}`)\n",
       "\n",
       "// bool + bool = int\n",
       "console.log(`true + true: ${true + true}`)\n",
       "\n",
       "// str + bool = str\n",
       "console.log(`\"1\" + true: ${\"1\" + true}`)\n"
      ],
      "text/plain": [
       "<IPython.core.display.Javascript object>"
      ]
     },
     "metadata": {},
     "output_type": "display_data"
    }
   ],
   "source": [
    "%%javascript\n",
    "\n",
    "// int + int = int\n",
    "console.log(`1 + 2: ${1 + 2}`)\n",
    "\n",
    "// int + str = str\n",
    "console.log(`1 + \"2\": ${1 + \"2\"}`) \n",
    "\n",
    "// int + bool = int\n",
    "console.log(`1 + true: ${1 + true}`)\n",
    "\n",
    "// int + bool = int\n",
    "console.log(`1 + true: ${1 + true}`)\n",
    "\n",
    "// bool + bool = int\n",
    "console.log(`true + true: ${true + true}`)\n",
    "\n",
    "// str + bool = str\n",
    "console.log(`\"1\" + true: ${\"1\" + true}`)"
   ]
  },
  {
   "cell_type": "markdown",
   "id": "6d9f07a8",
   "metadata": {
    "heading_collapsed": true,
    "hidden": true
   },
   "source": [
    "### Operator precedence and associativity"
   ]
  },
  {
   "cell_type": "markdown",
   "id": "2c3f6820",
   "metadata": {
    "hidden": true
   },
   "source": [
    "**Operator precedence** is a set of rules that determines which operator should be evaluated first."
   ]
  },
  {
   "cell_type": "markdown",
   "id": "07b527b9",
   "metadata": {
    "hidden": true
   },
   "source": [
    "<div class=\"alert alert-info\">Remember, the arithmetic operations always follow the <b>PEDMAS</b> rule. Consider the examples below:</div>"
   ]
  },
  {
   "cell_type": "code",
   "execution_count": 119,
   "id": "9778ad52",
   "metadata": {
    "hidden": true
   },
   "outputs": [
    {
     "data": {
      "application/javascript": [
       "\n",
       "console.log(`Result of 5+2*7-8/2**2+1 is: ${5 + 2 * 7 - 8 / 2**2 + 1}`);\n",
       "console.log(`Result of (5+2)*7-(8/2**2)+1 is: ${(5 + 2) * 7 - (8 / 2**2) + 1}`);\n"
      ],
      "text/plain": [
       "<IPython.core.display.Javascript object>"
      ]
     },
     "metadata": {},
     "output_type": "display_data"
    }
   ],
   "source": [
    "%%javascript\n",
    "\n",
    "console.log(`Result of 5+2*7-8/2**2+1 is: ${5 + 2 * 7 - 8 / 2**2 + 1}`);\n",
    "console.log(`Result of (5+2)*7-(8/2**2)+1 is: ${(5 + 2) * 7 - (8 / 2**2) + 1}`);"
   ]
  },
  {
   "cell_type": "markdown",
   "id": "036591d6",
   "metadata": {
    "hidden": true
   },
   "source": [
    "**Operator associativity** determines how the precedence works when the code uses operators with the same precedence. There are two kinds: \n",
    "\n",
    "* left-to-right associativity\n",
    "\n",
    "* right-to-left associativity"
   ]
  },
  {
   "cell_type": "code",
   "execution_count": 124,
   "id": "f4cbae72",
   "metadata": {
    "hidden": true
   },
   "outputs": [
    {
     "data": {
      "application/javascript": [
       "\n",
       "var x = 20;\n",
       "// the value on the right is assigned to the variable name on the left\n",
       "console.log(`Value of x is: ${x}`);\n",
       "\n",
       "var y = 15 > 12 > 5;\n",
       "// 15 > 12 is evaluated first (to `true`)\n",
       "// then true > 5 is evaluated to `false`, because the `true` value is coerced to `1`\n",
       "console.log(`Value of y = 15 > 12 > 5 is: ${y}`);\n"
      ],
      "text/plain": [
       "<IPython.core.display.Javascript object>"
      ]
     },
     "metadata": {},
     "output_type": "display_data"
    }
   ],
   "source": [
    "%%javascript\n",
    "\n",
    "var x = 20;\n",
    "// the value on the right is assigned to the variable name on the left\n",
    "console.log(`Value of x is: ${x}`);\n",
    "\n",
    "var y = 15 > 12 > 5;\n",
    "// 15 > 12 is evaluated first (to `true`)\n",
    "// then true > 5 is evaluated to `false`, because the `true` value is coerced to `1`\n",
    "console.log(`Value of y = 15 > 12 > 5 is: ${y}`);"
   ]
  },
  {
   "cell_type": "markdown",
   "id": "f7b690aa",
   "metadata": {
    "heading_collapsed": true
   },
   "source": [
    "## typeof()"
   ]
  },
  {
   "cell_type": "markdown",
   "id": "9ce3f04c",
   "metadata": {
    "hidden": true
   },
   "source": [
    "The **typeof** operator returns a **string** indicating the type of the unevaluated operand."
   ]
  },
  {
   "cell_type": "code",
   "execution_count": 256,
   "id": "3812b47c",
   "metadata": {
    "hidden": true
   },
   "outputs": [
    {
     "data": {
      "application/javascript": [
       "\n",
       "console.log(\"typeof 24 is:\", typeof 24);\n",
       "// expected output: \"number\"\n",
       "\n",
       "console.log(\"typeof 2.4 is:\", typeof 2.4);\n",
       "// expected output: \"number\"\n",
       "\n",
       "console.log(\"typeof 'sample text' is:\", typeof 'sample text');\n",
       "// expected output: \"string\"\n",
       "\n",
       "console.log(\"typeof true is:\", typeof true);\n",
       "// expected output: \"boolean\"\n",
       "\n",
       "console.log(\"typeof xyz is:\", typeof xyz); // xyz is undeclaredVariable\n",
       "// expected output: \"undefined\"\n",
       "\n",
       "console.log(\"typeof [1,2,3] is:\", typeof [1,2,3]);\n",
       "// expected output: \"object\"\n",
       "\n",
       "console.log(\"typeof function abc() {} is:\", typeof function abc() {});\n",
       "// expected output: \"function\"\n"
      ],
      "text/plain": [
       "<IPython.core.display.Javascript object>"
      ]
     },
     "metadata": {},
     "output_type": "display_data"
    }
   ],
   "source": [
    "%%javascript\n",
    "\n",
    "console.log(\"typeof 24 is:\", typeof 24);\n",
    "// expected output: \"number\"\n",
    "\n",
    "console.log(\"typeof 2.4 is:\", typeof 2.4);\n",
    "// expected output: \"number\"\n",
    "\n",
    "console.log(\"typeof 'sample text' is:\", typeof 'sample text');\n",
    "// expected output: \"string\"\n",
    "\n",
    "console.log(\"typeof true is:\", typeof true);\n",
    "// expected output: \"boolean\"\n",
    "\n",
    "console.log(\"typeof xyz is:\", typeof xyz); // xyz is undeclaredVariable\n",
    "// expected output: \"undefined\"\n",
    "\n",
    "console.log(\"typeof [1,2,3] is:\", typeof [1,2,3]);\n",
    "// expected output: \"object\"\n",
    "\n",
    "console.log(\"typeof function abc() {} is:\", typeof function abc() {});\n",
    "// expected output: \"function\""
   ]
  },
  {
   "cell_type": "markdown",
   "id": "ecac7266",
   "metadata": {
    "heading_collapsed": true
   },
   "source": [
    "## Conditional statements if-else, switch statements"
   ]
  },
  {
   "cell_type": "markdown",
   "id": "8193b157",
   "metadata": {
    "hidden": true
   },
   "source": [
    "Both **if else** and **switch** are used to determine the program execution flow based on whether or not some conditions have been met.\n",
    "\n",
    "This is why they are sometimes referred to as **flow control statements**. In other words, they control the flow of execution of our code, so that some code can be skipped, while other code can be executed.\n",
    "\n"
   ]
  },
  {
   "cell_type": "code",
   "execution_count": 170,
   "id": "aef7daf6",
   "metadata": {
    "hidden": true
   },
   "outputs": [
    {
     "data": {
      "application/javascript": [
       "\n",
       "var light = \"blue\"\n",
       "\n",
       "if(light == \"green\") {\n",
       "    console.log(\"Drive\")\n",
       "} else if (light == \"yellow\") {\n",
       "    console.log(\"Get ready\")\n",
       "} else if (light == \"red\") {\n",
       "    console.log(\"Dont' drive\")\n",
       "} else {\n",
       "    console.log(\"The light is not green, yellow, or red\");\n",
       "}\n"
      ],
      "text/plain": [
       "<IPython.core.display.Javascript object>"
      ]
     },
     "metadata": {},
     "output_type": "display_data"
    }
   ],
   "source": [
    "%%javascript\n",
    "\n",
    "var light = \"blue\"\n",
    "\n",
    "if(light == \"green\") {\n",
    "    console.log(\"Drive\")\n",
    "} else if (light == \"yellow\") {\n",
    "    console.log(\"Get ready\")\n",
    "} else if (light == \"red\") {\n",
    "    console.log(\"Dont' drive\")\n",
    "} else {\n",
    "    console.log(\"The light is not green, yellow, or red\");\n",
    "}"
   ]
  },
  {
   "cell_type": "markdown",
   "id": "568e730d",
   "metadata": {
    "hidden": true
   },
   "source": [
    "Generally, **if else** is better suited if there is a `binary choice in the condition` or When there are a `smaller number of possible outcomes` of truthy checks.\n",
    "\n",
    "However, if there are a lot of possible outcomes, it is best practice to use a **switch statement** because it is easier less verbose. Being easier to read, it is easier to follow the logic, and thus reduce cognitive load of reading multiple conditions.\n",
    "\n"
   ]
  },
  {
   "cell_type": "code",
   "execution_count": 172,
   "id": "6562c1b7",
   "metadata": {
    "hidden": true
   },
   "outputs": [
    {
     "data": {
      "application/javascript": [
       "\n",
       "var light = \"red\"\n",
       "\n",
       "switch(light) {\n",
       "   case 'green':\n",
       "       console.log(\"Drive\");\n",
       "       break;\n",
       "   case 'yellow':\n",
       "       console.log(\"Get ready\");\n",
       "       break;\n",
       "   case 'red':\n",
       "       console.log(\"Don't drive\");\n",
       "       break;\n",
       "   default:\n",
       "       console.log('The light is not green, yellow, or red');\n",
       "       break;\n",
       "}\n"
      ],
      "text/plain": [
       "<IPython.core.display.Javascript object>"
      ]
     },
     "metadata": {},
     "output_type": "display_data"
    }
   ],
   "source": [
    "%%javascript\n",
    "\n",
    "var light = \"red\"\n",
    "\n",
    "switch(light) {\n",
    "   case 'green':\n",
    "       console.log(\"Drive\");\n",
    "       break;\n",
    "   case 'yellow':\n",
    "       console.log(\"Get ready\");\n",
    "       break;\n",
    "   case 'red':\n",
    "       console.log(\"Don't drive\");\n",
    "       break;\n",
    "   default:\n",
    "       console.log('The light is not green, yellow, or red');\n",
    "       break;\n",
    "}"
   ]
  },
  {
   "cell_type": "markdown",
   "id": "9b874136",
   "metadata": {
    "heading_collapsed": true
   },
   "source": [
    "## For Loop"
   ]
  },
  {
   "cell_type": "code",
   "execution_count": 182,
   "id": "3e26ef31",
   "metadata": {
    "hidden": true
   },
   "outputs": [
    {
     "data": {
      "application/javascript": [
       "\n",
       "// Example 1\n",
       "for (var i = 1; i <= 5; i++) {\n",
       "    console.log(i) }\n",
       "console.log('Counting completed!')\n",
       "\n",
       "console.log('--------------------------------------')\n",
       "\n",
       "// Example 2\n",
       "for (var i = 5; i > 0; i--) {\n",
       "    console.log(i) }\n",
       "console.log('Countdown finished!')\n",
       "\n",
       "console.log('--------------------------------------')\n",
       "\n",
       "// Example 3\n",
       "var veggies = ['tomato', 'zucchini', 'peas', 'carrots', 'broccoli']; // veggies is an array\n",
       "for (var i = 0; i < veggies.length; i++) {\n",
       "    console.log(veggies[i]);\n",
       "}\n"
      ],
      "text/plain": [
       "<IPython.core.display.Javascript object>"
      ]
     },
     "metadata": {},
     "output_type": "display_data"
    }
   ],
   "source": [
    "%%javascript\n",
    "\n",
    "// Example 1\n",
    "for (var i = 1; i <= 5; i++) {\n",
    "    console.log(i) }\n",
    "console.log('Counting completed!')\n",
    "\n",
    "console.log('--------------------------------------')\n",
    "\n",
    "// Example 2\n",
    "for (var i = 5; i > 0; i--) {\n",
    "    console.log(i) }\n",
    "console.log('Countdown finished!')\n",
    "\n",
    "console.log('--------------------------------------')\n",
    "\n",
    "// Example 3\n",
    "var veggies = ['tomato', 'zucchini', 'peas', 'carrots', 'broccoli']; // veggies is an array\n",
    "for (var i = 0; i < veggies.length; i++) {\n",
    "    console.log(veggies[i]);\n",
    "}"
   ]
  },
  {
   "cell_type": "markdown",
   "id": "1acdac7a",
   "metadata": {
    "heading_collapsed": true
   },
   "source": [
    "## While Loop"
   ]
  },
  {
   "cell_type": "code",
   "execution_count": 183,
   "id": "d2da01ff",
   "metadata": {
    "hidden": true
   },
   "outputs": [
    {
     "data": {
      "application/javascript": [
       "\n",
       "// Example 1\n",
       "var i = 1;\n",
       "while (i < 6) {\n",
       "    console.log(i);\n",
       "    i++;\n",
       "}\n",
       "console.log('Counting completed!')\n",
       "\n",
       "console.log('--------------------------------------')\n",
       "\n",
       "// Example 2\n",
       "var i = 5;\n",
       "while (i > 0) {\n",
       "    console.log(i);\n",
       "    i -= 1;\n",
       "}\n",
       "console.log('Counting completed!')\n"
      ],
      "text/plain": [
       "<IPython.core.display.Javascript object>"
      ]
     },
     "metadata": {},
     "output_type": "display_data"
    }
   ],
   "source": [
    "%%javascript\n",
    "\n",
    "// Example 1\n",
    "var i = 1;\n",
    "while (i < 6) {\n",
    "    console.log(i);\n",
    "    i++;\n",
    "}\n",
    "console.log('Counting completed!')\n",
    "\n",
    "console.log('--------------------------------------')\n",
    "\n",
    "// Example 2\n",
    "var i = 5;\n",
    "while (i > 0) {\n",
    "    console.log(i);\n",
    "    i -= 1;\n",
    "}\n",
    "console.log('Counting completed!')"
   ]
  },
  {
   "cell_type": "markdown",
   "id": "c152c7d4",
   "metadata": {
    "heading_collapsed": true
   },
   "source": [
    "## Nested Loops"
   ]
  },
  {
   "cell_type": "code",
   "execution_count": 184,
   "id": "11d9bdc0",
   "metadata": {
    "hidden": true
   },
   "outputs": [
    {
     "data": {
      "application/javascript": [
       "\n",
       "// Example 1\n",
       "var veggies = ['tomato', 'zucchini', 'peas', 'carrots', 'broccoli'];\n",
       "for (var i = 0; i < veggies.length; i++) {\n",
       "    for (var j = 0; j < veggies.length; j++) {\n",
       "        if (i !== j) {\n",
       "            console.log(\"A \" + veggies[i] + \" and \" + veggies[j] + \" salad\");\n",
       "        }\n",
       "    }\n",
       "}\n",
       "\n",
       "console.log('--------------------------------------')\n",
       "\n",
       "// Example 2\n",
       "var veggies = ['tomato', 'zucchini', 'peas', 'carrots', 'broccoli'];\n",
       "var i, j;\n",
       "i = 0;\n",
       "while (i < veggies.length) {\n",
       "    j = 0;\n",
       "    while (j < veggies.length) {\n",
       "            if(j !== i) {\n",
       "                console.log(`A ${veggies[i]} and ${veggies[j]} salad`);\n",
       "            }\n",
       "        j++;\n",
       "    }\n",
       "    i++;\n",
       "}\n"
      ],
      "text/plain": [
       "<IPython.core.display.Javascript object>"
      ]
     },
     "metadata": {},
     "output_type": "display_data"
    }
   ],
   "source": [
    "%%javascript\n",
    "\n",
    "// Example 1\n",
    "var veggies = ['tomato', 'zucchini', 'peas', 'carrots', 'broccoli'];\n",
    "for (var i = 0; i < veggies.length; i++) {\n",
    "    for (var j = 0; j < veggies.length; j++) {\n",
    "        if (i !== j) {\n",
    "            console.log(\"A \" + veggies[i] + \" and \" + veggies[j] + \" salad\");\n",
    "        }\n",
    "    }\n",
    "}\n",
    "\n",
    "console.log('--------------------------------------')\n",
    "\n",
    "// Example 2\n",
    "var veggies = ['tomato', 'zucchini', 'peas', 'carrots', 'broccoli'];\n",
    "var i, j;\n",
    "i = 0;\n",
    "while (i < veggies.length) {\n",
    "    j = 0;\n",
    "    while (j < veggies.length) {\n",
    "            if(j !== i) {\n",
    "                console.log(`A ${veggies[i]} and ${veggies[j]} salad`);\n",
    "            }\n",
    "        j++;\n",
    "    }\n",
    "    i++;\n",
    "}"
   ]
  },
  {
   "cell_type": "markdown",
   "id": "783c0f48",
   "metadata": {
    "heading_collapsed": true
   },
   "source": [
    "## Do-while Loop"
   ]
  },
  {
   "cell_type": "markdown",
   "id": "627ab81e",
   "metadata": {
    "hidden": true
   },
   "source": [
    "The **do-while** loop will run a piece of code once, before `deciding` if it should loop again."
   ]
  },
  {
   "cell_type": "code",
   "execution_count": 187,
   "id": "8e82b5da",
   "metadata": {
    "hidden": true
   },
   "outputs": [
    {
     "data": {
      "application/javascript": [
       "\n",
       "var count = 1;\n",
       "do {\n",
       "    console.log(count);\n",
       "} while (count > 1);\n"
      ],
      "text/plain": [
       "<IPython.core.display.Javascript object>"
      ]
     },
     "metadata": {},
     "output_type": "display_data"
    }
   ],
   "source": [
    "%%javascript\n",
    "\n",
    "var count = 1;\n",
    "do {\n",
    "    console.log(count);\n",
    "} while (count > 1);"
   ]
  },
  {
   "cell_type": "markdown",
   "id": "4e4098ae",
   "metadata": {
    "hidden": true
   },
   "source": [
    "The code will run only once, because a **do-while** loop begins by running the code inside the **do** block, then the **while** block determines if the code in the **do** block should be run again. Since the condition in the code is testing if `1 > 1`, this evaluates to the boolean value of `false`, and thus the **do** block is not looped over again."
   ]
  },
  {
   "cell_type": "code",
   "execution_count": 188,
   "id": "138f0c1a",
   "metadata": {
    "hidden": true
   },
   "outputs": [
    {
     "data": {
      "application/javascript": [
       "\n",
       "var count = 2;\n",
       "do {\n",
       "    console.log(count);\n",
       "    count = count - 1;\n",
       "} while (count > 0);\n"
      ],
      "text/plain": [
       "<IPython.core.display.Javascript object>"
      ]
     },
     "metadata": {},
     "output_type": "display_data"
    }
   ],
   "source": [
    "%%javascript\n",
    "\n",
    "var count = 2;\n",
    "do {\n",
    "    console.log(count);\n",
    "    count = count - 1;\n",
    "} while (count > 0);"
   ]
  },
  {
   "cell_type": "markdown",
   "id": "050812bc",
   "metadata": {
    "hidden": true
   },
   "source": [
    "**do-while** loop is not used frequently as there are simpler ways to perform the same logic.\n",
    "\n"
   ]
  },
  {
   "cell_type": "markdown",
   "id": "72b2c017",
   "metadata": {
    "heading_collapsed": true
   },
   "source": [
    "## Functions"
   ]
  },
  {
   "cell_type": "code",
   "execution_count": 192,
   "id": "c850f9af",
   "metadata": {
    "hidden": true
   },
   "outputs": [
    {
     "data": {
      "application/javascript": [
       "\n",
       "// Example 1\n",
       "function listArrayItems(arr) {\n",
       "    for (var i = 0; i < arr.length; i++) {\n",
       "        console.log(i+1, arr[i])\n",
       "    }\n",
       "}\n",
       "\n",
       "var colors = ['red', 'orange', 'yellow', 'green', 'blue', 'purple', 'pink'];\n",
       "listArrayItems(colors);\n"
      ],
      "text/plain": [
       "<IPython.core.display.Javascript object>"
      ]
     },
     "metadata": {},
     "output_type": "display_data"
    }
   ],
   "source": [
    "%%javascript\n",
    "\n",
    "// Example 1\n",
    "function listArrayItems(arr) {\n",
    "    for (var i = 0; i < arr.length; i++) {\n",
    "        console.log(i+1, arr[i])\n",
    "    }\n",
    "}\n",
    "\n",
    "var colors = ['red', 'orange', 'yellow', 'green', 'blue', 'purple', 'pink'];\n",
    "listArrayItems(colors);"
   ]
  },
  {
   "cell_type": "code",
   "execution_count": 274,
   "id": "8895b0ff",
   "metadata": {
    "hidden": true
   },
   "outputs": [
    {
     "data": {
      "application/javascript": [
       "\n",
       "// Example 2\n",
       "function letterFinder(word, match) {\n",
       "    var condition1 = word.length >= 2;\n",
       "    var condition2 = typeof(word) == 'string';\n",
       "    var condition3 = match.length == 1;\n",
       "    var condition4 = typeof(match) == 'string';\n",
       "    if(condition1 && condition2 && condition3 && condition4) {\n",
       "        for(var i = 0; i < word.length; i++) {\n",
       "            if(word[i] == match) {\n",
       "                console.log('Found the', match, 'at', i);\n",
       "            } else {\n",
       "                console.log('---No match found at', i);\n",
       "            }\n",
       "        }\n",
       "    } else {\n",
       "        console.log(\"Please pass correct arguments to the function\");\n",
       "    }\n",
       "}\n",
       "\n",
       "letterFinder(\"test\", \"t\")\n"
      ],
      "text/plain": [
       "<IPython.core.display.Javascript object>"
      ]
     },
     "metadata": {},
     "output_type": "display_data"
    }
   ],
   "source": [
    "%%javascript\n",
    "\n",
    "// Example 2\n",
    "function letterFinder(word, match) {\n",
    "    var condition1 = word.length >= 2;\n",
    "    var condition2 = typeof(word) == 'string';\n",
    "    var condition3 = match.length == 1;\n",
    "    var condition4 = typeof(match) == 'string';\n",
    "    if(condition1 && condition2 && condition3 && condition4) {\n",
    "        for(var i = 0; i < word.length; i++) {\n",
    "            if(word[i] == match) {\n",
    "                console.log('Found the', match, 'at', i);\n",
    "            } else {\n",
    "                console.log('---No match found at', i);\n",
    "            }\n",
    "        }\n",
    "    } else {\n",
    "        console.log(\"Please pass correct arguments to the function\");\n",
    "    }\n",
    "}\n",
    "\n",
    "letterFinder(\"test\", \"t\")"
   ]
  },
  {
   "cell_type": "code",
   "execution_count": 196,
   "id": "1880f2ad",
   "metadata": {
    "hidden": true
   },
   "outputs": [
    {
     "data": {
      "application/javascript": [
       "\n",
       "function scopeTest() {\n",
       "    var y = 44;\n",
       "    console.log(x); \n",
       "}\n",
       "\n",
       "var x = 33;\n",
       "scopeTest(); // 33 is expected for value of x\n"
      ],
      "text/plain": [
       "<IPython.core.display.Javascript object>"
      ]
     },
     "metadata": {},
     "output_type": "display_data"
    }
   ],
   "source": [
    "%%javascript\n",
    "\n",
    "// Example 3\n",
    "function scopeTest() {\n",
    "    var y = 44;\n",
    "    console.log(x); \n",
    "}\n",
    "\n",
    "var x = 33;\n",
    "scopeTest(); // 33 is expected for value of x"
   ]
  },
  {
   "cell_type": "markdown",
   "id": "99f7a301",
   "metadata": {
    "heading_collapsed": true
   },
   "source": [
    "## spread syntax `...`"
   ]
  },
  {
   "cell_type": "markdown",
   "id": "21ffdf1c",
   "metadata": {
    "hidden": true
   },
   "source": [
    "The **spread syntax** is denoted by three dots **…**\n",
    "\n",
    "It takes in an **iterable** (e.g an array) and expands it into individual elements.\n",
    "\n",
    "The spread syntax is commonly used to make `shallow copies` of JS objects."
   ]
  },
  {
   "cell_type": "code",
   "execution_count": 207,
   "id": "a4546d56",
   "metadata": {
    "hidden": true
   },
   "outputs": [
    {
     "data": {
      "application/javascript": [
       "\n",
       "// Example 4\n",
       "function count(food) {\n",
       "        console.log(food.length)\n",
       "    }\n",
       "\n",
       "count(\"Burgers\", \"Fries\", null); // 3 is expected\n"
      ],
      "text/plain": [
       "<IPython.core.display.Javascript object>"
      ]
     },
     "metadata": {},
     "output_type": "display_data"
    }
   ],
   "source": [
    "%%javascript\n",
    "\n",
    "// Example 0\n",
    "function count(food) {\n",
    "        console.log(food.length)\n",
    "    }\n",
    "\n",
    "count(\"Burgers\", \"Fries\", null); // 7 is returned as the length of `Burgers` is 7. \n",
    "// However, 3 is expected as there are 3 items passed in the count()"
   ]
  },
  {
   "cell_type": "code",
   "execution_count": 209,
   "id": "0e5ab7a5",
   "metadata": {
    "hidden": true
   },
   "outputs": [
    {
     "data": {
      "application/javascript": [
       "\n",
       "// Example 1 : Expanding iterable into individual items\n",
       "\n",
       "function count(...food) {\n",
       "        console.log(food.length)\n",
       "    }\n",
       "\n",
       "count(\"Burgers\", \"Fries\", null); // 3 is expected\n"
      ],
      "text/plain": [
       "<IPython.core.display.Javascript object>"
      ]
     },
     "metadata": {},
     "output_type": "display_data"
    }
   ],
   "source": [
    "%%javascript\n",
    "\n",
    "// Example 1 : Expanding iterable into individual items (Array to arguments)\n",
    "\n",
    "function count(...food) {\n",
    "        console.log(food.length)\n",
    "    }\n",
    "\n",
    "count(\"Burgers\", \"Fries\", null); // 3 is expected"
   ]
  },
  {
   "cell_type": "code",
   "execution_count": 210,
   "id": "166a5a68",
   "metadata": {
    "hidden": true
   },
   "outputs": [
    {
     "data": {
      "application/javascript": [
       "\n",
       "function multiply(number1, number2, number3) {\n",
       "  console.log(number1 * number2 * number3);\n",
       "}\n",
       "let numbers = [1,2,3];\n",
       "multiply(...numbers);\n"
      ],
      "text/plain": [
       "<IPython.core.display.Javascript object>"
      ]
     },
     "metadata": {},
     "output_type": "display_data"
    }
   ],
   "source": [
    "%%javascript\n",
    "\n",
    "// Example 2\n",
    "\n",
    "function multiply(number1, number2, number3) {\n",
    "  console.log(number1 * number2 * number3);\n",
    "}\n",
    "let numbers = [1,2,3];\n",
    "multiply(...numbers);"
   ]
  },
  {
   "cell_type": "markdown",
   "id": "685673cd",
   "metadata": {
    "hidden": true
   },
   "source": [
    "Instead of having to pass each element like `numbers[0]`, `numbers[1]` and so on, the spread syntax allows array elements to be passed in as individual arguments."
   ]
  },
  {
   "cell_type": "code",
   "execution_count": 211,
   "id": "c181fc20",
   "metadata": {
    "hidden": true
   },
   "outputs": [
    {
     "data": {
      "application/javascript": [
       "\n",
       "// Example 3 : Passing elements of the array as arguments to the Math Object\n",
       "\n",
       "let numbers = [1,2,300,-1,0,-100];\n",
       "console.log(Math.min(...numbers));\n"
      ],
      "text/plain": [
       "<IPython.core.display.Javascript object>"
      ]
     },
     "metadata": {},
     "output_type": "display_data"
    }
   ],
   "source": [
    "%%javascript\n",
    "\n",
    "// Example 3 : Passing elements of the array as arguments to the Math Object\n",
    "\n",
    "let numbers = [1,2,300,-1,0,-100];\n",
    "console.log(Math.min(...numbers));"
   ]
  },
  {
   "cell_type": "markdown",
   "id": "b3642439",
   "metadata": {
    "hidden": true
   },
   "source": [
    "The `Math` object of Javascript does not take in a single array as an argument but with the spread syntax, the array is expanded into a number of arguments with just one line of code."
   ]
  },
  {
   "cell_type": "code",
   "execution_count": 206,
   "id": "189a3d52",
   "metadata": {
    "hidden": true
   },
   "outputs": [
    {
     "data": {
      "application/javascript": [
       "\n",
       "// Example 2 : shallow copy\n",
       "let array1 = ['h', 'e', 'l', 'l', 'o'];\n",
       "let array2 = [...array1];\n",
       "\n",
       "console.log(array2); // output is ['h', 'e', 'l', 'l', 'o'] \n"
      ],
      "text/plain": [
       "<IPython.core.display.Javascript object>"
      ]
     },
     "metadata": {},
     "output_type": "display_data"
    }
   ],
   "source": [
    "%%javascript\n",
    "\n",
    "// Example 4 : shallow copying an array\n",
    "\n",
    "let array1 = ['h', 'e', 'l', 'l', 'o'];\n",
    "let array2 = [...array1];\n",
    "\n",
    "console.log(array2); // output is ['h', 'e', 'l', 'l', 'o'] "
   ]
  },
  {
   "cell_type": "markdown",
   "id": "699e11d7",
   "metadata": {
    "hidden": true
   },
   "source": [
    "The `array2` has the elements of `array1` copied into it. Any changes made to `array1` will not be reflected in `array2` and vice versa.\n",
    "\n",
    "If the simple assignment operator had been used then `array2` would have been assigned a reference to `array1` and the changes made in one array would reflect in the other array which in most cases is undesirable."
   ]
  },
  {
   "cell_type": "code",
   "execution_count": 208,
   "id": "66ada10d",
   "metadata": {
    "hidden": true
   },
   "outputs": [
    {
     "data": {
      "application/javascript": [
       "\n",
       "let desserts = ['cake', 'cookie', 'donut'];\n",
       "console.log(desserts);\n",
       "\n",
       "let desserts1 = ['icecream', 'flan', 'frozen yoghurt', ...desserts];\n",
       "console.log(desserts1);\n",
       "\n",
       "let desserts2 = ['icecream', 'flan', ...desserts, 'frozen yoghurt'];\n",
       "console.log(desserts2);\n"
      ],
      "text/plain": [
       "<IPython.core.display.Javascript object>"
      ]
     },
     "metadata": {},
     "output_type": "display_data"
    }
   ],
   "source": [
    "%%javascript\n",
    "\n",
    "// Example 5 : Inserting the elements of one array into another\n",
    "\n",
    "let desserts = ['cake', 'cookie', 'donut'];\n",
    "console.log(desserts);\n",
    "\n",
    "let desserts1 = ['icecream', 'flan', 'frozen yoghurt', ...desserts];\n",
    "console.log(desserts1);\n",
    "\n",
    "let desserts2 = ['icecream', 'flan', ...desserts, 'frozen yoghurt'];\n",
    "console.log(desserts2);"
   ]
  },
  {
   "cell_type": "markdown",
   "id": "1062c31b",
   "metadata": {
    "hidden": true
   },
   "source": [
    "It can be seen that the spread syntax can be used to append one array after any element of the second array. In other words, there is no limitation that desserts can only be appended at the beginning of the end of the desserts1 array."
   ]
  },
  {
   "cell_type": "markdown",
   "id": "d2964d93",
   "metadata": {
    "heading_collapsed": true
   },
   "source": [
    "## Math object"
   ]
  },
  {
   "cell_type": "code",
   "execution_count": 223,
   "id": "8f1c3114",
   "metadata": {
    "hidden": true
   },
   "outputs": [
    {
     "data": {
      "application/javascript": [
       "\n",
       "// Number constants\n",
       "console.log(\"The PI number: \", Math.PI)\n",
       "console.log(\"The Euler's constant: \", Math.E)\n",
       "console.log(\"The natural logarithm of 2: \", Math.LN2)\n",
       "\n",
       "// Rounding methods\n",
       "console.log(\"Math.ceil(42.35): \",  Math.ceil(42.35))\n",
       "console.log(\"Math.floor(42.35): \", Math.floor(42.35))\n",
       "console.log(\"Math.round(42.35): \", Math.round(42.35))\n",
       "console.log(\"Math.trunc(42.35): \", Math.trunc(42.35))\n"
      ],
      "text/plain": [
       "<IPython.core.display.Javascript object>"
      ]
     },
     "metadata": {},
     "output_type": "display_data"
    }
   ],
   "source": [
    "%%javascript\n",
    "\n",
    "// Number constants\n",
    "console.log(\"The PI number: \", Math.PI)\n",
    "console.log(\"The Euler's constant: \", Math.E)\n",
    "console.log(\"The natural logarithm of 2: \", Math.LN2)\n",
    "\n",
    "// Rounding methods\n",
    "console.log(\"Math.ceil(42.35): \",  Math.ceil(42.35))\n",
    "console.log(\"Math.floor(42.35): \", Math.floor(42.35))\n",
    "console.log(\"Math.round(42.35): \", Math.round(42.35))\n",
    "console.log(\"Math.trunc(42.35): \", Math.trunc(42.35))"
   ]
  },
  {
   "cell_type": "code",
   "execution_count": 224,
   "id": "22752fe2",
   "metadata": {
    "hidden": true
   },
   "outputs": [
    {
     "data": {
      "application/javascript": [
       "\n",
       "console.log(\"Math.pow(2,3): \", Math.pow(2,3))\n",
       "console.log(\"Math.sqrt(16): \", Math.sqrt(16))\n",
       "console.log(\"Math.cbrt(8): \", Math.cbrt(8))\n",
       "\n",
       "console.log(\"Math.abs(-10): \", Math.abs(-10))\n",
       "\n",
       "console.log(\"Math.min(9,8,7): \", Math.min(9,8,7))\n",
       "console.log(\"Math.max(9,8,7): \", Math.max(9,8,7))\n",
       "\n",
       "// Logarithmic methods\n",
       "console.log(\"Math.log(10): \", Math.log(10))\n",
       "console.log(\"Math.log2(10): \", Math.log2(10))\n",
       "console.log(\"Math.log10(10): \", Math.log10(10))\n",
       "\n",
       "// Trigonometric methods\n",
       "console.log(\"Math.sin(Math.PI/2): \", Math.sin(Math.PI/2))\n",
       "console.log(\"Math.cos(0): \", Math.cos(0))\n",
       "console.log(\"Math.tan(Math.PI/4): \", Math.tan(Math.PI/4))\n"
      ],
      "text/plain": [
       "<IPython.core.display.Javascript object>"
      ]
     },
     "metadata": {},
     "output_type": "display_data"
    }
   ],
   "source": [
    "%%javascript\n",
    "\n",
    "console.log(\"Math.pow(2,3): \", Math.pow(2,3))\n",
    "console.log(\"Math.sqrt(16): \", Math.sqrt(16))\n",
    "console.log(\"Math.cbrt(8): \", Math.cbrt(8))\n",
    "\n",
    "console.log(\"Math.abs(-10): \", Math.abs(-10))\n",
    "\n",
    "console.log(\"Math.min(9,8,7): \", Math.min(9,8,7))\n",
    "console.log(\"Math.max(9,8,7): \", Math.max(9,8,7))\n",
    "\n",
    "// Logarithmic methods\n",
    "console.log(\"Math.log(10): \", Math.log(10))\n",
    "console.log(\"Math.log2(10): \", Math.log2(10))\n",
    "console.log(\"Math.log10(10): \", Math.log10(10))\n",
    "\n",
    "// Trigonometric methods\n",
    "console.log(\"Math.sin(Math.PI/2): \", Math.sin(Math.PI/2))\n",
    "console.log(\"Math.cos(0): \", Math.cos(0))\n",
    "console.log(\"Math.tan(Math.PI/4): \", Math.tan(Math.PI/4))"
   ]
  },
  {
   "cell_type": "markdown",
   "id": "2b0c96c4",
   "metadata": {
    "heading_collapsed": true
   },
   "source": [
    "## Strings"
   ]
  },
  {
   "cell_type": "code",
   "execution_count": 277,
   "id": "d2750c6d",
   "metadata": {
    "hidden": true
   },
   "outputs": [
    {
     "data": {
      "application/javascript": [
       "\n",
       "var greet = \"Hello, \";\n",
       "var place = \"World\";\n",
       "\n",
       "console.log(greet.length); // 7\n",
       "console.log(greet.charAt(0)); // 'H'\n",
       "console.log(greet.toUpperCase()); // \"HELLO, \"\n",
       "console.log(greet.toLowerCase()); // \"hello, \"\n",
       "\n",
       "console.log(\"Wo\".concat(\"rl\").concat(\"d\")); // Wprld\n",
       "\n",
       "console.log(\"ho-ho-ho\".indexOf('h')); // 0\n",
       "console.log(\"ho-ho-ho\".indexOf('o')); // 1\n",
       "console.log(\"ho-ho-ho\".indexOf('-')); // 2\n",
       "\n",
       "console.log(\"ho-ho-ho\".split(\"-\")); // ['ho', 'ho', 'ho']\n",
       "\n",
       "console.log(place.match(/r/))\n",
       "console.log(place.match(/f/))\n"
      ],
      "text/plain": [
       "<IPython.core.display.Javascript object>"
      ]
     },
     "metadata": {},
     "output_type": "display_data"
    }
   ],
   "source": [
    "%%javascript\n",
    "\n",
    "var greet = \"Hello, \";\n",
    "var place = \"World\";\n",
    "\n",
    "console.log(greet.length); // 7\n",
    "console.log(greet.charAt(0)); // 'H'\n",
    "console.log(greet.toUpperCase()); // \"HELLO, \"\n",
    "console.log(greet.toLowerCase()); // \"hello, \"\n",
    "\n",
    "console.log(\"Wo\".concat(\"rl\").concat(\"d\")); // World\n",
    "\n",
    "console.log(\"ho-ho-ho\".indexOf('h')); // 0\n",
    "console.log(\"ho-ho-ho\".indexOf('o')); // 1\n",
    "console.log(\"ho-ho-ho\".indexOf('-')); // 2\n",
    "\n",
    "console.log(\"ho-ho-ho\".split(\"-\")); // ['ho', 'ho', 'ho']\n",
    "\n",
    "\n",
    "console.log(place.match(/r/)) // ['r', index: 2, input: 'World', groups: undefined]\n",
    "console.log(place.match(/f/)) // null"
   ]
  },
  {
   "cell_type": "markdown",
   "id": "32e0b58d",
   "metadata": {
    "heading_collapsed": true
   },
   "source": [
    "## Object literals"
   ]
  },
  {
   "cell_type": "code",
   "execution_count": 244,
   "id": "87aa50c8",
   "metadata": {
    "hidden": true
   },
   "outputs": [
    {
     "data": {
      "application/javascript": [
       "\n",
       "// dot notation\n",
       "var house = {\n",
       "    rooms: 3,\n",
       "    color: \"brown\",\n",
       "    priceUSD: 10000,\n",
       "}\n",
       "house.windows = 10;\n",
       "console.log(house);\n"
      ],
      "text/plain": [
       "<IPython.core.display.Javascript object>"
      ]
     },
     "metadata": {},
     "output_type": "display_data"
    }
   ],
   "source": [
    "%%javascript\n",
    "\n",
    "// dot notation\n",
    "var house = {\n",
    "    rooms: 3,\n",
    "    color: \"brown\",\n",
    "    priceUSD: 10000,\n",
    "}\n",
    "house.windows = 10;\n",
    "console.log(house);"
   ]
  },
  {
   "cell_type": "code",
   "execution_count": 246,
   "id": "69ce1752",
   "metadata": {
    "hidden": true
   },
   "outputs": [
    {
     "data": {
      "application/javascript": [
       "\n",
       "// Bracket Notation\n",
       "var house = {};\n",
       "house[\"rooms\"] = 4;\n",
       "house['color']= \"pink\";\n",
       "house[\"priceUSD\"] = 12345;\n",
       "console.log(house);\n",
       "console.log('house.rooms: ', house.rooms);\n"
      ],
      "text/plain": [
       "<IPython.core.display.Javascript object>"
      ]
     },
     "metadata": {},
     "output_type": "display_data"
    }
   ],
   "source": [
    "%%javascript\n",
    "\n",
    "// Bracket Notation\n",
    "var house = {};\n",
    "house[\"rooms\"] = 4;\n",
    "house['color']= \"pink\";\n",
    "house[\"priceUSD\"] = 12345;\n",
    "console.log(house);\n",
    "console.log('house.rooms: ', house.rooms);"
   ]
  },
  {
   "cell_type": "code",
   "execution_count": 417,
   "id": "51efe53e",
   "metadata": {
    "hidden": true
   },
   "outputs": [
    {
     "data": {
      "application/javascript": [
       "\n",
       "var drone = {\n",
       "    speed: 100,\n",
       "    altitude: 200,\n",
       "    color: \"red\"\n",
       "}\n",
       "\n",
       "for (let key in drone) {\n",
       "  console.log(key, drone[key]);\n",
       "}\n",
       "\n",
       "\n",
       "console.log('Keys: ' + Object.keys(drone))\n",
       "\n",
       "console.log('Values: ' + Object.values(drone))\n",
       "\n",
       "console.log('Items: ' + Object.entries(drone))\n",
       "\n",
       "// Inheriting from Objects\n",
       "var my_drone = Object.create(drone);\n",
       "console.log(`My Drone has: ${my_drone.speed} speed, ${my_drone.altitude} altitude, \n",
       "            ${my_drone.color} color`);\n"
      ],
      "text/plain": [
       "<IPython.core.display.Javascript object>"
      ]
     },
     "metadata": {},
     "output_type": "display_data"
    }
   ],
   "source": [
    "%%javascript\n",
    "\n",
    "var drone = {\n",
    "    speed: 100,\n",
    "    altitude: 200,\n",
    "    color: \"red\"\n",
    "}\n",
    "\n",
    "for (let key in drone) {\n",
    "  console.log(key, drone[key]);\n",
    "}\n",
    "\n",
    "console.log('Keys: ' + Object.keys(drone))\n",
    "\n",
    "console.log('Values: ' + Object.values(drone))\n",
    "\n",
    "console.log('Items: ' + Object.entries(drone))\n",
    "\n",
    "// Inheriting from Objects\n",
    "var my_drone = Object.create(drone);\n",
    "console.log(`My Drone has: ${my_drone.speed} speed, ${my_drone.altitude} altitude, \n",
    "            ${my_drone.color} color`);"
   ]
  },
  {
   "cell_type": "code",
   "execution_count": 413,
   "id": "f1cce518",
   "metadata": {
    "hidden": true
   },
   "outputs": [
    {
     "data": {
      "application/javascript": [
       "\n",
       "function testBracketsDynamicAccess() {\n",
       "  var dynamicKey = Math.random() > 0.5 ? \"speed\" : \"color\";\n",
       "\n",
       "    var drone = {\n",
       "      speed: 15,\n",
       "      color: \"orange\"\n",
       "    }\n",
       "\n",
       "    console.log(`This drone has ${dynamicKey}: ${drone[dynamicKey]}`);\n",
       "}\n",
       "testBracketsDynamicAccess();\n"
      ],
      "text/plain": [
       "<IPython.core.display.Javascript object>"
      ]
     },
     "metadata": {},
     "output_type": "display_data"
    }
   ],
   "source": [
    "%%javascript\n",
    "\n",
    "function testBracketsDynamicAccess() {\n",
    "  var dynamicKey = Math.random() > 0.5 ? \"speed\" : \"color\"; // Ternary Operator\n",
    "\n",
    "    var drone = {\n",
    "      speed: 15,\n",
    "      color: \"orange\"\n",
    "    }\n",
    "\n",
    "    console.log(`This drone has ${dynamicKey}: ${drone[dynamicKey]}`);\n",
    "}\n",
    "testBracketsDynamicAccess();"
   ]
  },
  {
   "cell_type": "code",
   "execution_count": 419,
   "id": "201590a6",
   "metadata": {
    "hidden": true
   },
   "outputs": [
    {
     "data": {
      "application/javascript": [
       "\n",
       "const dishData = [\n",
       "    {\n",
       "        name: \"Italian pasta\",\n",
       "        price: 9.55\n",
       "    },\n",
       "    {\n",
       "        name: \"Rice with veggies\",\n",
       "        price: 8.65\n",
       "    },\n",
       "    {\n",
       "        name: \"Chicken with potatoes\",\n",
       "        price: 15.55\n",
       "    },\n",
       "    {\n",
       "        name: \"Vegetarian Pizza\",\n",
       "        price: 6.45\n",
       "    },\n",
       "]\n",
       "\n",
       "console.log(dishData)\n",
       "\n",
       "for (var i in dishData) {\n",
       "  console.log(i, dishData[i]);\n",
       "}\n",
       "\n",
       "for (var i of dishData) {\n",
       "  console.log(i);\n",
       "}\n"
      ],
      "text/plain": [
       "<IPython.core.display.Javascript object>"
      ]
     },
     "metadata": {},
     "output_type": "display_data"
    }
   ],
   "source": [
    "%%javascript\n",
    "\n",
    "const dishData = [\n",
    "    {\n",
    "        name: \"Italian pasta\",\n",
    "        price: 9.55\n",
    "    },\n",
    "    {\n",
    "        name: \"Rice with veggies\",\n",
    "        price: 8.65\n",
    "    },\n",
    "    {\n",
    "        name: \"Chicken with potatoes\",\n",
    "        price: 15.55\n",
    "    },\n",
    "    {\n",
    "        name: \"Vegetarian Pizza\",\n",
    "        price: 6.45\n",
    "    },\n",
    "]\n",
    "\n",
    "console.log(dishData)\n",
    "\n",
    "/*\n",
    "Both `for..of` and `for..in` statements iterate over lists; \n",
    "\n",
    "`for..in` returns a list of keys on the object being iterated\n",
    "\n",
    "`for..of` returns a list of values of the numeric properties of the object being iterated.\n",
    "*/\n",
    "\n",
    "\n",
    "for (var i in dishData) {\n",
    "  console.log(i, dishData[i]);\n",
    "}\n",
    "\n",
    "\n",
    "for (var i of dishData) {\n",
    "  console.log(i);\n",
    "}"
   ]
  },
  {
   "cell_type": "markdown",
   "id": "65796be4",
   "metadata": {
    "heading_collapsed": true
   },
   "source": [
    "## Arrays"
   ]
  },
  {
   "cell_type": "code",
   "execution_count": 249,
   "id": "92fb7cd2",
   "metadata": {
    "hidden": true
   },
   "outputs": [
    {
     "data": {
      "application/javascript": [
       "\n",
       "var fruits = [];\n",
       "fruits.push(\"apple\");\n",
       "fruits.push('pear'); \n",
       "console.log(fruits);\n",
       "\n",
       "fruits.pop();\n",
       "console.log(fruits); // ['apple']\n"
      ],
      "text/plain": [
       "<IPython.core.display.Javascript object>"
      ]
     },
     "metadata": {},
     "output_type": "display_data"
    }
   ],
   "source": [
    "%%javascript\n",
    "\n",
    "var fruits = [];\n",
    "fruits.push(\"apple\");\n",
    "fruits.push('pear'); \n",
    "console.log(fruits);\n",
    "\n",
    "fruits.pop();\n",
    "console.log(fruits); // ['apple']"
   ]
  },
  {
   "cell_type": "code",
   "execution_count": 343,
   "id": "4bfb6536",
   "metadata": {
    "hidden": true
   },
   "outputs": [
    {
     "data": {
      "application/javascript": [
       "\n",
       "console.log(['123']) // ['123']\n",
       "console.log(['123']+['456']) // 123456\n",
       "console.log(['123'].concat(['456'])) // ['123', '456']\n"
      ],
      "text/plain": [
       "<IPython.core.display.Javascript object>"
      ]
     },
     "metadata": {},
     "output_type": "display_data"
    }
   ],
   "source": [
    "%%javascript\n",
    "\n",
    "console.log(['123']) // ['123']\n",
    "console.log(['123']+['456']) // 123456\n",
    "console.log(['123'].concat(['456'])) // ['123', '456']"
   ]
  },
  {
   "cell_type": "code",
   "execution_count": 420,
   "id": "bd2288dd",
   "metadata": {
    "hidden": true
   },
   "outputs": [
    {
     "data": {
      "application/javascript": [
       "\n",
       "let list = [4, 5, 6];\n",
       "\n",
       "for (let i in list) {\n",
       "   console.log(i); // \"0\", \"1\", \"2\",\n",
       "}\n",
       "\n",
       "for (let i of list) {\n",
       "   console.log(i); // \"4\", \"5\", \"6\"\n",
       "}\n"
      ],
      "text/plain": [
       "<IPython.core.display.Javascript object>"
      ]
     },
     "metadata": {},
     "output_type": "display_data"
    }
   ],
   "source": [
    "%%javascript\n",
    "\n",
    "let list = [4, 5, 6];\n",
    "\n",
    "for (let i in list) {\n",
    "   console.log(i); // \"0\", \"1\", \"2\",\n",
    "}\n",
    "\n",
    "for (let i of list) {\n",
    "   console.log(i); // \"4\", \"5\", \"6\"\n",
    "}"
   ]
  },
  {
   "cell_type": "code",
   "execution_count": 250,
   "id": "b0287de3",
   "metadata": {
    "hidden": true
   },
   "outputs": [
    {
     "data": {
      "application/javascript": [
       "\n",
       "function arrayBuilder(one, two, three) {\n",
       "    var arr = [];\n",
       "    arr.push(one);\n",
       "    arr.push(two);\n",
       "    arr.push(three);\n",
       "    return arr;\n",
       "}\n",
       "\n",
       "var simpleArr = arrayBuilder('apple', 'pear', 'plum');\n",
       "console.log(simpleArr); // ['apple','pear','plum']\n"
      ],
      "text/plain": [
       "<IPython.core.display.Javascript object>"
      ]
     },
     "metadata": {},
     "output_type": "display_data"
    }
   ],
   "source": [
    "%%javascript\n",
    "\n",
    "function arrayBuilder(one, two, three) {\n",
    "    var arr = [];\n",
    "    arr.push(one);\n",
    "    arr.push(two);\n",
    "    arr.push(three);\n",
    "    return arr;\n",
    "}\n",
    "\n",
    "var simpleArr = arrayBuilder('apple', 'pear', 'plum');\n",
    "console.log(simpleArr); // ['apple','pear','plum']"
   ]
  },
  {
   "cell_type": "code",
   "execution_count": 252,
   "id": "138c84f6",
   "metadata": {
    "hidden": true
   },
   "outputs": [
    {
     "data": {
      "application/javascript": [
       "\n",
       "var carTypes = ['suv', 'hybrid', 'electric', 'offroad', 'concept'];\n",
       "var carColors = ['red', 'orange', 'yellow', 'green', 'blue'];\n",
       "var maxSpeeds = ['100', '120', '140', '190', '220', '300'];\n",
       "\n",
       "var showRoom = [];\n",
       "\n",
       "function randomItem(arr) {\n",
       "  var randomDecimal = Math.random() * arr.length;\n",
       "  var randomNum = Math.floor(randomDecimal);\n",
       "  var randomArrItem = arr[randomNum];\n",
       "  return randomArrItem;\n",
       "}\n",
       "\n",
       "for (let i = 0; i < 5; i++) {\n",
       "  var newCarObject = {};\n",
       "  var randomCarType = randomItem(carTypes);\n",
       "  var randomCarColor = randomItem(carColors);\n",
       "  var randomMaxSpeed = randomItem(maxSpeeds);\n",
       "  newCarObject.carType = randomCarType;\n",
       "  newCarObject.carColor = randomCarColor;\n",
       "  newCarObject.maxSpeed = randomMaxSpeed;\n",
       "  showRoom.push(newCarObject);\n",
       "}\n",
       "\n",
       "console.log(showRoom);\n",
       "\n",
       "for(var i = 0; i < showRoom.length; i++){\n",
       "    console.log(\"Car:\", showRoom[i].carType, showRoom[i].carColor, showRoom[i].maxSpeed)\n",
       "}\n"
      ],
      "text/plain": [
       "<IPython.core.display.Javascript object>"
      ]
     },
     "metadata": {},
     "output_type": "display_data"
    }
   ],
   "source": [
    "%%javascript\n",
    "\n",
    "var carTypes = ['suv', 'hybrid', 'electric', 'offroad', 'concept'];\n",
    "var carColors = ['red', 'orange', 'yellow', 'green', 'blue'];\n",
    "var maxSpeeds = ['100', '120', '140', '190', '220', '300'];\n",
    "\n",
    "var showRoom = [];\n",
    "\n",
    "function randomItem(arr) {\n",
    "  var randomDecimal = Math.random() * arr.length;\n",
    "  var randomNum = Math.floor(randomDecimal);\n",
    "  var randomArrItem = arr[randomNum];\n",
    "  return randomArrItem;\n",
    "}\n",
    "\n",
    "for (let i = 0; i < 5; i++) {\n",
    "  var newCarObject = {};\n",
    "  var randomCarType = randomItem(carTypes);\n",
    "  var randomCarColor = randomItem(carColors);\n",
    "  var randomMaxSpeed = randomItem(maxSpeeds);\n",
    "  newCarObject.carType = randomCarType;\n",
    "  newCarObject.carColor = randomCarColor;\n",
    "  newCarObject.maxSpeed = randomMaxSpeed;\n",
    "  showRoom.push(newCarObject);\n",
    "}\n",
    "\n",
    "console.log(showRoom);\n",
    "\n",
    "for(var i = 0; i < showRoom.length; i++){\n",
    "    console.log(\"Car:\", showRoom[i].carType, showRoom[i].carColor, showRoom[i].maxSpeed)\n",
    "}"
   ]
  },
  {
   "cell_type": "markdown",
   "id": "733992db",
   "metadata": {
    "heading_collapsed": true
   },
   "source": [
    "## Errors"
   ]
  },
  {
   "cell_type": "markdown",
   "id": "cd1d8531",
   "metadata": {
    "hidden": true
   },
   "source": [
    "Some of the most common errors in JavaScript are:\n",
    "* ReferenceError \n",
    "* SyntaxError \n",
    "* TypeError \n",
    "* RangeError\n",
    "\n",
    "There are some other errors in JavaScript. These other errors include: \n",
    "* AggregateError\n",
    "* Error\n",
    "* InternalError \n",
    "* URIError\n",
    "\n",
    "A **ReferenceError** gets thrown when, for example, one tries to use variables that haven't been declared anywhere."
   ]
  },
  {
   "cell_type": "code",
   "execution_count": 263,
   "id": "cf6f8cc0",
   "metadata": {
    "hidden": true
   },
   "outputs": [
    {
     "data": {
      "application/javascript": [
       "\n",
       "console.log(username);\n"
      ],
      "text/plain": [
       "<IPython.core.display.Javascript object>"
      ]
     },
     "metadata": {},
     "output_type": "display_data"
    }
   ],
   "source": [
    "%%javascript\n",
    "\n",
    "console.log(username);"
   ]
  },
  {
   "cell_type": "markdown",
   "id": "e3dae6f2",
   "metadata": {
    "hidden": true
   },
   "source": [
    "Any kind of invalid JavaScript code will cause a **SyntaxError**."
   ]
  },
  {
   "cell_type": "code",
   "execution_count": 260,
   "id": "57d71adc",
   "metadata": {
    "hidden": true
   },
   "outputs": [
    {
     "data": {
      "application/javascript": [
       "\n",
       "var a \"there's no assignment operator here\";\n"
      ],
      "text/plain": [
       "<IPython.core.display.Javascript object>"
      ]
     },
     "metadata": {},
     "output_type": "display_data"
    }
   ],
   "source": [
    "%%javascript\n",
    "\n",
    "var a \"there's no assignment operator here\";"
   ]
  },
  {
   "cell_type": "markdown",
   "id": "597b3bcf",
   "metadata": {
    "hidden": true
   },
   "source": [
    "There's an interesting caveat regarding the SyntaxError in JavaScript: it cannot be caught using the **try-catch** block.\n",
    "\n",
    "A **TypeError** is thrown when, for example, trying to run a method on a non-supported data type."
   ]
  },
  {
   "cell_type": "code",
   "execution_count": 264,
   "id": "ee602f26",
   "metadata": {
    "hidden": true
   },
   "outputs": [
    {
     "data": {
      "application/javascript": [
       "\n",
       "\"hello\".pop()\n"
      ],
      "text/plain": [
       "<IPython.core.display.Javascript object>"
      ]
     },
     "metadata": {},
     "output_type": "display_data"
    }
   ],
   "source": [
    "%%javascript\n",
    "\n",
    "\"hello\".pop()"
   ]
  },
  {
   "cell_type": "markdown",
   "id": "561b9b2f",
   "metadata": {
    "hidden": true
   },
   "source": [
    "A **RangeError** is thrown when we're giving a value to a function, but that value is out of the allowed range of acceptable input values."
   ]
  },
  {
   "cell_type": "code",
   "execution_count": 266,
   "id": "05cfa091",
   "metadata": {
    "hidden": true
   },
   "outputs": [
    {
     "data": {
      "application/javascript": [
       "\n",
       "console.log((10).toString(2)); // '1010'\n"
      ],
      "text/plain": [
       "<IPython.core.display.Javascript object>"
      ]
     },
     "metadata": {},
     "output_type": "display_data"
    }
   ],
   "source": [
    "%%javascript\n",
    "\n",
    "// convert the value of 10 of the Base 10 number system, to its counter-part in the Base 2 number system\n",
    "console.log((10).toString(2)); // '1010'"
   ]
  },
  {
   "cell_type": "markdown",
   "id": "611be300",
   "metadata": {
    "hidden": true
   },
   "source": [
    "JavaScript obliges and \"translates\" the \"regular\" number 10 to its binary counter-part.\n",
    "\n",
    "Besides using `Base 2` number system, we can also use the `Base 8`, like this:"
   ]
  },
  {
   "cell_type": "code",
   "execution_count": 268,
   "id": "542e1b50",
   "metadata": {
    "hidden": true
   },
   "outputs": [
    {
     "data": {
      "application/javascript": [
       "\n",
       "console.log((10).toString(8)); // 12\n"
      ],
      "text/plain": [
       "<IPython.core.display.Javascript object>"
      ]
     },
     "metadata": {},
     "output_type": "display_data"
    }
   ],
   "source": [
    "%%javascript\n",
    "\n",
    "console.log((10).toString(8)); // 12"
   ]
  },
  {
   "cell_type": "markdown",
   "id": "62bc8834",
   "metadata": {
    "hidden": true
   },
   "source": [
    "However, if we try to use a non-existing number system, such as an imaginary `Base 100`, since this number system effectively doesn't exist in JavaScript, we will get the **RangeError**, because a non-existing `Base 100` system is out of range of the number systems that are available to the **toString()** method:"
   ]
  },
  {
   "cell_type": "code",
   "execution_count": 269,
   "id": "5f6a1d1e",
   "metadata": {
    "hidden": true
   },
   "outputs": [
    {
     "data": {
      "application/javascript": [
       "\n",
       "console.log((10).toString(100));\n"
      ],
      "text/plain": [
       "<IPython.core.display.Javascript object>"
      ]
     },
     "metadata": {},
     "output_type": "display_data"
    }
   ],
   "source": [
    "%%javascript\n",
    "\n",
    "console.log((10).toString(100));"
   ]
  },
  {
   "cell_type": "markdown",
   "id": "6aa19099",
   "metadata": {
    "heading_collapsed": true
   },
   "source": [
    "## try catch"
   ]
  },
  {
   "cell_type": "code",
   "execution_count": 297,
   "id": "93e2b1e8",
   "metadata": {
    "hidden": true
   },
   "outputs": [
    {
     "data": {
      "application/javascript": [
       "\n",
       "var css_style = \"color: white; font-size: 17px\"\n",
       "\n",
       "function addTwoNums(a,b) {\n",
       "    try {\n",
       "        if(typeof(a) != 'number') {\n",
       "            throw new ReferenceError('the first argument is not a number')\n",
       "        } else if (typeof(b) != 'number') {\n",
       "            throw new ReferenceError('the second argument is not a number')\n",
       "        } else {\n",
       "            console.log('%c' +a + b, css_style);\n",
       "        }\n",
       "    } catch(err) {\n",
       "        console.log(\"%cError! \"+err, css_style);\n",
       "    }\n",
       "}\n",
       "\n",
       "addTwoNums(5, \"5\");\n",
       "\n",
       "addTwoNums(5, 5);\n"
      ],
      "text/plain": [
       "<IPython.core.display.Javascript object>"
      ]
     },
     "metadata": {},
     "output_type": "display_data"
    }
   ],
   "source": [
    "%%javascript\n",
    "\n",
    "var css_style = \"color: white; font-size: 17px\"\n",
    "\n",
    "function addTwoNums(a,b) {\n",
    "    try {\n",
    "        if(typeof(a) != 'number') {\n",
    "            throw new ReferenceError('the first argument is not a number')\n",
    "        } else if (typeof(b) != 'number') {\n",
    "            throw new ReferenceError('the second argument is not a number')\n",
    "        } else {\n",
    "            console.log('%c' +a + b, css_style);\n",
    "        }\n",
    "    } catch(err) {\n",
    "        console.log(\"%cError! \"+err, css_style);\n",
    "    }\n",
    "}\n",
    "\n",
    "addTwoNums(5, \"5\");\n",
    "\n",
    "addTwoNums(5, 5);"
   ]
  },
  {
   "cell_type": "markdown",
   "id": "121e4c9c",
   "metadata": {
    "heading_collapsed": true
   },
   "source": [
    "## Custom Console Styler"
   ]
  },
  {
   "cell_type": "code",
   "execution_count": 313,
   "id": "33e22262",
   "metadata": {
    "hidden": true
   },
   "outputs": [
    {
     "data": {
      "application/javascript": [
       "\n",
       "function consoleStyler(color, background, fontSize, txt) {\n",
       "    var message = \"%c\" + txt;\n",
       "    var style = `color: ${color};`;\n",
       "    style += `background: ${background};`;\n",
       "    style += `font-size: ${fontSize};`;\n",
       "    console.log(message, style);\n",
       "}\n",
       "\n",
       "consoleStyler('#1d5c63', '#ede6db', '40px', 'Congrats!');\n"
      ],
      "text/plain": [
       "<IPython.core.display.Javascript object>"
      ]
     },
     "metadata": {},
     "output_type": "display_data"
    }
   ],
   "source": [
    "%%javascript\n",
    "\n",
    "function consoleStyler(color, background, fontSize, txt) {\n",
    "    var message = \"%c\" + txt;\n",
    "    var style = `color: ${color};`;\n",
    "    style += `background: ${background};`;\n",
    "    style += `font-size: ${fontSize};`;\n",
    "    console.log(message, style);\n",
    "}\n",
    "\n",
    "consoleStyler('#1d5c63', '#ede6db', '40px', 'Congrats!');"
   ]
  },
  {
   "cell_type": "code",
   "execution_count": 328,
   "id": "8832a574",
   "metadata": {
    "hidden": true
   },
   "outputs": [
    {
     "data": {
      "application/javascript": [
       "\n",
       "function output(txt) {\n",
       "    var message = \"%c\" + txt;\n",
       "    var style = \"color: white;\";\n",
       "    style += \"font-size: 17px\";\n",
       "    console.log(message, style);\n",
       "}\n",
       "\n",
       "output('Output in style on console');\n"
      ],
      "text/plain": [
       "<IPython.core.display.Javascript object>"
      ]
     },
     "metadata": {},
     "output_type": "display_data"
    }
   ],
   "source": [
    "%%javascript\n",
    "\n",
    "function output(txt) {\n",
    "    var message = \"%c\" + txt;\n",
    "    var style = \"color: white;\";\n",
    "    style += \"font-size: 17px\";\n",
    "    console.log(message, style);\n",
    "}\n",
    "\n",
    "output('Output in style on console');"
   ]
  },
  {
   "cell_type": "markdown",
   "id": "e30c5ecf",
   "metadata": {},
   "source": [
    "## Object Oriented Programming"
   ]
  },
  {
   "cell_type": "code",
   "execution_count": 332,
   "id": "e07e3499",
   "metadata": {},
   "outputs": [
    {
     "data": {
      "application/javascript": [
       "\n",
       "class Bird {\n",
       "    useWings() {\n",
       "        console.log(\"Flying!\")\n",
       "    }\n",
       "}\n",
       "class Eagle extends Bird {\n",
       "    useWings() {\n",
       "        super.useWings()\n",
       "        console.log(\"Barely flapping!\")\n",
       "    }\n",
       "}\n",
       "class Penguin extends Bird {\n",
       "    useWings() {\n",
       "        console.log(\"Diving!\")\n",
       "    }\n",
       "}\n",
       "var baldEagle = new Eagle();\n",
       "var kingPenguin = new Penguin();\n",
       "baldEagle.useWings(); // \"Flying! Barely flapping!\"\n",
       "kingPenguin.useWings(); // \"Diving!\"\n"
      ],
      "text/plain": [
       "<IPython.core.display.Javascript object>"
      ]
     },
     "metadata": {},
     "output_type": "display_data"
    }
   ],
   "source": [
    "%%javascript\n",
    "\n",
    "class Bird {\n",
    "    useWings() {\n",
    "        console.log(\"Flying!\")\n",
    "    }\n",
    "}\n",
    "class Eagle extends Bird {\n",
    "    useWings() {\n",
    "        super.useWings()\n",
    "        console.log(\"Barely flapping!\")\n",
    "    }\n",
    "}\n",
    "class Penguin extends Bird {\n",
    "    useWings() {\n",
    "        console.log(\"Diving!\")\n",
    "    }\n",
    "}\n",
    "\n",
    "// 'new' keyword creates object \n",
    "var baldEagle = new Eagle();\n",
    "var kingPenguin = new Penguin();\n",
    "baldEagle.useWings(); // \"Flying! Barely flapping!\"\n",
    "kingPenguin.useWings(); // \"Diving!\""
   ]
  },
  {
   "cell_type": "markdown",
   "id": "49e14dbd",
   "metadata": {},
   "source": [
    "The **constructor** is used to build properties on the future **object instance** of the class."
   ]
  },
  {
   "cell_type": "code",
   "execution_count": 363,
   "id": "d55688d0",
   "metadata": {},
   "outputs": [
    {
     "data": {
      "application/javascript": [
       "\n",
       "class Train {\n",
       "    constructor(color, lightsOn) {\n",
       "        this.color = color;\n",
       "        this.lightsOn = lightsOn;\n",
       "    }\n",
       "    toggleLights() {\n",
       "        this.lightsOn = !this.lightsOn;\n",
       "    }\n",
       "    lightsStatus() {\n",
       "        console.log('Lights on?', this.lightsOn);\n",
       "    }\n",
       "    getSelf() {\n",
       "        console.log(this);\n",
       "    }\n",
       "    \n",
       "    /* The prototype of the object instance of the class can be defined using \n",
       "    JavaScript's built-in `Object.getPrototypeOf()` method. \n",
       "    The prototype holds all the properties shared by all the object instances of the class.\n",
       "    */\n",
       "\n",
       "    getPrototype() {\n",
       "        var proto = Object.getPrototypeOf(this);\n",
       "        console.log(proto);\n",
       "    }\n",
       "}\n",
       "\n",
       "// Creating `my_train` Object\n",
       "var my_train = new Train('red', false);\n",
       "console.log(my_train);\n",
       "\n",
       "my_train.toggleLights(); // undefined (this will toggle the light)\n",
       "my_train.lightsStatus(); // Lights on? true\n",
       "my_train.getSelf(); // Train {color: 'red', lightsOn: true}\n",
       "my_train.getPrototype(); // {constructor: f, toggleLights: f, ligthsStatus: f, getSelf: f, getPrototype: f}\n",
       "\n",
       "\n",
       "console.log('--------------------------------------')\n",
       "\n",
       "\n",
       "// Inheriting class Train using 'extends' keyword\n",
       "class HighSpeedTrain extends Train {\n",
       "    constructor(passengers, highSpeedOn, color, lightsOn) {        \n",
       "        // `super` keyword is used to specify what property gets inherited from the super-class in the sub-class.\n",
       "        super(color, lightsOn);\n",
       "        this.passengers = passengers;\n",
       "        this.highSpeedOn = highSpeedOn;\n",
       "    }\n",
       "    toggleHighSpeed() {\n",
       "        this.highSpeedOn = !this.highSpeedOn;\n",
       "        console.log('High speed status:', this.highSpeedOn);\n",
       "    }\n",
       "    toggleLights() {\n",
       "        super.toggleLights();\n",
       "        super.lightsStatus();\n",
       "        console.log('Lights are 100% operational.');\n",
       "    }\n",
       "}\n",
       "\n",
       "var my_highspeed_train = new HighSpeedTrain(150, false, 'blue', false);\n",
       "console.log(my_highspeed_train);\n",
       "console.log(`A HighSpeedTrain of ${my_highspeed_train.color} color\n",
       "            has ${my_highspeed_train.passengers} passengers`);\n",
       "\n",
       "my_highspeed_train.toggleLights(); // Lights on? true, Lights are 100% operational.\n"
      ],
      "text/plain": [
       "<IPython.core.display.Javascript object>"
      ]
     },
     "metadata": {},
     "output_type": "display_data"
    }
   ],
   "source": [
    "%%javascript\n",
    "\n",
    "class Train {\n",
    "    constructor(color, lightsOn) {\n",
    "        this.color = color;\n",
    "        this.lightsOn = lightsOn;\n",
    "    }\n",
    "    toggleLights() {\n",
    "        this.lightsOn = !this.lightsOn;\n",
    "    }\n",
    "    lightsStatus() {\n",
    "        console.log('Lights on?', this.lightsOn);\n",
    "    }\n",
    "    getSelf() {\n",
    "        console.log(this);\n",
    "    }\n",
    "    \n",
    "    /* The prototype of the object instance of the class can be defined using \n",
    "    JavaScript's built-in `Object.getPrototypeOf()` method. \n",
    "    The prototype holds all the properties shared by all the object instances of the class.\n",
    "    */\n",
    "\n",
    "    getPrototype() {\n",
    "        var proto = Object.getPrototypeOf(this);\n",
    "        console.log(proto);\n",
    "    }\n",
    "}\n",
    "\n",
    "// Creating `my_train` Object\n",
    "var my_train = new Train('red', false);\n",
    "console.log(my_train);\n",
    "\n",
    "my_train.toggleLights(); // undefined (this will toggle the light)\n",
    "my_train.lightsStatus(); // Lights on? true\n",
    "my_train.getSelf(); // Train {color: 'red', lightsOn: true}\n",
    "my_train.getPrototype(); // {constructor: f, toggleLights: f, ligthsStatus: f, getSelf: f, getPrototype: f}\n",
    "\n",
    "\n",
    "console.log('--------------------------------------')\n",
    "\n",
    "\n",
    "// Inheriting class Train using 'extends' keyword\n",
    "class HighSpeedTrain extends Train {\n",
    "    constructor(passengers, highSpeedOn, color, lightsOn) {        \n",
    "        // `super` keyword is used to specify what property gets inherited from the super-class in the sub-class.\n",
    "        super(color, lightsOn);\n",
    "        this.passengers = passengers;\n",
    "        this.highSpeedOn = highSpeedOn;\n",
    "    }\n",
    "    toggleHighSpeed() {\n",
    "        this.highSpeedOn = !this.highSpeedOn;\n",
    "        console.log('High speed status:', this.highSpeedOn);\n",
    "    }\n",
    "    toggleLights() {\n",
    "        super.toggleLights();\n",
    "        super.lightsStatus();\n",
    "        console.log('Lights are 100% operational.');\n",
    "    }\n",
    "}\n",
    "\n",
    "var my_highspeed_train = new HighSpeedTrain(150, false, 'blue', false);\n",
    "console.log(my_highspeed_train);\n",
    "console.log(`A HighSpeedTrain of ${my_highspeed_train.color} color\n",
    "            has ${my_highspeed_train.passengers} passengers`);\n",
    "\n",
    "my_highspeed_train.toggleLights(); // Lights on? true, Lights are 100% operational."
   ]
  },
  {
   "cell_type": "code",
   "execution_count": 370,
   "id": "8143f524",
   "metadata": {},
   "outputs": [
    {
     "data": {
      "application/javascript": [
       "\n",
       "// Task 1: Code a Person class\n",
       "class Person {\n",
       "    constructor(name = \"Tom\", age = 20, energy = 100) {\n",
       "        this.name = name;\n",
       "        this.age = age;\n",
       "        this.energy = energy;\n",
       "    }\n",
       "    sleep() {\n",
       "        this.energy = this.energy + 10;\n",
       "    }\n",
       "    doSomethingFun() {\n",
       "        this.energy = this.energy - 10;\n",
       "    }\n",
       "}\n",
       "\n",
       "// Task 2: Code a Worker class\n",
       "class Worker extends Person {\n",
       "    constructor(xp = 0, hourlyWage = 10, name, age, energy) {\n",
       "        super(name, age, energy);\n",
       "        this.hourlyWage = hourlyWage;\n",
       "        this.xp = xp;\n",
       "    }\n",
       "    goToWork() {\n",
       "        this.xp = this.xp + 10;\n",
       "    }\n",
       "}\n",
       "\n",
       "// Task 3: Code an intern object\n",
       "var intern = new Worker(0,10,\"Bob\",21,110);\n",
       "console.log(intern);\n",
       "\n",
       "intern.goToWork();\n",
       "intern.goToWork();\n",
       "intern.goToWork();\n",
       "intern.goToWork();\n",
       "intern.doSomethingFun()\n",
       "console.log(intern);\n",
       "\n",
       "\n",
       "// Task 4: Code a manager object\n",
       "var manager = new Worker(100,30,\"Alice\",30,100);\n",
       "console.log(manager);\n",
       "\n",
       "manager.doSomethingFun();\n",
       "manager.doSomethingFun();\n",
       "manager.goToWork();\n",
       "console.log(manager);\n"
      ],
      "text/plain": [
       "<IPython.core.display.Javascript object>"
      ]
     },
     "metadata": {},
     "output_type": "display_data"
    }
   ],
   "source": [
    "%%javascript\n",
    "\n",
    "// Task 1: Code a Person class\n",
    "class Person {\n",
    "    constructor(name = \"Tom\", age = 20, energy = 100) {\n",
    "        this.name = name;\n",
    "        this.age = age;\n",
    "        this.energy = energy;\n",
    "    }\n",
    "    sleep() {\n",
    "        this.energy = this.energy + 10;\n",
    "    }\n",
    "    doSomethingFun() {\n",
    "        this.energy = this.energy - 10;\n",
    "    }\n",
    "}\n",
    "\n",
    "// Task 2: Code a Worker class\n",
    "class Worker extends Person {\n",
    "    constructor(xp = 0, hourlyWage = 10, name, age, energy) {\n",
    "        super(name, age, energy);\n",
    "        this.hourlyWage = hourlyWage;\n",
    "        this.xp = xp;\n",
    "    }\n",
    "    goToWork() {\n",
    "        this.xp = this.xp + 10;\n",
    "    }\n",
    "}\n",
    "\n",
    "// Task 3: Code an intern object\n",
    "var intern = new Worker(0,10,\"Bob\",21,110);\n",
    "console.log(intern);\n",
    "\n",
    "intern.goToWork();\n",
    "intern.goToWork();\n",
    "intern.goToWork();\n",
    "intern.goToWork();\n",
    "intern.doSomethingFun()\n",
    "console.log(intern);\n",
    "\n",
    "\n",
    "// Task 4: Code a manager object\n",
    "var manager = new Worker(100,30,\"Alice\",30,100);\n",
    "console.log(manager);\n",
    "\n",
    "manager.doSomethingFun();\n",
    "manager.doSomethingFun();\n",
    "manager.goToWork();\n",
    "console.log(manager);"
   ]
  },
  {
   "cell_type": "code",
   "execution_count": null,
   "id": "69bbe4a5",
   "metadata": {},
   "outputs": [],
   "source": []
  },
  {
   "cell_type": "code",
   "execution_count": null,
   "id": "ec8ec12c",
   "metadata": {},
   "outputs": [],
   "source": []
  },
  {
   "cell_type": "code",
   "execution_count": null,
   "id": "b5f01cf5",
   "metadata": {},
   "outputs": [],
   "source": []
  },
  {
   "cell_type": "markdown",
   "id": "e79a4ada",
   "metadata": {
    "heading_collapsed": true
   },
   "source": [
    "## Readings\n"
   ]
  },
  {
   "cell_type": "markdown",
   "id": "1752712f",
   "metadata": {
    "hidden": true
   },
   "source": [
    "### Documentation\n",
    "* https://developer.mozilla.org/en-US/docs/Web/JavaScript\n",
    "\n",
    "### Testing\n",
    "* https://jestjs.io/docs/getting-started\n",
    "\n",
    "### Python-Javascript Integration\n",
    "* https://towardsdatascience.com/introducing-notebookjs-seamless-integration-between-python-and-javascript-in-computational-e654ec3fbd18\n",
    "\n",
    "### Visualization\n",
    "* https://livingwithmachines.ac.uk/d3-javascript-visualisation-in-a-python-jupyter-notebook/\n",
    "* https://www.stefaanlippens.net/jupyter-custom-d3-visualization.html\n",
    "* https://towardsdatascience.com/javascript-charts-on-jupyter-notebooks-dd25f794cf6a"
   ]
  },
  {
   "cell_type": "markdown",
   "id": "3396e72a",
   "metadata": {
    "hidden": true
   },
   "source": [
    "### Other references\n",
    "https://www.tutorialstonight.com/javascript-string-format.php"
   ]
  },
  {
   "cell_type": "code",
   "execution_count": null,
   "id": "d7665e21",
   "metadata": {
    "hidden": true
   },
   "outputs": [],
   "source": [
    "# from IPython.display import display, Javascript, HTML"
   ]
  },
  {
   "cell_type": "code",
   "execution_count": null,
   "id": "ec64b5b0",
   "metadata": {
    "hidden": true
   },
   "outputs": [],
   "source": []
  }
 ],
 "metadata": {
  "kernelspec": {
   "display_name": "Python 3",
   "language": "python",
   "name": "python3"
  },
  "language_info": {
   "codemirror_mode": {
    "name": "ipython",
    "version": 3
   },
   "file_extension": ".py",
   "mimetype": "text/x-python",
   "name": "python",
   "nbconvert_exporter": "python",
   "pygments_lexer": "ipython3",
   "version": "3.9.7"
  },
  "toc": {
   "base_numbering": 1,
   "nav_menu": {},
   "number_sections": false,
   "sideBar": true,
   "skip_h1_title": false,
   "title_cell": "Table of Contents",
   "title_sidebar": "Contents",
   "toc_cell": false,
   "toc_position": {},
   "toc_section_display": true,
   "toc_window_display": false
  },
  "varInspector": {
   "cols": {
    "lenName": 16,
    "lenType": 16,
    "lenVar": 40
   },
   "kernels_config": {
    "python": {
     "delete_cmd_postfix": "",
     "delete_cmd_prefix": "del ",
     "library": "var_list.py",
     "varRefreshCmd": "print(var_dic_list())"
    },
    "r": {
     "delete_cmd_postfix": ") ",
     "delete_cmd_prefix": "rm(",
     "library": "var_list.r",
     "varRefreshCmd": "cat(var_dic_list()) "
    }
   },
   "types_to_exclude": [
    "module",
    "function",
    "builtin_function_or_method",
    "instance",
    "_Feature"
   ],
   "window_display": false
  }
 },
 "nbformat": 4,
 "nbformat_minor": 5
}
