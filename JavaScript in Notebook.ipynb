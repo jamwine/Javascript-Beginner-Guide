{
 "cells": [
  {
   "cell_type": "markdown",
   "id": "de2908a7",
   "metadata": {},
   "source": [
    "# JavaScript Basics"
   ]
  },
  {
   "cell_type": "markdown",
   "id": "3ce77166",
   "metadata": {},
   "source": [
    "* By utilizing the **%%javascript** magic, we can run Javascript on Jupyter Notebooks and use the **console** for viewing output.\n",
    "\n",
    "\n",
    "* Right-click and select **Inspect** to open the console.\n",
    "\n",
    "<img width=\"860%\" src=\"imgs/jupyter_console.png\" alt=\"jupyter_console.png\">\n"
   ]
  },
  {
   "cell_type": "markdown",
   "id": "713d8b50",
   "metadata": {
    "heading_collapsed": true
   },
   "source": [
    "## Comments in Javascript"
   ]
  },
  {
   "cell_type": "markdown",
   "id": "3371e196",
   "metadata": {
    "hidden": true
   },
   "source": [
    "There are two varieties of comments in JavaScript: \n",
    "\n",
    "* Single-line comments \n",
    "* Multi-line comments"
   ]
  },
  {
   "cell_type": "code",
   "execution_count": null,
   "id": "2d2c74e0",
   "metadata": {
    "hidden": true
   },
   "outputs": [],
   "source": [
    "%%javascript\n",
    "\n",
    "// Single-line comment, all the content of this cell will be interpreted as Javascript code"
   ]
  },
  {
   "cell_type": "code",
   "execution_count": null,
   "id": "8e354fff",
   "metadata": {
    "hidden": true
   },
   "outputs": [],
   "source": [
    "%%javascript\n",
    "\n",
    "/*\n",
    "this is a multi-line comment\n",
    "the code within this cell will be interpreted as Javascript code\n",
    "*/\n",
    "\n",
    "console.log(\"Hello from Jupyter Notebook!\");"
   ]
  },
  {
   "cell_type": "code",
   "execution_count": null,
   "id": "b0ee984b",
   "metadata": {
    "hidden": true
   },
   "outputs": [],
   "source": [
    "%%javascript\n",
    "\n",
    "// Styling the console output by using valid CSS code\n",
    "console.log(\"%cHello from Jupyter Notebook!\", \"color: white; font-size: 15px\");"
   ]
  },
  {
   "cell_type": "markdown",
   "id": "99b8a1c8",
   "metadata": {
    "hidden": true
   },
   "source": [
    "Adding `%c` right after the `\"` character allowed us to style the words in the console output."
   ]
  },
  {
   "cell_type": "code",
   "execution_count": null,
   "id": "5188ab25",
   "metadata": {
    "hidden": true
   },
   "outputs": [],
   "source": [
    "%%javascript\n",
    "\n",
    "// calling the alert box\n",
    "alert(\"hello\");"
   ]
  },
  {
   "cell_type": "markdown",
   "id": "47493a73",
   "metadata": {},
   "source": [
    "## Variables"
   ]
  },
  {
   "cell_type": "code",
   "execution_count": 127,
   "id": "6c146f60",
   "metadata": {},
   "outputs": [
    {
     "data": {
      "application/javascript": [
       "\n",
       "// Defining variables x, y, z\n",
       "\n",
       "var x = 10; // integer\n",
       "var y = true; // boolean\n",
       "var z = 'Learn'; // string\n",
       "var blank; // blank value is undefined (by default)\n",
       "\n",
       "// Printing variables on console output in a single line\n",
       "console.log(x, y, z, blank);\n"
      ],
      "text/plain": [
       "<IPython.core.display.Javascript object>"
      ]
     },
     "metadata": {},
     "output_type": "display_data"
    }
   ],
   "source": [
    "%%javascript\n",
    "\n",
    "// Defining variables x, y, z\n",
    "\n",
    "var x = 10; // integer\n",
    "var y = true; // boolean\n",
    "var z = 'Learn'; // string\n",
    "var blank; // blank value is undefined (by default)\n",
    "\n",
    "// Printing variables on console output in a single line\n",
    "console.log(x, y, z, blank);"
   ]
  },
  {
   "cell_type": "code",
   "execution_count": 63,
   "id": "1b60e524",
   "metadata": {},
   "outputs": [
    {
     "data": {
      "application/javascript": [
       "\n",
       "var message_1 = 'Welcome Jamwine..';\n",
       "var message_2 = \"Hello from Jupyter Notebook!\";\n",
       "\n",
       "console.log(message_1, message_2, '\\n');\n"
      ],
      "text/plain": [
       "<IPython.core.display.Javascript object>"
      ]
     },
     "metadata": {},
     "output_type": "display_data"
    }
   ],
   "source": [
    "%%javascript\n",
    "\n",
    "var message_1 = 'Welcome Jamwine..';\n",
    "var message_2 = \"Hello from Jupyter Notebook!\";\n",
    "\n",
    "console.log(message_1, message_2);"
   ]
  },
  {
   "cell_type": "code",
   "execution_count": 65,
   "id": "a8505bb4",
   "metadata": {},
   "outputs": [
    {
     "data": {
      "application/javascript": [
       "\n",
       "var name = \"Jamwine\";\n",
       "\n",
       "// concatenating strings using + operator\n",
       "var message_1 = \"Welcome \" + name + \"..\";\n",
       "var message_2 = \"Hello from Jupyter Notebook!\"\n",
       "\n",
       "/* Use backticks (``) for accessing variables within strings.\n",
       "   To access a variable: wrap it in curly braces ({}) preceded by a dollar sign ($).\n",
       "   For example: `Hey ${name}..`\n",
       "*/\n",
       "var message_3 = `How are you ${name}?`;\n",
       "\n",
       "console.log(message_1, message_2, '\\n', message_3)\n"
      ],
      "text/plain": [
       "<IPython.core.display.Javascript object>"
      ]
     },
     "metadata": {},
     "output_type": "display_data"
    }
   ],
   "source": [
    "%%javascript\n",
    "\n",
    "var name = \"Jamwine\";\n",
    "\n",
    "// concatenating strings using + operator\n",
    "var message_1 = \"Welcome \" + name + \"..\";\n",
    "var message_2 = \"Hello from Jupyter Notebook!\"\n",
    "\n",
    "/* Use backticks (``) for accessing variables within strings.\n",
    "   To access a variable: wrap it in curly braces ({}) preceded by a dollar sign ($).\n",
    "   For example: `Hey ${name}..`\n",
    "*/\n",
    "var message_3 = `How are you ${name}?`;\n",
    "\n",
    "console.log(message_1, message_2, '\\n', message_3);"
   ]
  },
  {
   "cell_type": "markdown",
   "id": "3059ae81",
   "metadata": {},
   "source": [
    "These variables are called **placeholders** within the string which are replaced with the values of the variables."
   ]
  },
  {
   "cell_type": "code",
   "execution_count": 72,
   "id": "a55b7c9c",
   "metadata": {},
   "outputs": [
    {
     "data": {
      "application/javascript": [
       "\n",
       "var name = \"Jamwine\"\n",
       "var message_1 = `%cGreetings ${name}!`\n",
       "var css_style = \"color: white; font-size: 20px\"\n",
       "\n",
       "console.log(message_1, css_style)\n"
      ],
      "text/plain": [
       "<IPython.core.display.Javascript object>"
      ]
     },
     "metadata": {},
     "output_type": "display_data"
    }
   ],
   "source": [
    "%%javascript\n",
    "\n",
    "var name = \"Jamwine\"\n",
    "var message_1 = `%cGreetings ${name}!`\n",
    "var css_style = \"color: white; font-size: 20px\"\n",
    "\n",
    "console.log(message_1, css_style)"
   ]
  },
  {
   "cell_type": "markdown",
   "id": "96e96f77",
   "metadata": {},
   "source": [
    "## Operations"
   ]
  },
  {
   "cell_type": "markdown",
   "id": "bb5a6605",
   "metadata": {},
   "source": [
    "### Arithmetic Operations"
   ]
  },
  {
   "cell_type": "code",
   "execution_count": 129,
   "id": "a89a51e3",
   "metadata": {},
   "outputs": [
    {
     "data": {
      "application/javascript": [
       "\n",
       "var a = 11 + 5;  // addition\n",
       "console.log(`Addition 11+5 :${a}`);\n",
       "\n",
       "var b = 11 - 5  // subtraction\n",
       "console.log(`Subtraction 11-5 :`, b)\n",
       "\n",
       "var c = 11 * 5  // multiplication\n",
       "console.log(`Multiplication 11*5 :`, c)\n",
       "\n",
       "var d = 11 / 5  // division\n",
       "console.log(`Division 11/5 :`, d)\n",
       "\n",
       "var e = 11 % 5  // (modulus) returns remainder as result\n",
       "console.log(`Division (% returns remainder) 11%5 :`, e)\n",
       "\n",
       "var f = 11**5  // exponents\n",
       "console.log(`Exponent 11**5 :`, f)\n",
       "\n",
       "var g; // g is undefined\n",
       "console.log(`g+5 :`, g+5) // returns NaN\n"
      ],
      "text/plain": [
       "<IPython.core.display.Javascript object>"
      ]
     },
     "metadata": {},
     "output_type": "display_data"
    }
   ],
   "source": [
    "%%javascript\n",
    "\n",
    "var a = 11 + 5;  // addition\n",
    "console.log(`Addition 11+5 :${a}`);\n",
    "\n",
    "var b = 11 - 5  // subtraction\n",
    "console.log(`Subtraction 11-5 :`, b)\n",
    "\n",
    "var c = 11 * 5  // multiplication\n",
    "console.log(`Multiplication 11*5 :`, c)\n",
    "\n",
    "var d = 11 / 5  // division\n",
    "console.log(`Division 11/5 :`, d)\n",
    "\n",
    "var e = 11 % 5  // (modulus) returns remainder as result\n",
    "console.log(`Division (% returns remainder) 11%5 :`, e)\n",
    "\n",
    "var f = 11**5  // exponents\n",
    "console.log(`Exponent 11**5 :`, f)\n",
    "\n",
    "var g; // g is undefined\n",
    "console.log(`g+5 :`, g+5) // returns NaN"
   ]
  },
  {
   "cell_type": "markdown",
   "id": "448dbb9a",
   "metadata": {},
   "source": [
    "### Boolean Operations"
   ]
  },
  {
   "cell_type": "markdown",
   "id": "f404c5ee",
   "metadata": {},
   "source": [
    "* Logical **AND** operator: `&&`\n",
    "\n",
    "* Logical **OR** operator: `||` \n",
    "\n",
    "* Logical **NOT** operator: `!` "
   ]
  },
  {
   "cell_type": "code",
   "execution_count": 134,
   "id": "b2b89a29",
   "metadata": {},
   "outputs": [
    {
     "data": {
      "application/javascript": [
       "\n",
       "console.log(`11 is greater than 5: ${11 > 5}`); // greater than\n",
       "console.log(`11 is less than 5: ${11 < 5}`); // less than\n",
       "\n",
       "console.log(`11 is lesser than or equal to  5: ${11 <= 5}`)  // less than equal to\n",
       "console.log(`11 is greater than or equal to 5: ${11 >= 5}`)  // greater than equal to\n",
       "\n",
       "console.log(`11 is equal to 5: ${11 == 5}`)  // equal to\n",
       "console.log(`11 is not equal to 5: ${11 != 5}`)  // not equal to\n"
      ],
      "text/plain": [
       "<IPython.core.display.Javascript object>"
      ]
     },
     "metadata": {},
     "output_type": "display_data"
    }
   ],
   "source": [
    "%%javascript\n",
    "\n",
    "console.log(`11 is greater than 5: ${11 > 5}`); // greater than\n",
    "console.log(`11 is less than 5: ${11 < 5}`); // less than\n",
    "\n",
    "console.log(`11 is lesser than or equal to  5: ${11 <= 5}`)  // less than equal to\n",
    "console.log(`11 is greater than or equal to 5: ${11 >= 5}`)  // greater than equal to\n",
    "\n",
    "console.log(`11 is not equal to 5: ${11 != 5}`)  // not equal to"
   ]
  },
  {
   "cell_type": "code",
   "execution_count": 99,
   "id": "36fe80d2",
   "metadata": {},
   "outputs": [
    {
     "data": {
      "application/javascript": [
       "\n",
       "/* AND: Returns true only if both conditions are true\n",
       "   OR: Returns true if either one of both the conditions is true\n",
       "   NOT: reverses the result\n",
       "*/\n",
       "\n",
       "console.log(` 11>5 || 11<5: ${11 > 5 || 11 < 5}`,'\\n',\n",
       "            `11>5 && 11<5: ${11 > 5 && 11 < 5}`)\n",
       "\n",
       "console.log(` false || true: ${false || true}`,'\\n',\n",
       "            `false && true: ${false && true}`)\n",
       "\n",
       "console.log(` !true: ${!true}`,'\\n',\n",
       "            `!false: ${!false}`)\n"
      ],
      "text/plain": [
       "<IPython.core.display.Javascript object>"
      ]
     },
     "metadata": {},
     "output_type": "display_data"
    }
   ],
   "source": [
    "%%javascript\n",
    "\n",
    "/* AND: Returns true only if both conditions are true\n",
    "   OR: Returns true if either one of both the conditions is true\n",
    "   NOT: reverses the result\n",
    "*/\n",
    "\n",
    "console.log(` 11>5 || 11<5: ${11 > 5 || 11 < 5}`,'\\n',\n",
    "            `11>5 && 11<5: ${11 > 5 && 11 < 5}`)\n",
    "\n",
    "console.log(` false || true: ${false || true}`,'\\n',\n",
    "            `false && true: ${false && true}`)\n",
    "\n",
    "console.log(` !true: ${!true}`,'\\n',\n",
    "            `!false: ${!false}`)"
   ]
  },
  {
   "cell_type": "markdown",
   "id": "d37c2a86",
   "metadata": {},
   "source": [
    "The **equality operator (==)** checks whether its two operands are equal, returning a Boolean result. \n",
    "* If the operands are `both objects`, return **true** only if both operands **reference the same object**.\n",
    "* If one operand is `null` and the other is `undefined`, return **true**.\n",
    "* If the operands are of different types, try to convert them to the same type before comparing:\n",
    "    * When comparing a `number` to a `string`, try to convert the string to a numeric value.\n",
    "    * If one of the operands is a `boolean`, convert the boolean operand to `1 if it is true` and `+0 if it is false`.\n",
    "    * If one of the operands is an `object` and the other is a `number or a string`, try to convert the object to its primitive datatype (using object's *valueOf()* or *toString()*).\n",
    "* If the operands have the `same type`, they are compared as follows:\n",
    "    * **String**: return **true** only if both operands have the same characters in the same order.\n",
    "    * **Number**: return **true** only if both operands have the same value. `+0` and `-0` are treated as the same value. If either operand is `NaN`, return **false**.\n",
    "    * **Boolean**: return **true** only if operands are both `true` or both `false`.\n",
    "    \n",
    "The most notable difference between **equality operator (==)** and the **strict equality (===)** operator is that the **strict equality operator does not attempt type conversion**. Instead, the strict equality operator always considers operands of different types to be different.\n"
   ]
  },
  {
   "cell_type": "code",
   "execution_count": 140,
   "id": "6f589be4",
   "metadata": {},
   "outputs": [
    {
     "data": {
      "application/javascript": [
       "\n",
       "console.log(`11 == 5: ${11 == 5}`)  // Equality (==)\n",
       "// expected output: false\n",
       "\n",
       "console.log(\"'hello' == 'Hello' is: \", 'hello' == 'Hello');\n",
       "// expected output: false\n",
       "\n",
       "// A Peculiar Case\n",
       "console.log(\"'1' ==  1 is: \", '1' ==  1);\n",
       "// expected output: true\n",
       "\n",
       "console.log(\"'1' ===  1 is: \", '1' ===  1);\n",
       "// expected output: false\n",
       "\n",
       "console.log(\"0 == false is: \", 0 == false);\n",
       "// expected output: true\n",
       "\n",
       "console.log(\"0 === false is: \", 0 === false);\n",
       "// expected output: false\n"
      ],
      "text/plain": [
       "<IPython.core.display.Javascript object>"
      ]
     },
     "metadata": {},
     "output_type": "display_data"
    }
   ],
   "source": [
    "%%javascript\n",
    "\n",
    "console.log(`11 == 5: ${11 == 5}`)  // Equality (==)\n",
    "// expected output: false\n",
    "\n",
    "console.log(\"'hello' == 'Hello' is: \", 'hello' == 'Hello');\n",
    "// expected output: false\n",
    "\n",
    "// A Peculiar Case\n",
    "console.log(\"'1' ==  1 is: \", '1' ==  1);\n",
    "// expected output: true\n",
    "\n",
    "console.log(\"'1' ===  1 is: \", '1' ===  1);\n",
    "// expected output: false\n",
    "\n",
    "console.log(\"0 == false is: \", 0 == false);\n",
    "// expected output: true\n",
    "\n",
    "console.log(\"0 === false is: \", 0 === false);\n",
    "// expected output: false"
   ]
  },
  {
   "cell_type": "markdown",
   "id": "f455e22c",
   "metadata": {},
   "source": [
    "### Coercion"
   ]
  },
  {
   "cell_type": "markdown",
   "id": "ef69deb8",
   "metadata": {},
   "source": [
    "JavaScript **coerces a number value to a string value** - so that it can run the + operator on disparate data types.\n",
    "\n",
    "The process of coercion can sometimes be a bit unexpected."
   ]
  },
  {
   "cell_type": "code",
   "execution_count": 116,
   "id": "fb8b3236",
   "metadata": {},
   "outputs": [
    {
     "data": {
      "application/javascript": [
       "\n",
       "// int + int = int\n",
       "console.log(`1 + 2: ${1 + 2}`)\n",
       "\n",
       "// int + str = str\n",
       "console.log(`1 + \"2\": ${1 + \"2\"}`) \n",
       "\n",
       "// int + bool = int\n",
       "console.log(`1 + true: ${1 + true}`)\n",
       "\n",
       "// int + bool = int\n",
       "console.log(`1 + true: ${1 + true}`)\n",
       "\n",
       "// bool + bool = int\n",
       "console.log(`true + true: ${true + true}`)\n",
       "\n",
       "// str + bool = str\n",
       "console.log(`\"1\" + true: ${\"1\" + true}`)\n"
      ],
      "text/plain": [
       "<IPython.core.display.Javascript object>"
      ]
     },
     "metadata": {},
     "output_type": "display_data"
    }
   ],
   "source": [
    "%%javascript\n",
    "\n",
    "// int + int = int\n",
    "console.log(`1 + 2: ${1 + 2}`)\n",
    "\n",
    "// int + str = str\n",
    "console.log(`1 + \"2\": ${1 + \"2\"}`) \n",
    "\n",
    "// int + bool = int\n",
    "console.log(`1 + true: ${1 + true}`)\n",
    "\n",
    "// int + bool = int\n",
    "console.log(`1 + true: ${1 + true}`)\n",
    "\n",
    "// bool + bool = int\n",
    "console.log(`true + true: ${true + true}`)\n",
    "\n",
    "// str + bool = str\n",
    "console.log(`\"1\" + true: ${\"1\" + true}`)"
   ]
  },
  {
   "cell_type": "markdown",
   "id": "5f296dc1",
   "metadata": {},
   "source": [
    "### Operator precedence and associativity"
   ]
  },
  {
   "cell_type": "markdown",
   "id": "5c905166",
   "metadata": {},
   "source": [
    "**Operator precedence** is a set of rules that determines which operator should be evaluated first."
   ]
  },
  {
   "cell_type": "markdown",
   "id": "a0011be9",
   "metadata": {},
   "source": [
    "<div class=\"alert alert-info\">Remember, the arithmetic operations always follow the <b>PEDMAS</b> rule. Consider the examples below:</div>"
   ]
  },
  {
   "cell_type": "code",
   "execution_count": 119,
   "id": "11bb2a8d",
   "metadata": {},
   "outputs": [
    {
     "data": {
      "application/javascript": [
       "\n",
       "console.log(`Result of 5+2*7-8/2**2+1 is: ${5 + 2 * 7 - 8 / 2**2 + 1}`);\n",
       "console.log(`Result of (5+2)*7-(8/2**2)+1 is: ${(5 + 2) * 7 - (8 / 2**2) + 1}`);\n"
      ],
      "text/plain": [
       "<IPython.core.display.Javascript object>"
      ]
     },
     "metadata": {},
     "output_type": "display_data"
    }
   ],
   "source": [
    "%%javascript\n",
    "\n",
    "console.log(`Result of 5+2*7-8/2**2+1 is: ${5 + 2 * 7 - 8 / 2**2 + 1}`);\n",
    "console.log(`Result of (5+2)*7-(8/2**2)+1 is: ${(5 + 2) * 7 - (8 / 2**2) + 1}`);"
   ]
  },
  {
   "cell_type": "markdown",
   "id": "7234578a",
   "metadata": {},
   "source": [
    "**Operator associativity** determines how the precedence works when the code uses operators with the same precedence. There are two kinds: \n",
    "\n",
    "* left-to-right associativity\n",
    "\n",
    "* right-to-left associativity"
   ]
  },
  {
   "cell_type": "code",
   "execution_count": 124,
   "id": "06354f32",
   "metadata": {},
   "outputs": [
    {
     "data": {
      "application/javascript": [
       "\n",
       "var x = 20;\n",
       "// the value on the right is assigned to the variable name on the left\n",
       "console.log(`Value of x is: ${x}`);\n",
       "\n",
       "var y = 15 > 12 > 5;\n",
       "// 15 > 12 is evaluated first (to `true`)\n",
       "// then true > 5 is evaluated to `false`, because the `true` value is coerced to `1`\n",
       "console.log(`Value of y = 15 > 12 > 5 is: ${y}`);\n"
      ],
      "text/plain": [
       "<IPython.core.display.Javascript object>"
      ]
     },
     "metadata": {},
     "output_type": "display_data"
    }
   ],
   "source": [
    "%%javascript\n",
    "\n",
    "var x = 20;\n",
    "// the value on the right is assigned to the variable name on the left\n",
    "console.log(`Value of x is: ${x}`);\n",
    "\n",
    "var y = 15 > 12 > 5;\n",
    "// 15 > 12 is evaluated first (to `true`)\n",
    "// then true > 5 is evaluated to `false`, because the `true` value is coerced to `1`\n",
    "console.log(`Value of y = 15 > 12 > 5 is: ${y}`);"
   ]
  },
  {
   "cell_type": "markdown",
   "id": "43014e20",
   "metadata": {},
   "source": [
    "## typeof()"
   ]
  },
  {
   "cell_type": "markdown",
   "id": "32680e1f",
   "metadata": {},
   "source": [
    "The **typeof** operator returns a **string** indicating the type of the unevaluated operand."
   ]
  },
  {
   "cell_type": "code",
   "execution_count": 133,
   "id": "867b4527",
   "metadata": {},
   "outputs": [
    {
     "data": {
      "application/javascript": [
       "\n",
       "console.log(\"typeof 24 is:\", typeof 24);\n",
       "// expected output: \"number\"\n",
       "\n",
       "console.log(\"typeof 'sample text' is:\", typeof 'sample text');\n",
       "// expected output: \"string\"\n",
       "\n",
       "console.log(\"typeof true is:\", typeof true);\n",
       "// expected output: \"boolean\"\n",
       "\n",
       "console.log(\"typeof xyz is:\", typeof xyz); // xyz is undeclaredVariable\n",
       "// expected output: \"undefined\"\n"
      ],
      "text/plain": [
       "<IPython.core.display.Javascript object>"
      ]
     },
     "metadata": {},
     "output_type": "display_data"
    }
   ],
   "source": [
    "%%javascript\n",
    "\n",
    "console.log(\"typeof 24 is:\", typeof 24);\n",
    "// expected output: \"number\"\n",
    "\n",
    "console.log(\"typeof 'sample text' is:\", typeof 'sample text');\n",
    "// expected output: \"string\"\n",
    "\n",
    "console.log(\"typeof true is:\", typeof true);\n",
    "// expected output: \"boolean\"\n",
    "\n",
    "console.log(\"typeof xyz is:\", typeof xyz); // xyz is undeclaredVariable\n",
    "// expected output: \"undefined\""
   ]
  },
  {
   "cell_type": "code",
   "execution_count": null,
   "id": "e8fcaa5c",
   "metadata": {},
   "outputs": [],
   "source": []
  },
  {
   "cell_type": "markdown",
   "id": "e79a4ada",
   "metadata": {},
   "source": [
    "## Readings\n",
    "### Python-Javascript Integration\n",
    "* https://towardsdatascience.com/introducing-notebookjs-seamless-integration-between-python-and-javascript-in-computational-e654ec3fbd18\n",
    "\n",
    "### Visualization\n",
    "* https://livingwithmachines.ac.uk/d3-javascript-visualisation-in-a-python-jupyter-notebook/\n",
    "* https://www.stefaanlippens.net/jupyter-custom-d3-visualization.html\n",
    "* https://towardsdatascience.com/javascript-charts-on-jupyter-notebooks-dd25f794cf6a"
   ]
  },
  {
   "cell_type": "markdown",
   "id": "3396e72a",
   "metadata": {},
   "source": [
    "https://www.tutorialstonight.com/javascript-string-format.php"
   ]
  },
  {
   "cell_type": "code",
   "execution_count": null,
   "id": "d7665e21",
   "metadata": {},
   "outputs": [],
   "source": [
    "# from IPython.display import display, Javascript, HTML"
   ]
  },
  {
   "cell_type": "code",
   "execution_count": null,
   "id": "ec64b5b0",
   "metadata": {},
   "outputs": [],
   "source": []
  }
 ],
 "metadata": {
  "kernelspec": {
   "display_name": "Python 3",
   "language": "python",
   "name": "python3"
  },
  "language_info": {
   "codemirror_mode": {
    "name": "ipython",
    "version": 3
   },
   "file_extension": ".py",
   "mimetype": "text/x-python",
   "name": "python",
   "nbconvert_exporter": "python",
   "pygments_lexer": "ipython3",
   "version": "3.9.7"
  },
  "toc": {
   "base_numbering": 1,
   "nav_menu": {},
   "number_sections": false,
   "sideBar": true,
   "skip_h1_title": false,
   "title_cell": "Table of Contents",
   "title_sidebar": "Contents",
   "toc_cell": false,
   "toc_position": {},
   "toc_section_display": true,
   "toc_window_display": false
  },
  "varInspector": {
   "cols": {
    "lenName": 16,
    "lenType": 16,
    "lenVar": 40
   },
   "kernels_config": {
    "python": {
     "delete_cmd_postfix": "",
     "delete_cmd_prefix": "del ",
     "library": "var_list.py",
     "varRefreshCmd": "print(var_dic_list())"
    },
    "r": {
     "delete_cmd_postfix": ") ",
     "delete_cmd_prefix": "rm(",
     "library": "var_list.r",
     "varRefreshCmd": "cat(var_dic_list()) "
    }
   },
   "types_to_exclude": [
    "module",
    "function",
    "builtin_function_or_method",
    "instance",
    "_Feature"
   ],
   "window_display": false
  }
 },
 "nbformat": 4,
 "nbformat_minor": 5
}
