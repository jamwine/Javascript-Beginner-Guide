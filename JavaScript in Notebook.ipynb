{
 "cells": [
  {
   "cell_type": "markdown",
   "id": "de2908a7",
   "metadata": {},
   "source": [
    "# JavaScript Basics"
   ]
  },
  {
   "cell_type": "markdown",
   "id": "3ce77166",
   "metadata": {},
   "source": [
    "* By utilizing the **%%javascript** magic, we can run Javascript on Jupyter Notebooks and use the **console** for viewing output.\n",
    "\n",
    "\n",
    "* Right-click and select **Inspect** to open the console.\n",
    "\n",
    "<img width=\"860%\" src=\"imgs/jupyter_console.png\" alt=\"jupyter_console.png\">\n"
   ]
  },
  {
   "cell_type": "markdown",
   "id": "713d8b50",
   "metadata": {
    "heading_collapsed": true
   },
   "source": [
    "## Comments in Javascript"
   ]
  },
  {
   "cell_type": "markdown",
   "id": "3371e196",
   "metadata": {
    "hidden": true
   },
   "source": [
    "There are two varieties of comments in JavaScript: \n",
    "\n",
    "* Single-line comments \n",
    "* Multi-line comments"
   ]
  },
  {
   "cell_type": "code",
   "execution_count": null,
   "id": "2d2c74e0",
   "metadata": {
    "hidden": true
   },
   "outputs": [],
   "source": [
    "%%javascript\n",
    "\n",
    "// Single-line comment, all the content of this cell will be interpreted as Javascript code"
   ]
  },
  {
   "cell_type": "code",
   "execution_count": null,
   "id": "8e354fff",
   "metadata": {
    "hidden": true
   },
   "outputs": [],
   "source": [
    "%%javascript\n",
    "\n",
    "/*\n",
    "this is a multi-line comment\n",
    "the code within this cell will be interpreted as Javascript code\n",
    "*/\n",
    "\n",
    "console.log(\"Hello from Jupyter Notebook!\");"
   ]
  },
  {
   "cell_type": "code",
   "execution_count": null,
   "id": "b0ee984b",
   "metadata": {
    "hidden": true
   },
   "outputs": [],
   "source": [
    "%%javascript\n",
    "\n",
    "// Styling the console output by using valid CSS code\n",
    "console.log(\"%cHello from Jupyter Notebook!\", \"color: white; font-size: 15px\");"
   ]
  },
  {
   "cell_type": "markdown",
   "id": "99b8a1c8",
   "metadata": {
    "hidden": true
   },
   "source": [
    "Adding `%c` right after the `\"` character allowed us to style the words in the console output."
   ]
  },
  {
   "cell_type": "code",
   "execution_count": null,
   "id": "5188ab25",
   "metadata": {
    "hidden": true
   },
   "outputs": [],
   "source": [
    "%%javascript\n",
    "\n",
    "// calling the alert box\n",
    "alert(\"hello\");"
   ]
  },
  {
   "cell_type": "markdown",
   "id": "47493a73",
   "metadata": {
    "heading_collapsed": true
   },
   "source": [
    "## Variables"
   ]
  },
  {
   "cell_type": "code",
   "execution_count": 62,
   "id": "ca8d60d5",
   "metadata": {
    "hidden": true
   },
   "outputs": [
    {
     "data": {
      "application/javascript": [
       "\n",
       "// Defining variables x, y, z\n",
       "\n",
       "var x = 10 // integer\n",
       "var y = true // boolean\n",
       "var z = 'Learn' // string\n",
       "\n",
       "// Printing variables on console output in a single line\n",
       "console.log(x, y, z, '\\n')\n"
      ],
      "text/plain": [
       "<IPython.core.display.Javascript object>"
      ]
     },
     "metadata": {},
     "output_type": "display_data"
    }
   ],
   "source": [
    "%%javascript\n",
    "\n",
    "// Defining variables x, y, z\n",
    "\n",
    "var x = 10 // integer\n",
    "var y = true // boolean\n",
    "var z = 'Learn' // string\n",
    "\n",
    "// Printing variables on console output in a single line\n",
    "console.log(x, y, z)"
   ]
  },
  {
   "cell_type": "code",
   "execution_count": 63,
   "id": "1b60e524",
   "metadata": {
    "hidden": true
   },
   "outputs": [
    {
     "data": {
      "application/javascript": [
       "\n",
       "var message_1 = 'Welcome Jamwine..';\n",
       "var message_2 = \"Hello from Jupyter Notebook!\";\n",
       "\n",
       "console.log(message_1, message_2, '\\n');\n"
      ],
      "text/plain": [
       "<IPython.core.display.Javascript object>"
      ]
     },
     "metadata": {},
     "output_type": "display_data"
    }
   ],
   "source": [
    "%%javascript\n",
    "\n",
    "var message_1 = 'Welcome Jamwine..';\n",
    "var message_2 = \"Hello from Jupyter Notebook!\";\n",
    "\n",
    "console.log(message_1, message_2);"
   ]
  },
  {
   "cell_type": "code",
   "execution_count": 65,
   "id": "a8505bb4",
   "metadata": {
    "hidden": true
   },
   "outputs": [
    {
     "data": {
      "application/javascript": [
       "\n",
       "var name = \"Jamwine\";\n",
       "\n",
       "// concatenating strings using + operator\n",
       "var message_1 = \"Welcome \" + name + \"..\";\n",
       "var message_2 = \"Hello from Jupyter Notebook!\"\n",
       "\n",
       "/* Use backticks (``) for accessing variables within strings.\n",
       "   To access a variable: wrap it in curly braces ({}) preceded by a dollar sign ($).\n",
       "   For example: `Hey ${name}..`\n",
       "*/\n",
       "var message_3 = `How are you ${name}?`;\n",
       "\n",
       "console.log(message_1, message_2, '\\n', message_3)\n"
      ],
      "text/plain": [
       "<IPython.core.display.Javascript object>"
      ]
     },
     "metadata": {},
     "output_type": "display_data"
    }
   ],
   "source": [
    "%%javascript\n",
    "\n",
    "var name = \"Jamwine\";\n",
    "\n",
    "// concatenating strings using + operator\n",
    "var message_1 = \"Welcome \" + name + \"..\";\n",
    "var message_2 = \"Hello from Jupyter Notebook!\"\n",
    "\n",
    "/* Use backticks (``) for accessing variables within strings.\n",
    "   To access a variable: wrap it in curly braces ({}) preceded by a dollar sign ($).\n",
    "   For example: `Hey ${name}..`\n",
    "*/\n",
    "var message_3 = `How are you ${name}?`;\n",
    "\n",
    "console.log(message_1, message_2, '\\n', message_3);"
   ]
  },
  {
   "cell_type": "markdown",
   "id": "3059ae81",
   "metadata": {
    "hidden": true
   },
   "source": [
    "These variables are called **placeholders** within the string which are replaced with the values of the variables."
   ]
  },
  {
   "cell_type": "code",
   "execution_count": 72,
   "id": "a55b7c9c",
   "metadata": {
    "hidden": true
   },
   "outputs": [
    {
     "data": {
      "application/javascript": [
       "\n",
       "var name = \"Jamwine\"\n",
       "var message_1 = `%cGreetings ${name}!`\n",
       "var css_style = \"color: white; font-size: 20px\"\n",
       "\n",
       "console.log(message_1, css_style)\n"
      ],
      "text/plain": [
       "<IPython.core.display.Javascript object>"
      ]
     },
     "metadata": {},
     "output_type": "display_data"
    }
   ],
   "source": [
    "%%javascript\n",
    "\n",
    "var name = \"Jamwine\"\n",
    "var message_1 = `%cGreetings ${name}!`\n",
    "var css_style = \"color: white; font-size: 20px\"\n",
    "\n",
    "console.log(message_1, css_style)"
   ]
  },
  {
   "cell_type": "markdown",
   "id": "c6101896",
   "metadata": {},
   "source": [
    "## Operations"
   ]
  },
  {
   "cell_type": "markdown",
   "id": "c1ed890f",
   "metadata": {},
   "source": [
    "### Arithmetic Operations"
   ]
  },
  {
   "cell_type": "code",
   "execution_count": 73,
   "id": "a89a51e3",
   "metadata": {},
   "outputs": [
    {
     "data": {
      "application/javascript": [
       "\n",
       "var a = 11 + 5;  // addition\n",
       "console.log(`Addition 11+5 :${a}`);\n",
       "\n",
       "var b = 11 - 5  // subtraction\n",
       "console.log(`Subtraction 11-5 :`, b)\n",
       "\n",
       "var c = 11 * 5  // multiplication\n",
       "console.log(`Multiplication 11*5 :`, c)\n",
       "\n",
       "var d = 11 / 5  // division\n",
       "console.log(`Division 11/5 :`, d)\n",
       "\n",
       "var e = 11 % 5  // (modulus) returns remainder as result\n",
       "console.log(`Division (% returns remainder) 11%5 :`, e)\n",
       "\n",
       "var f = 11**5  // exponents\n",
       "console.log(`Exponent 11**5 :`, f)\n"
      ],
      "text/plain": [
       "<IPython.core.display.Javascript object>"
      ]
     },
     "metadata": {},
     "output_type": "display_data"
    }
   ],
   "source": [
    "%%javascript\n",
    "\n",
    "var a = 11 + 5;  // addition\n",
    "console.log(`Addition 11+5 :${a}`);\n",
    "\n",
    "var b = 11 - 5  // subtraction\n",
    "console.log(`Subtraction 11-5 :`, b)\n",
    "\n",
    "var c = 11 * 5  // multiplication\n",
    "console.log(`Multiplication 11*5 :`, c)\n",
    "\n",
    "var d = 11 / 5  // division\n",
    "console.log(`Division 11/5 :`, d)\n",
    "\n",
    "var e = 11 % 5  // (modulus) returns remainder as result\n",
    "console.log(`Division (% returns remainder) 11%5 :`, e)\n",
    "\n",
    "var f = 11**5  // exponents\n",
    "console.log(`Exponent 11**5 :`, f)"
   ]
  },
  {
   "cell_type": "markdown",
   "id": "d3212ab2",
   "metadata": {},
   "source": [
    "### Boolean Operations"
   ]
  },
  {
   "cell_type": "markdown",
   "id": "80ec5f0f",
   "metadata": {},
   "source": [
    "* Logical **AND** operator: `&&`\n",
    "\n",
    "* Logical **OR** operator: `||` \n",
    "\n",
    "* Logical **NOT** operator: `!` "
   ]
  },
  {
   "cell_type": "code",
   "execution_count": 76,
   "id": "68246cb5",
   "metadata": {},
   "outputs": [
    {
     "data": {
      "application/javascript": [
       "\n",
       "console.log(`11 is greater than 5: ${11 > 5}`); // greater than\n",
       "console.log(`11 is less than 5: ${11 < 5}`); // less than\n",
       "\n",
       "console.log(`11 is lesser than or equal to  5: ${11 <= 5}`)  // less than equal to\n",
       "console.log(`11 is greater than or equal to 5: ${11 >= 5}`)  // greater than equal to\n",
       "\n",
       "console.log(`11 is equal to 5: ${11 == 5}`)  // equal to\n",
       "console.log(`11 is not equal to 5: ${11 != 5}`)  // not equal to\n"
      ],
      "text/plain": [
       "<IPython.core.display.Javascript object>"
      ]
     },
     "metadata": {},
     "output_type": "display_data"
    }
   ],
   "source": [
    "%%javascript\n",
    "\n",
    "console.log(`11 is greater than 5: ${11 > 5}`); // greater than\n",
    "console.log(`11 is less than 5: ${11 < 5}`); // less than\n",
    "\n",
    "console.log(`11 is lesser than or equal to  5: ${11 <= 5}`)  // less than equal to\n",
    "console.log(`11 is greater than or equal to 5: ${11 >= 5}`)  // greater than equal to\n",
    "\n",
    "console.log(`11 is equal to 5: ${11 == 5}`)  // equal to\n",
    "console.log(`11 is not equal to 5: ${11 != 5}`)  // not equal to"
   ]
  },
  {
   "cell_type": "code",
   "execution_count": 80,
   "id": "36fe80d2",
   "metadata": {},
   "outputs": [
    {
     "data": {
      "application/javascript": [
       "\n",
       "/* AND: Returns true only if both conditions are true\n",
       "   OR: Returns true if either one of both the conditions is true\n",
       "   NOT: reverses the result\n",
       "*/\n",
       "\n",
       "console.log(`11>5 || 11<5: ${11 > 5 || 11 < 5}`)\n",
       "console.log(`11>5 && 11<5: ${11 > 5 && 11 < 5}`)\n",
       "\n",
       "console.log(`false || true: ${false || true}`)\n",
       "console.log(`false && true: ${false && true}`)\n",
       "\n",
       "console.log(`!true: ${!true}`)\n",
       "console.log(`!false: ${!false}`)\n"
      ],
      "text/plain": [
       "<IPython.core.display.Javascript object>"
      ]
     },
     "metadata": {},
     "output_type": "display_data"
    }
   ],
   "source": [
    "%%javascript\n",
    "\n",
    "/* AND: Returns true only if both conditions are true\n",
    "   OR: Returns true if either one of both the conditions is true\n",
    "   NOT: reverses the result\n",
    "*/\n",
    "\n",
    "console.log(`11>5 || 11<5: ${11 > 5 || 11 < 5}`)\n",
    "console.log(`11>5 && 11<5: ${11 > 5 && 11 < 5}`)\n",
    "\n",
    "console.log(`false || true: ${false || true}`)\n",
    "console.log(`false && true: ${false && true}`)\n",
    "\n",
    "console.log(`!true: ${!true}`)\n",
    "console.log(`!false: ${!false}`)"
   ]
  },
  {
   "cell_type": "code",
   "execution_count": null,
   "id": "2eb0dff2",
   "metadata": {},
   "outputs": [],
   "source": []
  },
  {
   "cell_type": "code",
   "execution_count": null,
   "id": "112d8943",
   "metadata": {},
   "outputs": [],
   "source": []
  },
  {
   "cell_type": "markdown",
   "id": "e79a4ada",
   "metadata": {},
   "source": [
    "## Readings\n",
    "### Python-Javascript Integration\n",
    "* https://towardsdatascience.com/introducing-notebookjs-seamless-integration-between-python-and-javascript-in-computational-e654ec3fbd18\n",
    "\n",
    "### Visualization\n",
    "* https://livingwithmachines.ac.uk/d3-javascript-visualisation-in-a-python-jupyter-notebook/\n",
    "* https://www.stefaanlippens.net/jupyter-custom-d3-visualization.html\n",
    "* https://towardsdatascience.com/javascript-charts-on-jupyter-notebooks-dd25f794cf6a"
   ]
  },
  {
   "cell_type": "markdown",
   "id": "3396e72a",
   "metadata": {},
   "source": [
    "https://www.tutorialstonight.com/javascript-string-format.php"
   ]
  },
  {
   "cell_type": "code",
   "execution_count": null,
   "id": "d7665e21",
   "metadata": {},
   "outputs": [],
   "source": [
    "# from IPython.display import display, Javascript, HTML"
   ]
  },
  {
   "cell_type": "code",
   "execution_count": null,
   "id": "ec64b5b0",
   "metadata": {},
   "outputs": [],
   "source": []
  }
 ],
 "metadata": {
  "kernelspec": {
   "display_name": "Python 3",
   "language": "python",
   "name": "python3"
  },
  "language_info": {
   "codemirror_mode": {
    "name": "ipython",
    "version": 3
   },
   "file_extension": ".py",
   "mimetype": "text/x-python",
   "name": "python",
   "nbconvert_exporter": "python",
   "pygments_lexer": "ipython3",
   "version": "3.9.7"
  },
  "toc": {
   "base_numbering": 1,
   "nav_menu": {},
   "number_sections": false,
   "sideBar": true,
   "skip_h1_title": false,
   "title_cell": "Table of Contents",
   "title_sidebar": "Contents",
   "toc_cell": false,
   "toc_position": {},
   "toc_section_display": true,
   "toc_window_display": false
  },
  "varInspector": {
   "cols": {
    "lenName": 16,
    "lenType": 16,
    "lenVar": 40
   },
   "kernels_config": {
    "python": {
     "delete_cmd_postfix": "",
     "delete_cmd_prefix": "del ",
     "library": "var_list.py",
     "varRefreshCmd": "print(var_dic_list())"
    },
    "r": {
     "delete_cmd_postfix": ") ",
     "delete_cmd_prefix": "rm(",
     "library": "var_list.r",
     "varRefreshCmd": "cat(var_dic_list()) "
    }
   },
   "types_to_exclude": [
    "module",
    "function",
    "builtin_function_or_method",
    "instance",
    "_Feature"
   ],
   "window_display": false
  }
 },
 "nbformat": 4,
 "nbformat_minor": 5
}
