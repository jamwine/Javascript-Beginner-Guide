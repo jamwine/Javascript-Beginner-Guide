{
 "cells": [
  {
   "cell_type": "markdown",
   "id": "de2908a7",
   "metadata": {},
   "source": [
    "# JavaScript Basics"
   ]
  },
  {
   "cell_type": "markdown",
   "id": "3ce77166",
   "metadata": {},
   "source": [
    "* By utilizing the **%%javascript** magic, we can run Javascript on Jupyter Notebooks and use the **console** for viewing output.\n",
    "\n",
    "\n",
    "* Right-click and select **Inspect** to open the console.\n",
    "\n",
    "<img width=\"860%\" src=\"imgs/jupyter_console.png\" alt=\"jupyter_console.png\">\n"
   ]
  },
  {
   "cell_type": "markdown",
   "id": "713d8b50",
   "metadata": {
    "heading_collapsed": true
   },
   "source": [
    "## Comments in Javascript"
   ]
  },
  {
   "cell_type": "markdown",
   "id": "3371e196",
   "metadata": {
    "hidden": true
   },
   "source": [
    "There are two varieties of comments in JavaScript: \n",
    "\n",
    "* Single-line comments \n",
    "* Multi-line comments"
   ]
  },
  {
   "cell_type": "code",
   "execution_count": null,
   "id": "2d2c74e0",
   "metadata": {
    "hidden": true
   },
   "outputs": [],
   "source": [
    "%%javascript\n",
    "\n",
    "// Single-line comment, all the content of this cell will be interpreted as Javascript code"
   ]
  },
  {
   "cell_type": "code",
   "execution_count": null,
   "id": "8e354fff",
   "metadata": {
    "hidden": true
   },
   "outputs": [],
   "source": [
    "%%javascript\n",
    "\n",
    "/*\n",
    "this is a multi-line comment\n",
    "the code within this cell will be interpreted as Javascript code\n",
    "*/\n",
    "console.log(\"Hello from Jupyter Notebook!\");"
   ]
  },
  {
   "cell_type": "code",
   "execution_count": null,
   "id": "b0ee984b",
   "metadata": {
    "hidden": true
   },
   "outputs": [],
   "source": [
    "%%javascript\n",
    "\n",
    "// Styling the console output by using valid CSS code\n",
    "console.log(\"%cHello from Jupyter Notebook!\", \"color: white; font-size: 15px\");"
   ]
  },
  {
   "cell_type": "markdown",
   "id": "99b8a1c8",
   "metadata": {
    "hidden": true
   },
   "source": [
    "Adding `%c` right after the `\"` character allowed us to style the words in the console output."
   ]
  },
  {
   "cell_type": "code",
   "execution_count": null,
   "id": "5188ab25",
   "metadata": {
    "hidden": true
   },
   "outputs": [],
   "source": [
    "%%javascript\n",
    "\n",
    "// calling the alert box\n",
    "alert(\"hello\");"
   ]
  },
  {
   "cell_type": "markdown",
   "id": "47493a73",
   "metadata": {},
   "source": [
    "## Variables"
   ]
  },
  {
   "cell_type": "code",
   "execution_count": 126,
   "id": "1b60e524",
   "metadata": {},
   "outputs": [
    {
     "data": {
      "application/javascript": [
       "\n",
       "// Defining variables message_1, message_2\n",
       "var message_1 = 'Welcome Jamwine..';\n",
       "var message_2 = \"Hello from Jupyter Notebook!\";\n",
       "\n",
       "// Printing both messages together\n",
       "console.log(message_1, message_2);\n"
      ],
      "text/plain": [
       "<IPython.core.display.Javascript object>"
      ]
     },
     "metadata": {},
     "output_type": "display_data"
    }
   ],
   "source": [
    "%%javascript\n",
    "\n",
    "// Defining variables message_1, message_2\n",
    "var message_1 = 'Welcome Jamwine..';\n",
    "var message_2 = \"Hello from Jupyter Notebook!\";\n",
    "\n",
    "// Printing both messages together\n",
    "console.log(message_1, message_2);"
   ]
  },
  {
   "cell_type": "code",
   "execution_count": 127,
   "id": "a8505bb4",
   "metadata": {},
   "outputs": [
    {
     "data": {
      "application/javascript": [
       "\n",
       "var name = \"Jamwine\";\n",
       "// concatenating strings using + operator\n",
       "var message_1 = \"Welcome \" + name + \"..\";\n",
       "var message_2 = \"Hello from Jupyter Notebook!\";\n",
       "\n",
       "console.log(message_1, message_2);\n"
      ],
      "text/plain": [
       "<IPython.core.display.Javascript object>"
      ]
     },
     "metadata": {},
     "output_type": "display_data"
    }
   ],
   "source": [
    "%%javascript\n",
    "\n",
    "var name = \"Jamwine\";\n",
    "// concatenating strings using + operator\n",
    "var message_1 = \"Welcome \" + name + \"..\";\n",
    "var message_2 = \"Hello from Jupyter Notebook!\";\n",
    "\n",
    "console.log(message_1, message_2);"
   ]
  },
  {
   "cell_type": "code",
   "execution_count": 128,
   "id": "a89a51e3",
   "metadata": {},
   "outputs": [
    {
     "data": {
      "application/javascript": [
       "\n",
       "var name = \"Jamwine\";\n",
       "\n",
       "/* Use backticks (``) for accessing variables within strings.\n",
       "   To access a variable: wrap it in curly braces ({}) preceded by a dollar sign ($).\n",
       "   For example: `Hey ${name}..`\n",
       "*/\n",
       "var message_1 = `Welcome ${name}..`;\n",
       "var message_2 = 'Hello from Jupyter Notebook!';\n",
       "\n",
       "console.log(message_1, message_2);\n"
      ],
      "text/plain": [
       "<IPython.core.display.Javascript object>"
      ]
     },
     "metadata": {},
     "output_type": "display_data"
    }
   ],
   "source": [
    "%%javascript\n",
    "\n",
    "var name = \"Jamwine\";\n",
    "\n",
    "/* Use backticks (``) for accessing variables within strings.\n",
    "   To access a variable: wrap it in curly braces ({}) preceded by a dollar sign ($).\n",
    "   For example: `Hey ${name}..`\n",
    "*/\n",
    "var message_1 = `Welcome ${name}..`;\n",
    "var message_2 = 'Hello from Jupyter Notebook!';\n",
    "\n",
    "console.log(message_1, message_2);"
   ]
  },
  {
   "cell_type": "markdown",
   "id": "3059ae81",
   "metadata": {},
   "source": [
    "These variables are called **placeholders** within the string which are replaced with the values of the variables."
   ]
  },
  {
   "cell_type": "code",
   "execution_count": 129,
   "id": "a55b7c9c",
   "metadata": {},
   "outputs": [
    {
     "data": {
      "application/javascript": [
       "\n",
       "var name = \"Jamwine\"\n",
       "var message = `%cWelcome ${name}..Hello from Jupyter Notebook!`\n",
       "var css_style = \"color: white; font-size: 20px\"\n",
       "\n",
       "console.log(message, css_style);\n"
      ],
      "text/plain": [
       "<IPython.core.display.Javascript object>"
      ]
     },
     "metadata": {},
     "output_type": "display_data"
    }
   ],
   "source": [
    "%%javascript\n",
    "\n",
    "var name = \"Jamwine\"\n",
    "var message = `%cWelcome ${name}..Hello from Jupyter Notebook!`\n",
    "var css_style = \"color: white; font-size: 20px\"\n",
    "\n",
    "console.log(message, css_style);"
   ]
  },
  {
   "cell_type": "code",
   "execution_count": null,
   "id": "32efe44e",
   "metadata": {},
   "outputs": [],
   "source": []
  },
  {
   "cell_type": "code",
   "execution_count": null,
   "id": "0d23a0b6",
   "metadata": {},
   "outputs": [],
   "source": []
  },
  {
   "cell_type": "code",
   "execution_count": null,
   "id": "f013bc97",
   "metadata": {},
   "outputs": [],
   "source": []
  },
  {
   "cell_type": "code",
   "execution_count": null,
   "id": "36fe80d2",
   "metadata": {},
   "outputs": [],
   "source": []
  },
  {
   "cell_type": "code",
   "execution_count": null,
   "id": "2eb0dff2",
   "metadata": {},
   "outputs": [],
   "source": []
  },
  {
   "cell_type": "code",
   "execution_count": null,
   "id": "112d8943",
   "metadata": {},
   "outputs": [],
   "source": []
  },
  {
   "cell_type": "markdown",
   "id": "3396e72a",
   "metadata": {},
   "source": [
    "https://www.tutorialstonight.com/javascript-string-format.php"
   ]
  },
  {
   "cell_type": "code",
   "execution_count": null,
   "id": "d7665e21",
   "metadata": {},
   "outputs": [],
   "source": [
    "# from IPython.display import display, Javascript, HTML"
   ]
  },
  {
   "cell_type": "markdown",
   "id": "e79a4ada",
   "metadata": {},
   "source": [
    "## Readings\n",
    "### Python-Javascript Integration\n",
    "* https://towardsdatascience.com/introducing-notebookjs-seamless-integration-between-python-and-javascript-in-computational-e654ec3fbd18\n",
    "\n",
    "### Visualization\n",
    "* https://livingwithmachines.ac.uk/d3-javascript-visualisation-in-a-python-jupyter-notebook/\n",
    "* https://www.stefaanlippens.net/jupyter-custom-d3-visualization.html\n",
    "* https://towardsdatascience.com/javascript-charts-on-jupyter-notebooks-dd25f794cf6a"
   ]
  },
  {
   "cell_type": "code",
   "execution_count": null,
   "id": "ec64b5b0",
   "metadata": {},
   "outputs": [],
   "source": []
  }
 ],
 "metadata": {
  "kernelspec": {
   "display_name": "Python 3",
   "language": "python",
   "name": "python3"
  },
  "language_info": {
   "codemirror_mode": {
    "name": "ipython",
    "version": 3
   },
   "file_extension": ".py",
   "mimetype": "text/x-python",
   "name": "python",
   "nbconvert_exporter": "python",
   "pygments_lexer": "ipython3",
   "version": "3.9.7"
  },
  "toc": {
   "base_numbering": 1,
   "nav_menu": {},
   "number_sections": false,
   "sideBar": true,
   "skip_h1_title": false,
   "title_cell": "Table of Contents",
   "title_sidebar": "Contents",
   "toc_cell": false,
   "toc_position": {},
   "toc_section_display": true,
   "toc_window_display": false
  },
  "varInspector": {
   "cols": {
    "lenName": 16,
    "lenType": 16,
    "lenVar": 40
   },
   "kernels_config": {
    "python": {
     "delete_cmd_postfix": "",
     "delete_cmd_prefix": "del ",
     "library": "var_list.py",
     "varRefreshCmd": "print(var_dic_list())"
    },
    "r": {
     "delete_cmd_postfix": ") ",
     "delete_cmd_prefix": "rm(",
     "library": "var_list.r",
     "varRefreshCmd": "cat(var_dic_list()) "
    }
   },
   "types_to_exclude": [
    "module",
    "function",
    "builtin_function_or_method",
    "instance",
    "_Feature"
   ],
   "window_display": false
  }
 },
 "nbformat": 4,
 "nbformat_minor": 5
}
